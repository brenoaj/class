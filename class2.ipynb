{
  "nbformat": 4,
  "nbformat_minor": 0,
  "metadata": {
    "_change_revision": 0,
    "_is_fork": false,
    "kernelspec": {
      "display_name": "Python 3",
      "language": "python",
      "name": "python3"
    },
    "language_info": {
      "codemirror_mode": {
        "name": "ipython",
        "version": 3
      },
      "file_extension": ".py",
      "mimetype": "text/x-python",
      "name": "python",
      "nbconvert_exporter": "python",
      "pygments_lexer": "ipython3",
      "version": "3.7.3"
    },
    "colab": {
      "name": "Feature Selection for House Prices.ipynb",
      "provenance": []
    }
  },
  "cells": [
    {
      "cell_type": "markdown",
      "metadata": {
        "id": "NpB61wba-b8d",
        "colab_type": "text"
      },
      "source": [
        "# Feature Selection Techniques - House Prices"
      ]
    },
    {
      "cell_type": "markdown",
      "metadata": {
        "_cell_guid": "6fc79172-6e3c-2235-e6e4-475ec06ec402",
        "id": "2gyqeQf4-b8e",
        "colab_type": "text"
      },
      "source": [
        "Home values are influenced by many factors. Basically, there are two major aspects:\n",
        "\n",
        " 1. The environmental information, including location, local economy, school district, air quality, etc.\n",
        " 2. The characteristics information of the property, such as lot size, house size and age, the number of rooms, heating / AC systems, garage, and so on.\n",
        "\n",
        "When people consider buying homes, usually the location has been constrained to a certain area such as not too far from the workplace. \n",
        "\n",
        "**With location factor pretty much fixed, the property characteristics information weights more in the home prices**. \n",
        "\n",
        "There are many factors describing the condition of a house, and they do not weigh equally in determining the home value. I present a feature selection process to examine the key features affecting their values.\n"
      ]
    },
    {
      "cell_type": "code",
      "metadata": {
        "_cell_guid": "7bfa8b4f-fd86-8004-7f51-cc6a229adfbc",
        "id": "wB283-7G-b8f",
        "colab_type": "code",
        "colab": {}
      },
      "source": [
        "import numpy as np \n",
        "import pandas as pd \n",
        "import seaborn as sns\n",
        "import matplotlib.pyplot as plt\n",
        "%matplotlib inline\n",
        "\n",
        "import warnings\n",
        "%config InlineBackend.figure_format = 'png' #set 'png' here when working on notebook\n",
        "warnings.filterwarnings('ignore') "
      ],
      "execution_count": null,
      "outputs": []
    },
    {
      "cell_type": "code",
      "metadata": {
        "_cell_guid": "ce03b456-628d-d280-2948-20238b48b909",
        "id": "NBy_fbHr-b8k",
        "colab_type": "code",
        "colab": {}
      },
      "source": [
        "train = pd.read_csv(\"train.csv\")\n",
        "test = pd.read_csv(\"test.csv\")"
      ],
      "execution_count": null,
      "outputs": []
    },
    {
      "cell_type": "code",
      "metadata": {
        "id": "2GLNTpa_-b8p",
        "colab_type": "code",
        "colab": {},
        "outputId": "677bca54-87ed-4c81-a158-db13f1800ef8"
      },
      "source": [
        "train.shape"
      ],
      "execution_count": null,
      "outputs": [
        {
          "output_type": "execute_result",
          "data": {
            "text/plain": [
              "(1460, 81)"
            ]
          },
          "metadata": {
            "tags": []
          },
          "execution_count": 626
        }
      ]
    },
    {
      "cell_type": "code",
      "metadata": {
        "id": "N77fHGJN-b8u",
        "colab_type": "code",
        "colab": {}
      },
      "source": [
        "train = train.set_index(\"Id\")"
      ],
      "execution_count": null,
      "outputs": []
    },
    {
      "cell_type": "code",
      "metadata": {
        "id": "XKjuvq2c-b8z",
        "colab_type": "code",
        "colab": {},
        "outputId": "336344d8-df25-40f1-c343-359ae7feb1dc"
      },
      "source": [
        "test = test.set_index(\"Id\")\n",
        "test"
      ],
      "execution_count": null,
      "outputs": [
        {
          "output_type": "execute_result",
          "data": {
            "text/html": [
              "<div>\n",
              "<style scoped>\n",
              "    .dataframe tbody tr th:only-of-type {\n",
              "        vertical-align: middle;\n",
              "    }\n",
              "\n",
              "    .dataframe tbody tr th {\n",
              "        vertical-align: top;\n",
              "    }\n",
              "\n",
              "    .dataframe thead th {\n",
              "        text-align: right;\n",
              "    }\n",
              "</style>\n",
              "<table border=\"1\" class=\"dataframe\">\n",
              "  <thead>\n",
              "    <tr style=\"text-align: right;\">\n",
              "      <th></th>\n",
              "      <th>MSSubClass</th>\n",
              "      <th>MSZoning</th>\n",
              "      <th>LotFrontage</th>\n",
              "      <th>LotArea</th>\n",
              "      <th>Street</th>\n",
              "      <th>Alley</th>\n",
              "      <th>LotShape</th>\n",
              "      <th>LandContour</th>\n",
              "      <th>Utilities</th>\n",
              "      <th>LotConfig</th>\n",
              "      <th>...</th>\n",
              "      <th>ScreenPorch</th>\n",
              "      <th>PoolArea</th>\n",
              "      <th>PoolQC</th>\n",
              "      <th>Fence</th>\n",
              "      <th>MiscFeature</th>\n",
              "      <th>MiscVal</th>\n",
              "      <th>MoSold</th>\n",
              "      <th>YrSold</th>\n",
              "      <th>SaleType</th>\n",
              "      <th>SaleCondition</th>\n",
              "    </tr>\n",
              "    <tr>\n",
              "      <th>Id</th>\n",
              "      <th></th>\n",
              "      <th></th>\n",
              "      <th></th>\n",
              "      <th></th>\n",
              "      <th></th>\n",
              "      <th></th>\n",
              "      <th></th>\n",
              "      <th></th>\n",
              "      <th></th>\n",
              "      <th></th>\n",
              "      <th></th>\n",
              "      <th></th>\n",
              "      <th></th>\n",
              "      <th></th>\n",
              "      <th></th>\n",
              "      <th></th>\n",
              "      <th></th>\n",
              "      <th></th>\n",
              "      <th></th>\n",
              "      <th></th>\n",
              "      <th></th>\n",
              "    </tr>\n",
              "  </thead>\n",
              "  <tbody>\n",
              "    <tr>\n",
              "      <th>1461</th>\n",
              "      <td>20</td>\n",
              "      <td>RH</td>\n",
              "      <td>80.0</td>\n",
              "      <td>11622</td>\n",
              "      <td>Pave</td>\n",
              "      <td>NaN</td>\n",
              "      <td>Reg</td>\n",
              "      <td>Lvl</td>\n",
              "      <td>AllPub</td>\n",
              "      <td>Inside</td>\n",
              "      <td>...</td>\n",
              "      <td>120</td>\n",
              "      <td>0</td>\n",
              "      <td>NaN</td>\n",
              "      <td>MnPrv</td>\n",
              "      <td>NaN</td>\n",
              "      <td>0</td>\n",
              "      <td>6</td>\n",
              "      <td>2010</td>\n",
              "      <td>WD</td>\n",
              "      <td>Normal</td>\n",
              "    </tr>\n",
              "    <tr>\n",
              "      <th>1462</th>\n",
              "      <td>20</td>\n",
              "      <td>RL</td>\n",
              "      <td>81.0</td>\n",
              "      <td>14267</td>\n",
              "      <td>Pave</td>\n",
              "      <td>NaN</td>\n",
              "      <td>IR1</td>\n",
              "      <td>Lvl</td>\n",
              "      <td>AllPub</td>\n",
              "      <td>Corner</td>\n",
              "      <td>...</td>\n",
              "      <td>0</td>\n",
              "      <td>0</td>\n",
              "      <td>NaN</td>\n",
              "      <td>NaN</td>\n",
              "      <td>Gar2</td>\n",
              "      <td>12500</td>\n",
              "      <td>6</td>\n",
              "      <td>2010</td>\n",
              "      <td>WD</td>\n",
              "      <td>Normal</td>\n",
              "    </tr>\n",
              "    <tr>\n",
              "      <th>1463</th>\n",
              "      <td>60</td>\n",
              "      <td>RL</td>\n",
              "      <td>74.0</td>\n",
              "      <td>13830</td>\n",
              "      <td>Pave</td>\n",
              "      <td>NaN</td>\n",
              "      <td>IR1</td>\n",
              "      <td>Lvl</td>\n",
              "      <td>AllPub</td>\n",
              "      <td>Inside</td>\n",
              "      <td>...</td>\n",
              "      <td>0</td>\n",
              "      <td>0</td>\n",
              "      <td>NaN</td>\n",
              "      <td>MnPrv</td>\n",
              "      <td>NaN</td>\n",
              "      <td>0</td>\n",
              "      <td>3</td>\n",
              "      <td>2010</td>\n",
              "      <td>WD</td>\n",
              "      <td>Normal</td>\n",
              "    </tr>\n",
              "    <tr>\n",
              "      <th>1464</th>\n",
              "      <td>60</td>\n",
              "      <td>RL</td>\n",
              "      <td>78.0</td>\n",
              "      <td>9978</td>\n",
              "      <td>Pave</td>\n",
              "      <td>NaN</td>\n",
              "      <td>IR1</td>\n",
              "      <td>Lvl</td>\n",
              "      <td>AllPub</td>\n",
              "      <td>Inside</td>\n",
              "      <td>...</td>\n",
              "      <td>0</td>\n",
              "      <td>0</td>\n",
              "      <td>NaN</td>\n",
              "      <td>NaN</td>\n",
              "      <td>NaN</td>\n",
              "      <td>0</td>\n",
              "      <td>6</td>\n",
              "      <td>2010</td>\n",
              "      <td>WD</td>\n",
              "      <td>Normal</td>\n",
              "    </tr>\n",
              "    <tr>\n",
              "      <th>1465</th>\n",
              "      <td>120</td>\n",
              "      <td>RL</td>\n",
              "      <td>43.0</td>\n",
              "      <td>5005</td>\n",
              "      <td>Pave</td>\n",
              "      <td>NaN</td>\n",
              "      <td>IR1</td>\n",
              "      <td>HLS</td>\n",
              "      <td>AllPub</td>\n",
              "      <td>Inside</td>\n",
              "      <td>...</td>\n",
              "      <td>144</td>\n",
              "      <td>0</td>\n",
              "      <td>NaN</td>\n",
              "      <td>NaN</td>\n",
              "      <td>NaN</td>\n",
              "      <td>0</td>\n",
              "      <td>1</td>\n",
              "      <td>2010</td>\n",
              "      <td>WD</td>\n",
              "      <td>Normal</td>\n",
              "    </tr>\n",
              "    <tr>\n",
              "      <th>...</th>\n",
              "      <td>...</td>\n",
              "      <td>...</td>\n",
              "      <td>...</td>\n",
              "      <td>...</td>\n",
              "      <td>...</td>\n",
              "      <td>...</td>\n",
              "      <td>...</td>\n",
              "      <td>...</td>\n",
              "      <td>...</td>\n",
              "      <td>...</td>\n",
              "      <td>...</td>\n",
              "      <td>...</td>\n",
              "      <td>...</td>\n",
              "      <td>...</td>\n",
              "      <td>...</td>\n",
              "      <td>...</td>\n",
              "      <td>...</td>\n",
              "      <td>...</td>\n",
              "      <td>...</td>\n",
              "      <td>...</td>\n",
              "      <td>...</td>\n",
              "    </tr>\n",
              "    <tr>\n",
              "      <th>2915</th>\n",
              "      <td>160</td>\n",
              "      <td>RM</td>\n",
              "      <td>21.0</td>\n",
              "      <td>1936</td>\n",
              "      <td>Pave</td>\n",
              "      <td>NaN</td>\n",
              "      <td>Reg</td>\n",
              "      <td>Lvl</td>\n",
              "      <td>AllPub</td>\n",
              "      <td>Inside</td>\n",
              "      <td>...</td>\n",
              "      <td>0</td>\n",
              "      <td>0</td>\n",
              "      <td>NaN</td>\n",
              "      <td>NaN</td>\n",
              "      <td>NaN</td>\n",
              "      <td>0</td>\n",
              "      <td>6</td>\n",
              "      <td>2006</td>\n",
              "      <td>WD</td>\n",
              "      <td>Normal</td>\n",
              "    </tr>\n",
              "    <tr>\n",
              "      <th>2916</th>\n",
              "      <td>160</td>\n",
              "      <td>RM</td>\n",
              "      <td>21.0</td>\n",
              "      <td>1894</td>\n",
              "      <td>Pave</td>\n",
              "      <td>NaN</td>\n",
              "      <td>Reg</td>\n",
              "      <td>Lvl</td>\n",
              "      <td>AllPub</td>\n",
              "      <td>Inside</td>\n",
              "      <td>...</td>\n",
              "      <td>0</td>\n",
              "      <td>0</td>\n",
              "      <td>NaN</td>\n",
              "      <td>NaN</td>\n",
              "      <td>NaN</td>\n",
              "      <td>0</td>\n",
              "      <td>4</td>\n",
              "      <td>2006</td>\n",
              "      <td>WD</td>\n",
              "      <td>Abnorml</td>\n",
              "    </tr>\n",
              "    <tr>\n",
              "      <th>2917</th>\n",
              "      <td>20</td>\n",
              "      <td>RL</td>\n",
              "      <td>160.0</td>\n",
              "      <td>20000</td>\n",
              "      <td>Pave</td>\n",
              "      <td>NaN</td>\n",
              "      <td>Reg</td>\n",
              "      <td>Lvl</td>\n",
              "      <td>AllPub</td>\n",
              "      <td>Inside</td>\n",
              "      <td>...</td>\n",
              "      <td>0</td>\n",
              "      <td>0</td>\n",
              "      <td>NaN</td>\n",
              "      <td>NaN</td>\n",
              "      <td>NaN</td>\n",
              "      <td>0</td>\n",
              "      <td>9</td>\n",
              "      <td>2006</td>\n",
              "      <td>WD</td>\n",
              "      <td>Abnorml</td>\n",
              "    </tr>\n",
              "    <tr>\n",
              "      <th>2918</th>\n",
              "      <td>85</td>\n",
              "      <td>RL</td>\n",
              "      <td>62.0</td>\n",
              "      <td>10441</td>\n",
              "      <td>Pave</td>\n",
              "      <td>NaN</td>\n",
              "      <td>Reg</td>\n",
              "      <td>Lvl</td>\n",
              "      <td>AllPub</td>\n",
              "      <td>Inside</td>\n",
              "      <td>...</td>\n",
              "      <td>0</td>\n",
              "      <td>0</td>\n",
              "      <td>NaN</td>\n",
              "      <td>MnPrv</td>\n",
              "      <td>Shed</td>\n",
              "      <td>700</td>\n",
              "      <td>7</td>\n",
              "      <td>2006</td>\n",
              "      <td>WD</td>\n",
              "      <td>Normal</td>\n",
              "    </tr>\n",
              "    <tr>\n",
              "      <th>2919</th>\n",
              "      <td>60</td>\n",
              "      <td>RL</td>\n",
              "      <td>74.0</td>\n",
              "      <td>9627</td>\n",
              "      <td>Pave</td>\n",
              "      <td>NaN</td>\n",
              "      <td>Reg</td>\n",
              "      <td>Lvl</td>\n",
              "      <td>AllPub</td>\n",
              "      <td>Inside</td>\n",
              "      <td>...</td>\n",
              "      <td>0</td>\n",
              "      <td>0</td>\n",
              "      <td>NaN</td>\n",
              "      <td>NaN</td>\n",
              "      <td>NaN</td>\n",
              "      <td>0</td>\n",
              "      <td>11</td>\n",
              "      <td>2006</td>\n",
              "      <td>WD</td>\n",
              "      <td>Normal</td>\n",
              "    </tr>\n",
              "  </tbody>\n",
              "</table>\n",
              "<p>1459 rows × 79 columns</p>\n",
              "</div>"
            ],
            "text/plain": [
              "      MSSubClass MSZoning  LotFrontage  LotArea Street Alley LotShape  \\\n",
              "Id                                                                      \n",
              "1461          20       RH         80.0    11622   Pave   NaN      Reg   \n",
              "1462          20       RL         81.0    14267   Pave   NaN      IR1   \n",
              "1463          60       RL         74.0    13830   Pave   NaN      IR1   \n",
              "1464          60       RL         78.0     9978   Pave   NaN      IR1   \n",
              "1465         120       RL         43.0     5005   Pave   NaN      IR1   \n",
              "...          ...      ...          ...      ...    ...   ...      ...   \n",
              "2915         160       RM         21.0     1936   Pave   NaN      Reg   \n",
              "2916         160       RM         21.0     1894   Pave   NaN      Reg   \n",
              "2917          20       RL        160.0    20000   Pave   NaN      Reg   \n",
              "2918          85       RL         62.0    10441   Pave   NaN      Reg   \n",
              "2919          60       RL         74.0     9627   Pave   NaN      Reg   \n",
              "\n",
              "     LandContour Utilities LotConfig  ... ScreenPorch PoolArea PoolQC  Fence  \\\n",
              "Id                                    ...                                      \n",
              "1461         Lvl    AllPub    Inside  ...         120        0    NaN  MnPrv   \n",
              "1462         Lvl    AllPub    Corner  ...           0        0    NaN    NaN   \n",
              "1463         Lvl    AllPub    Inside  ...           0        0    NaN  MnPrv   \n",
              "1464         Lvl    AllPub    Inside  ...           0        0    NaN    NaN   \n",
              "1465         HLS    AllPub    Inside  ...         144        0    NaN    NaN   \n",
              "...          ...       ...       ...  ...         ...      ...    ...    ...   \n",
              "2915         Lvl    AllPub    Inside  ...           0        0    NaN    NaN   \n",
              "2916         Lvl    AllPub    Inside  ...           0        0    NaN    NaN   \n",
              "2917         Lvl    AllPub    Inside  ...           0        0    NaN    NaN   \n",
              "2918         Lvl    AllPub    Inside  ...           0        0    NaN  MnPrv   \n",
              "2919         Lvl    AllPub    Inside  ...           0        0    NaN    NaN   \n",
              "\n",
              "     MiscFeature MiscVal  MoSold  YrSold  SaleType  SaleCondition  \n",
              "Id                                                                 \n",
              "1461         NaN       0       6    2010        WD         Normal  \n",
              "1462        Gar2   12500       6    2010        WD         Normal  \n",
              "1463         NaN       0       3    2010        WD         Normal  \n",
              "1464         NaN       0       6    2010        WD         Normal  \n",
              "1465         NaN       0       1    2010        WD         Normal  \n",
              "...          ...     ...     ...     ...       ...            ...  \n",
              "2915         NaN       0       6    2006        WD         Normal  \n",
              "2916         NaN       0       4    2006        WD        Abnorml  \n",
              "2917         NaN       0       9    2006        WD        Abnorml  \n",
              "2918        Shed     700       7    2006        WD         Normal  \n",
              "2919         NaN       0      11    2006        WD         Normal  \n",
              "\n",
              "[1459 rows x 79 columns]"
            ]
          },
          "metadata": {
            "tags": []
          },
          "execution_count": 628
        }
      ]
    },
    {
      "cell_type": "markdown",
      "metadata": {
        "_cell_guid": "e67bffce-e4df-d553-1e12-97349d3283fc",
        "id": "7dqMZ3Cd-b82",
        "colab_type": "text"
      },
      "source": [
        "### **Combinar os dois datasets**"
      ]
    },
    {
      "cell_type": "code",
      "metadata": {
        "id": "kk82LuLv-b82",
        "colab_type": "code",
        "colab": {},
        "outputId": "d577f2b0-55f7-49ce-d9c2-8d953d004299"
      },
      "source": [
        "df = pd.concat((train.loc[:,'MSSubClass':'SaleCondition'],\n",
        "                test.loc[:,'MSSubClass':'SaleCondition']), ignore_index=False)"
      ],
      "execution_count": null,
      "outputs": [
        {
          "output_type": "execute_result",
          "data": {
            "text/html": [
              "<div>\n",
              "<style scoped>\n",
              "    .dataframe tbody tr th:only-of-type {\n",
              "        vertical-align: middle;\n",
              "    }\n",
              "\n",
              "    .dataframe tbody tr th {\n",
              "        vertical-align: top;\n",
              "    }\n",
              "\n",
              "    .dataframe thead th {\n",
              "        text-align: right;\n",
              "    }\n",
              "</style>\n",
              "<table border=\"1\" class=\"dataframe\">\n",
              "  <thead>\n",
              "    <tr style=\"text-align: right;\">\n",
              "      <th></th>\n",
              "      <th>MSSubClass</th>\n",
              "      <th>MSZoning</th>\n",
              "      <th>LotFrontage</th>\n",
              "      <th>LotArea</th>\n",
              "      <th>Street</th>\n",
              "      <th>Alley</th>\n",
              "      <th>LotShape</th>\n",
              "      <th>LandContour</th>\n",
              "      <th>Utilities</th>\n",
              "      <th>LotConfig</th>\n",
              "      <th>...</th>\n",
              "      <th>ScreenPorch</th>\n",
              "      <th>PoolArea</th>\n",
              "      <th>PoolQC</th>\n",
              "      <th>Fence</th>\n",
              "      <th>MiscFeature</th>\n",
              "      <th>MiscVal</th>\n",
              "      <th>MoSold</th>\n",
              "      <th>YrSold</th>\n",
              "      <th>SaleType</th>\n",
              "      <th>SaleCondition</th>\n",
              "    </tr>\n",
              "    <tr>\n",
              "      <th>Id</th>\n",
              "      <th></th>\n",
              "      <th></th>\n",
              "      <th></th>\n",
              "      <th></th>\n",
              "      <th></th>\n",
              "      <th></th>\n",
              "      <th></th>\n",
              "      <th></th>\n",
              "      <th></th>\n",
              "      <th></th>\n",
              "      <th></th>\n",
              "      <th></th>\n",
              "      <th></th>\n",
              "      <th></th>\n",
              "      <th></th>\n",
              "      <th></th>\n",
              "      <th></th>\n",
              "      <th></th>\n",
              "      <th></th>\n",
              "      <th></th>\n",
              "      <th></th>\n",
              "    </tr>\n",
              "  </thead>\n",
              "  <tbody>\n",
              "    <tr>\n",
              "      <th>1</th>\n",
              "      <td>60</td>\n",
              "      <td>RL</td>\n",
              "      <td>65.0</td>\n",
              "      <td>8450</td>\n",
              "      <td>Pave</td>\n",
              "      <td>NaN</td>\n",
              "      <td>Reg</td>\n",
              "      <td>Lvl</td>\n",
              "      <td>AllPub</td>\n",
              "      <td>Inside</td>\n",
              "      <td>...</td>\n",
              "      <td>0</td>\n",
              "      <td>0</td>\n",
              "      <td>NaN</td>\n",
              "      <td>NaN</td>\n",
              "      <td>NaN</td>\n",
              "      <td>0</td>\n",
              "      <td>2</td>\n",
              "      <td>2008</td>\n",
              "      <td>WD</td>\n",
              "      <td>Normal</td>\n",
              "    </tr>\n",
              "    <tr>\n",
              "      <th>2</th>\n",
              "      <td>20</td>\n",
              "      <td>RL</td>\n",
              "      <td>80.0</td>\n",
              "      <td>9600</td>\n",
              "      <td>Pave</td>\n",
              "      <td>NaN</td>\n",
              "      <td>Reg</td>\n",
              "      <td>Lvl</td>\n",
              "      <td>AllPub</td>\n",
              "      <td>FR2</td>\n",
              "      <td>...</td>\n",
              "      <td>0</td>\n",
              "      <td>0</td>\n",
              "      <td>NaN</td>\n",
              "      <td>NaN</td>\n",
              "      <td>NaN</td>\n",
              "      <td>0</td>\n",
              "      <td>5</td>\n",
              "      <td>2007</td>\n",
              "      <td>WD</td>\n",
              "      <td>Normal</td>\n",
              "    </tr>\n",
              "    <tr>\n",
              "      <th>3</th>\n",
              "      <td>60</td>\n",
              "      <td>RL</td>\n",
              "      <td>68.0</td>\n",
              "      <td>11250</td>\n",
              "      <td>Pave</td>\n",
              "      <td>NaN</td>\n",
              "      <td>IR1</td>\n",
              "      <td>Lvl</td>\n",
              "      <td>AllPub</td>\n",
              "      <td>Inside</td>\n",
              "      <td>...</td>\n",
              "      <td>0</td>\n",
              "      <td>0</td>\n",
              "      <td>NaN</td>\n",
              "      <td>NaN</td>\n",
              "      <td>NaN</td>\n",
              "      <td>0</td>\n",
              "      <td>9</td>\n",
              "      <td>2008</td>\n",
              "      <td>WD</td>\n",
              "      <td>Normal</td>\n",
              "    </tr>\n",
              "    <tr>\n",
              "      <th>4</th>\n",
              "      <td>70</td>\n",
              "      <td>RL</td>\n",
              "      <td>60.0</td>\n",
              "      <td>9550</td>\n",
              "      <td>Pave</td>\n",
              "      <td>NaN</td>\n",
              "      <td>IR1</td>\n",
              "      <td>Lvl</td>\n",
              "      <td>AllPub</td>\n",
              "      <td>Corner</td>\n",
              "      <td>...</td>\n",
              "      <td>0</td>\n",
              "      <td>0</td>\n",
              "      <td>NaN</td>\n",
              "      <td>NaN</td>\n",
              "      <td>NaN</td>\n",
              "      <td>0</td>\n",
              "      <td>2</td>\n",
              "      <td>2006</td>\n",
              "      <td>WD</td>\n",
              "      <td>Abnorml</td>\n",
              "    </tr>\n",
              "    <tr>\n",
              "      <th>5</th>\n",
              "      <td>60</td>\n",
              "      <td>RL</td>\n",
              "      <td>84.0</td>\n",
              "      <td>14260</td>\n",
              "      <td>Pave</td>\n",
              "      <td>NaN</td>\n",
              "      <td>IR1</td>\n",
              "      <td>Lvl</td>\n",
              "      <td>AllPub</td>\n",
              "      <td>FR2</td>\n",
              "      <td>...</td>\n",
              "      <td>0</td>\n",
              "      <td>0</td>\n",
              "      <td>NaN</td>\n",
              "      <td>NaN</td>\n",
              "      <td>NaN</td>\n",
              "      <td>0</td>\n",
              "      <td>12</td>\n",
              "      <td>2008</td>\n",
              "      <td>WD</td>\n",
              "      <td>Normal</td>\n",
              "    </tr>\n",
              "    <tr>\n",
              "      <th>...</th>\n",
              "      <td>...</td>\n",
              "      <td>...</td>\n",
              "      <td>...</td>\n",
              "      <td>...</td>\n",
              "      <td>...</td>\n",
              "      <td>...</td>\n",
              "      <td>...</td>\n",
              "      <td>...</td>\n",
              "      <td>...</td>\n",
              "      <td>...</td>\n",
              "      <td>...</td>\n",
              "      <td>...</td>\n",
              "      <td>...</td>\n",
              "      <td>...</td>\n",
              "      <td>...</td>\n",
              "      <td>...</td>\n",
              "      <td>...</td>\n",
              "      <td>...</td>\n",
              "      <td>...</td>\n",
              "      <td>...</td>\n",
              "      <td>...</td>\n",
              "    </tr>\n",
              "    <tr>\n",
              "      <th>2915</th>\n",
              "      <td>160</td>\n",
              "      <td>RM</td>\n",
              "      <td>21.0</td>\n",
              "      <td>1936</td>\n",
              "      <td>Pave</td>\n",
              "      <td>NaN</td>\n",
              "      <td>Reg</td>\n",
              "      <td>Lvl</td>\n",
              "      <td>AllPub</td>\n",
              "      <td>Inside</td>\n",
              "      <td>...</td>\n",
              "      <td>0</td>\n",
              "      <td>0</td>\n",
              "      <td>NaN</td>\n",
              "      <td>NaN</td>\n",
              "      <td>NaN</td>\n",
              "      <td>0</td>\n",
              "      <td>6</td>\n",
              "      <td>2006</td>\n",
              "      <td>WD</td>\n",
              "      <td>Normal</td>\n",
              "    </tr>\n",
              "    <tr>\n",
              "      <th>2916</th>\n",
              "      <td>160</td>\n",
              "      <td>RM</td>\n",
              "      <td>21.0</td>\n",
              "      <td>1894</td>\n",
              "      <td>Pave</td>\n",
              "      <td>NaN</td>\n",
              "      <td>Reg</td>\n",
              "      <td>Lvl</td>\n",
              "      <td>AllPub</td>\n",
              "      <td>Inside</td>\n",
              "      <td>...</td>\n",
              "      <td>0</td>\n",
              "      <td>0</td>\n",
              "      <td>NaN</td>\n",
              "      <td>NaN</td>\n",
              "      <td>NaN</td>\n",
              "      <td>0</td>\n",
              "      <td>4</td>\n",
              "      <td>2006</td>\n",
              "      <td>WD</td>\n",
              "      <td>Abnorml</td>\n",
              "    </tr>\n",
              "    <tr>\n",
              "      <th>2917</th>\n",
              "      <td>20</td>\n",
              "      <td>RL</td>\n",
              "      <td>160.0</td>\n",
              "      <td>20000</td>\n",
              "      <td>Pave</td>\n",
              "      <td>NaN</td>\n",
              "      <td>Reg</td>\n",
              "      <td>Lvl</td>\n",
              "      <td>AllPub</td>\n",
              "      <td>Inside</td>\n",
              "      <td>...</td>\n",
              "      <td>0</td>\n",
              "      <td>0</td>\n",
              "      <td>NaN</td>\n",
              "      <td>NaN</td>\n",
              "      <td>NaN</td>\n",
              "      <td>0</td>\n",
              "      <td>9</td>\n",
              "      <td>2006</td>\n",
              "      <td>WD</td>\n",
              "      <td>Abnorml</td>\n",
              "    </tr>\n",
              "    <tr>\n",
              "      <th>2918</th>\n",
              "      <td>85</td>\n",
              "      <td>RL</td>\n",
              "      <td>62.0</td>\n",
              "      <td>10441</td>\n",
              "      <td>Pave</td>\n",
              "      <td>NaN</td>\n",
              "      <td>Reg</td>\n",
              "      <td>Lvl</td>\n",
              "      <td>AllPub</td>\n",
              "      <td>Inside</td>\n",
              "      <td>...</td>\n",
              "      <td>0</td>\n",
              "      <td>0</td>\n",
              "      <td>NaN</td>\n",
              "      <td>MnPrv</td>\n",
              "      <td>Shed</td>\n",
              "      <td>700</td>\n",
              "      <td>7</td>\n",
              "      <td>2006</td>\n",
              "      <td>WD</td>\n",
              "      <td>Normal</td>\n",
              "    </tr>\n",
              "    <tr>\n",
              "      <th>2919</th>\n",
              "      <td>60</td>\n",
              "      <td>RL</td>\n",
              "      <td>74.0</td>\n",
              "      <td>9627</td>\n",
              "      <td>Pave</td>\n",
              "      <td>NaN</td>\n",
              "      <td>Reg</td>\n",
              "      <td>Lvl</td>\n",
              "      <td>AllPub</td>\n",
              "      <td>Inside</td>\n",
              "      <td>...</td>\n",
              "      <td>0</td>\n",
              "      <td>0</td>\n",
              "      <td>NaN</td>\n",
              "      <td>NaN</td>\n",
              "      <td>NaN</td>\n",
              "      <td>0</td>\n",
              "      <td>11</td>\n",
              "      <td>2006</td>\n",
              "      <td>WD</td>\n",
              "      <td>Normal</td>\n",
              "    </tr>\n",
              "  </tbody>\n",
              "</table>\n",
              "<p>2919 rows × 79 columns</p>\n",
              "</div>"
            ],
            "text/plain": [
              "      MSSubClass MSZoning  LotFrontage  LotArea Street Alley LotShape  \\\n",
              "Id                                                                      \n",
              "1             60       RL         65.0     8450   Pave   NaN      Reg   \n",
              "2             20       RL         80.0     9600   Pave   NaN      Reg   \n",
              "3             60       RL         68.0    11250   Pave   NaN      IR1   \n",
              "4             70       RL         60.0     9550   Pave   NaN      IR1   \n",
              "5             60       RL         84.0    14260   Pave   NaN      IR1   \n",
              "...          ...      ...          ...      ...    ...   ...      ...   \n",
              "2915         160       RM         21.0     1936   Pave   NaN      Reg   \n",
              "2916         160       RM         21.0     1894   Pave   NaN      Reg   \n",
              "2917          20       RL        160.0    20000   Pave   NaN      Reg   \n",
              "2918          85       RL         62.0    10441   Pave   NaN      Reg   \n",
              "2919          60       RL         74.0     9627   Pave   NaN      Reg   \n",
              "\n",
              "     LandContour Utilities LotConfig  ... ScreenPorch PoolArea PoolQC  Fence  \\\n",
              "Id                                    ...                                      \n",
              "1            Lvl    AllPub    Inside  ...           0        0    NaN    NaN   \n",
              "2            Lvl    AllPub       FR2  ...           0        0    NaN    NaN   \n",
              "3            Lvl    AllPub    Inside  ...           0        0    NaN    NaN   \n",
              "4            Lvl    AllPub    Corner  ...           0        0    NaN    NaN   \n",
              "5            Lvl    AllPub       FR2  ...           0        0    NaN    NaN   \n",
              "...          ...       ...       ...  ...         ...      ...    ...    ...   \n",
              "2915         Lvl    AllPub    Inside  ...           0        0    NaN    NaN   \n",
              "2916         Lvl    AllPub    Inside  ...           0        0    NaN    NaN   \n",
              "2917         Lvl    AllPub    Inside  ...           0        0    NaN    NaN   \n",
              "2918         Lvl    AllPub    Inside  ...           0        0    NaN  MnPrv   \n",
              "2919         Lvl    AllPub    Inside  ...           0        0    NaN    NaN   \n",
              "\n",
              "     MiscFeature MiscVal  MoSold  YrSold  SaleType  SaleCondition  \n",
              "Id                                                                 \n",
              "1            NaN       0       2    2008        WD         Normal  \n",
              "2            NaN       0       5    2007        WD         Normal  \n",
              "3            NaN       0       9    2008        WD         Normal  \n",
              "4            NaN       0       2    2006        WD        Abnorml  \n",
              "5            NaN       0      12    2008        WD         Normal  \n",
              "...          ...     ...     ...     ...       ...            ...  \n",
              "2915         NaN       0       6    2006        WD         Normal  \n",
              "2916         NaN       0       4    2006        WD        Abnorml  \n",
              "2917         NaN       0       9    2006        WD        Abnorml  \n",
              "2918        Shed     700       7    2006        WD         Normal  \n",
              "2919         NaN       0      11    2006        WD         Normal  \n",
              "\n",
              "[2919 rows x 79 columns]"
            ]
          },
          "metadata": {
            "tags": []
          },
          "execution_count": 630
        }
      ]
    },
    {
      "cell_type": "markdown",
      "metadata": {
        "_cell_guid": "fc58bdf1-16fa-9f8f-9d0a-5954e4128c7f",
        "id": "uHt-ss7a-b86",
        "colab_type": "text"
      },
      "source": [
        "**Pré-Processamento**"
      ]
    },
    {
      "cell_type": "code",
      "metadata": {
        "_cell_guid": "f29cfb6e-a47e-f63d-5f95-b02c8f55cacd",
        "id": "fRKdiRhT-b89",
        "colab_type": "code",
        "colab": {}
      },
      "source": [
        "df.drop('Alley', axis=1, inplace=True)\n",
        "df.drop('PoolQC', axis=1, inplace=True)\n",
        "df.drop('Fence', axis=1, inplace=True)\n",
        "df.drop('MiscFeature', axis=1, inplace=True)"
      ],
      "execution_count": null,
      "outputs": []
    },
    {
      "cell_type": "code",
      "metadata": {
        "_cell_guid": "b8ce2cb2-599a-7c3a-66af-978e1bd14580",
        "id": "DnEfndle-b9B",
        "colab_type": "code",
        "colab": {}
      },
      "source": [
        "df.loc[df.MasVnrType.isnull(), 'MasVnrType'] = 'None'\n",
        "df.loc[df.MasVnrType == 'None', 'MasVnrArea'] = 0\n",
        "df.loc[df.LotFrontage.isnull(), 'LotFrontage'] = df.LotFrontage.median()\n",
        "df.loc[df.LotArea.isnull(), 'MasVnrType'] = 0\n",
        "df.loc[df.BsmtQual.isnull(), 'BsmtQual'] = 'NoBsmt'\n",
        "df.loc[df.BsmtCond.isnull(), 'BsmtCond'] = 'NoBsmt'\n",
        "df.loc[df.BsmtExposure.isnull(), 'BsmtExposure'] = 'NoBsmt'\n",
        "df.loc[df.BsmtFinType1.isnull(), 'BsmtFinType1'] = 'NoBsmt'\n",
        "df.loc[df.BsmtFinType2.isnull(), 'BsmtFinType2'] = 'NoBsmt'\n",
        "df.loc[df.BsmtFinType1=='NoBsmt', 'BsmtFinSF1'] = 0\n",
        "df.loc[df.BsmtFinType2=='NoBsmt', 'BsmtFinSF2'] = 0\n",
        "df.loc[df.BsmtFinSF1.isnull(), 'BsmtFinSF1'] = df.BsmtFinSF1.median()\n",
        "df.loc[df.BsmtQual=='NoBsmt', 'BsmtUnfSF'] = 0\n",
        "df.loc[df.BsmtUnfSF.isnull(), 'BsmtUnfSF'] = df.BsmtUnfSF.median()\n",
        "df.loc[df.BsmtQual=='NoBsmt', 'TotalBsmtSF'] = 0\n",
        "df.loc[df.FireplaceQu.isnull(), 'FireplaceQu'] = 'NoFireplace'\n",
        "df.loc[df.GarageType.isnull(), 'GarageType'] = 'NoGarage'\n",
        "df.loc[df.GarageFinish.isnull(), 'GarageFinish'] = 'NoGarage'\n",
        "df.loc[df.GarageQual.isnull(), 'GarageQual'] = 'NoGarage'\n",
        "df.loc[df.GarageCond.isnull(), 'GarageCond'] = 'NoGarage'\n",
        "df.loc[df.BsmtFullBath.isnull(), 'BsmtFullBath'] = 0\n",
        "df.loc[df.BsmtHalfBath.isnull(), 'BsmtHalfBath'] = 0\n",
        "df.loc[df.KitchenQual.isnull(), 'KitchenQual'] = 'TA'\n",
        "df.loc[df.MSZoning.isnull(), 'MSZoning'] = 'RL'\n",
        "df.loc[df.Utilities.isnull(), 'Utilities'] = 'AllPub'\n",
        "df.loc[df.Exterior1st.isnull(), 'Exterior1st'] = 'VinylSd'\n",
        "df.loc[df.Exterior2nd.isnull(), 'Exterior2nd'] = 'VinylSd'\n",
        "df.loc[df.Functional.isnull(), 'Functional'] = 'Typ'\n",
        "df.loc[df.SaleCondition.isnull(), 'SaleCondition'] = 'Normal'\n",
        "df.loc[df.SaleCondition.isnull(), 'SaleType'] = 'WD'\n",
        "df.loc[df['Electrical'].isnull(), 'Electrical'] = 'SBrkr'\n",
        "df.loc[df['SaleType'].isnull(), 'SaleType'] = 'NoSale'\n",
        "\n",
        "df.loc[df.GarageYrBlt.isnull(), 'GarageYrBlt'] = df.GarageYrBlt.median()\n",
        "\n",
        "df.loc[df['GarageArea'].isnull(), 'GarageArea'] = df.loc[df['GarageType']=='Detchd', 'GarageArea'].mean()\n",
        "df.loc[df['GarageCars'].isnull(), 'GarageCars'] = df.loc[df['GarageType']=='Detchd', 'GarageCars'].median()"
      ],
      "execution_count": null,
      "outputs": []
    },
    {
      "cell_type": "markdown",
      "metadata": {
        "_cell_guid": "4bd2c4a2-5478-2e01-bbf5-a17f59eeea6a",
        "id": "aM9VLZBN-b9E",
        "colab_type": "text"
      },
      "source": [
        "**Handling categorical data**"
      ]
    },
    {
      "cell_type": "code",
      "metadata": {
        "_cell_guid": "7ed75999-fe07-c4b4-d8ab-6dad2aa75f67",
        "id": "UZ7olG-l-b9F",
        "colab_type": "code",
        "colab": {}
      },
      "source": [
        "size_mapping = {'Y': 1,'N': 0}\n",
        "df['CentralAir'] = df['CentralAir'].map(size_mapping)"
      ],
      "execution_count": null,
      "outputs": []
    },
    {
      "cell_type": "code",
      "metadata": {
        "_cell_guid": "54224d2f-211b-95d3-274e-b6376aa5e372",
        "id": "Nhjy7fsA-b9J",
        "colab_type": "code",
        "colab": {}
      },
      "source": [
        "df = pd.get_dummies(df)"
      ],
      "execution_count": null,
      "outputs": []
    },
    {
      "cell_type": "code",
      "metadata": {
        "id": "HJnnw7TO-b9M",
        "colab_type": "code",
        "colab": {},
        "outputId": "4d96f2d5-98bd-4640-a1e6-a5995b50d90f"
      },
      "source": [
        "df.shape"
      ],
      "execution_count": null,
      "outputs": [
        {
          "output_type": "execute_result",
          "data": {
            "text/plain": [
              "(2919, 285)"
            ]
          },
          "metadata": {
            "tags": []
          },
          "execution_count": 698
        }
      ]
    },
    {
      "cell_type": "code",
      "metadata": {
        "_cell_guid": "3f81292b-b968-7472-fecb-ce5d90ec34f8",
        "id": "-f5ob0ME-b9Q",
        "colab_type": "code",
        "colab": {}
      },
      "source": [
        "#log transform the target:\n",
        "train[\"SalePrice\"] = np.log(train[\"SalePrice\"])"
      ],
      "execution_count": null,
      "outputs": []
    },
    {
      "cell_type": "code",
      "metadata": {
        "_cell_guid": "a7ce33c6-9678-e491-de5e-e0c497bc65ba",
        "id": "lXoiwQ3r-b9T",
        "colab_type": "code",
        "colab": {}
      },
      "source": [
        "#creating matrices for sklearn:\n",
        "X_train = df[:train.shape[0]]\n",
        "X_test = df[train.shape[0]:]"
      ],
      "execution_count": null,
      "outputs": []
    },
    {
      "cell_type": "markdown",
      "metadata": {
        "_cell_guid": "327e708c-56ad-99c4-0abc-6fae176ee211",
        "id": "m_OlqBN3-b9W",
        "colab_type": "text"
      },
      "source": [
        "**Treino e Teste**"
      ]
    },
    {
      "cell_type": "code",
      "metadata": {
        "id": "gj4NIG6V-b9X",
        "colab_type": "code",
        "colab": {}
      },
      "source": [
        "y = train.SalePrice.values"
      ],
      "execution_count": null,
      "outputs": []
    },
    {
      "cell_type": "code",
      "metadata": {
        "_cell_guid": "2b05098b-7cdf-5632-3a05-ca0366da2d8f",
        "id": "tOzNCw7s-b9a",
        "colab_type": "code",
        "colab": {}
      },
      "source": [
        "np.random.seed(42)\n",
        "from sklearn.model_selection import train_test_split\n",
        "X = df[:train.shape[0]].values #treino\n",
        "\n",
        "X_train_main, X_test_main, y_train_main, y_test_main = train_test_split(X, y, test_size=0.3)"
      ],
      "execution_count": null,
      "outputs": []
    },
    {
      "cell_type": "markdown",
      "metadata": {
        "_cell_guid": "5f4bafe9-f8f2-5613-c05b-bc67a330196f",
        "id": "wWGhUn-R-b9d",
        "colab_type": "text"
      },
      "source": [
        "**Feature na mesma escala**\n",
        "\n",
        "Para cada elemento, tire a média de divida pelo desvio padrão da coluna\n",
        "$$ Z = \\frac{(x_{ij} - \\mu_j) }{\\sigma^2_j} \\to N(0,1)$$"
      ]
    },
    {
      "cell_type": "code",
      "metadata": {
        "_cell_guid": "908bc5ff-5f40-993f-17cb-070a48163402",
        "id": "qUCqQdYq-b9d",
        "colab_type": "code",
        "colab": {}
      },
      "source": [
        "from sklearn.preprocessing import StandardScaler\n",
        "stdsc = StandardScaler()\n",
        "X_train_std_main = stdsc.fit_transform(X_train_main)\n",
        "X_test_std_main = stdsc.transform(X_test_main)"
      ],
      "execution_count": null,
      "outputs": []
    },
    {
      "cell_type": "code",
      "metadata": {
        "id": "f3EGaY2v-b9g",
        "colab_type": "code",
        "colab": {},
        "outputId": "f18e2e90-8d2c-47cc-ca5c-a92578fbfbbd"
      },
      "source": [
        "X_train_std_main.shape"
      ],
      "execution_count": null,
      "outputs": [
        {
          "output_type": "execute_result",
          "data": {
            "text/plain": [
              "(1022, 285)"
            ]
          },
          "metadata": {
            "tags": []
          },
          "execution_count": 642
        }
      ]
    },
    {
      "cell_type": "markdown",
      "metadata": {
        "_cell_guid": "a3156ab8-a20d-52a3-7a27-c72be025260f",
        "id": "6h1zeCJA-b9k",
        "colab_type": "text"
      },
      "source": [
        "### **Modelo Baseline**"
      ]
    },
    {
      "cell_type": "code",
      "metadata": {
        "_cell_guid": "5e723d6e-c50b-9bb3-ddc3-e291ff471995",
        "id": "Vp1MLZrB-b9k",
        "colab_type": "code",
        "colab": {},
        "outputId": "99368165-a98e-418e-806d-91c14b3a4c3b"
      },
      "source": [
        "from sklearn.ensemble import RandomForestRegressor\n",
        "from sklearn.model_selection import cross_val_score\n",
        "np.random.seed(9)\n",
        "\n",
        "result = cross_val_score(RandomForestRegressor(), X_train_std_main, y_train_main, scoring='neg_root_mean_squared_error', cv=3)\n",
        "\n",
        "print(\"RMSE:\" ,-result.mean())"
      ],
      "execution_count": null,
      "outputs": [
        {
          "output_type": "stream",
          "text": [
            "RMSE: 0.15123954413930024\n"
          ],
          "name": "stdout"
        }
      ]
    },
    {
      "cell_type": "markdown",
      "metadata": {
        "_cell_guid": "62deaacd-801e-4585-91dc-153b9714aca9",
        "id": "wFsvG2Fr-b9o",
        "colab_type": "text"
      },
      "source": [
        "### **Feature importance with random forests**\n",
        "\n",
        "Using a random forest, we can measure feature importance as the averaged impurity decrease computed from all decision trees in the forest without making any assumptions whether our data is linearly separable or not.\n"
      ]
    },
    {
      "cell_type": "code",
      "metadata": {
        "_cell_guid": "50d5bb76-c632-87ad-7f89-eeb4d6da3502",
        "id": "GlYQqtwb-b9o",
        "colab_type": "code",
        "colab": {},
        "outputId": "6a10d967-52f1-44b7-d309-bd0126078577"
      },
      "source": [
        "from sklearn.ensemble import RandomForestRegressor\n",
        "model = RandomForestRegressor()\n",
        "model.fit(X_std_main, y)\n",
        "\n",
        "# get top 20 features list\n",
        "feature_imp = pd.DataFrame(model.feature_importances_, index=df.columns, columns=[\"importance\"])\n",
        "feat_imp_20 = feature_imp.sort_values(\"importance\", ascending=False).head(50).index\n",
        "feat_imp_20"
      ],
      "execution_count": null,
      "outputs": [
        {
          "output_type": "execute_result",
          "data": {
            "text/plain": [
              "Index(['OverallQual', 'GrLivArea', 'GarageCars', 'TotalBsmtSF', '1stFlrSF',\n",
              "       'BsmtFinSF1', 'GarageArea', 'YearBuilt', 'CentralAir', 'LotArea',\n",
              "       'OverallCond', 'YearRemodAdd', '2ndFlrSF', 'LotFrontage', 'BsmtUnfSF',\n",
              "       'MSZoning_RM', 'GarageYrBlt', 'GarageType_Detchd', 'OpenPorchSF',\n",
              "       'MSZoning_C (all)', 'MoSold', 'WoodDeckSF', 'Fireplaces',\n",
              "       'FireplaceQu_NoFireplace', 'MasVnrArea', 'FullBath', 'TotRmsAbvGrd',\n",
              "       'BsmtQual_Gd', 'GarageType_Attchd', 'MSSubClass', 'EnclosedPorch',\n",
              "       'GarageFinish_Unf', 'BedroomAbvGr', 'KitchenAbvGr', 'YrSold',\n",
              "       'KitchenQual_Gd', 'KitchenQual_Ex', 'MSZoning_RL', 'BsmtQual_Ex',\n",
              "       'ExterCond_Fa', 'BsmtFullBath', 'LotShape_Reg', 'KitchenQual_TA',\n",
              "       'Neighborhood_Edwards', 'GarageQual_TA', 'GarageCond_TA',\n",
              "       'SaleCondition_Abnorml', 'BsmtQual_TA', 'ExterQual_TA', 'HalfBath'],\n",
              "      dtype='object')"
            ]
          },
          "metadata": {
            "tags": []
          },
          "execution_count": 644
        }
      ]
    },
    {
      "cell_type": "code",
      "metadata": {
        "id": "oA_3Yt5B-b9r",
        "colab_type": "code",
        "colab": {},
        "outputId": "f2904c0e-ac7e-4e52-8d2f-d796fffe3d5b"
      },
      "source": [
        "np.random.seed(9)\n",
        "df_f_imp = df[:train.shape[0]].filter(items=feat_imp_20)\n",
        "\n",
        "# numpy\n",
        "X_f_imp = df_f_imp.values\n",
        "\n",
        "# scaling\n",
        "X_train_std = stdsc.fit_transform(X_f_imp)\n",
        "\n",
        "result = cross_val_score(RandomForestRegressor(), X_train_std, y, scoring='neg_root_mean_squared_error', cv=3)\n",
        "print(\"RMSE:\", -result.mean())"
      ],
      "execution_count": null,
      "outputs": [
        {
          "output_type": "stream",
          "text": [
            "RMSE: 0.1471065192445131\n"
          ],
          "name": "stdout"
        }
      ]
    },
    {
      "cell_type": "markdown",
      "metadata": {
        "_cell_guid": "28d938f2-d8b5-68b4-55e1-6074ec7612a7",
        "id": "agMI8iu8-b9t",
        "colab_type": "text"
      },
      "source": [
        "### **Feature selector that removes all low-variance features.**\n",
        "\n",
        "This feature selection algorithm looks only at the features (X), not the desired outputs (y), and can thus be used for unsupervised learning.\n",
        "\n",
        "$$ Var[X] = p(1-p)$$\n"
      ]
    },
    {
      "cell_type": "code",
      "metadata": {
        "_cell_guid": "9547f62c-b1d0-cfeb-f30d-999c2099fa91",
        "jupyter": {
          "outputs_hidden": true
        },
        "id": "fZ57Qtig-b9u",
        "colab_type": "code",
        "colab": {},
        "outputId": "3eff1fdb-d560-4bdd-9f24-18b5bd5b31c3"
      },
      "source": [
        "from sklearn.feature_selection import VarianceThreshold\n",
        "\n",
        "#Find all features with more than 85% variance in values.\n",
        "threshold = 0.85\n",
        "vt = VarianceThreshold().fit(X_main)\n",
        "\n",
        "# Find feature names\n",
        "feat_var_threshold = df.columns[vt.variances_ > threshold * (1-threshold)]\n",
        "# select the top 20 \n",
        "\n",
        "feat_var_threshold[0:50]"
      ],
      "execution_count": null,
      "outputs": [
        {
          "output_type": "execute_result",
          "data": {
            "text/plain": [
              "Index(['MSSubClass', 'LotFrontage', 'LotArea', 'OverallQual', 'OverallCond',\n",
              "       'YearBuilt', 'YearRemodAdd', 'MasVnrArea', 'BsmtFinSF1', 'BsmtFinSF2',\n",
              "       'BsmtUnfSF', 'TotalBsmtSF', '1stFlrSF', '2ndFlrSF', 'LowQualFinSF',\n",
              "       'GrLivArea', 'BsmtFullBath', 'FullBath', 'HalfBath', 'BedroomAbvGr',\n",
              "       'TotRmsAbvGrd', 'Fireplaces', 'GarageYrBlt', 'GarageCars', 'GarageArea',\n",
              "       'WoodDeckSF', 'OpenPorchSF', 'EnclosedPorch', '3SsnPorch',\n",
              "       'ScreenPorch', 'PoolArea', 'MiscVal', 'MoSold', 'YrSold', 'MSZoning_RL',\n",
              "       'LotShape_IR1', 'LotShape_Reg', 'LotConfig_Corner', 'LotConfig_Inside',\n",
              "       'Neighborhood_NAmes', 'BldgType_1Fam', 'HouseStyle_1Story',\n",
              "       'HouseStyle_2Story', 'RoofStyle_Gable', 'RoofStyle_Hip',\n",
              "       'Exterior1st_HdBoard', 'Exterior1st_MetalSd', 'Exterior1st_VinylSd',\n",
              "       'Exterior2nd_VinylSd', 'MasVnrType_BrkFace'],\n",
              "      dtype='object')"
            ]
          },
          "metadata": {
            "tags": []
          },
          "execution_count": 674
        }
      ]
    },
    {
      "cell_type": "code",
      "metadata": {
        "id": "l8Dr2DZk-b9x",
        "colab_type": "code",
        "colab": {},
        "outputId": "54850427-314c-413f-8978-37fce33f5815"
      },
      "source": [
        "np.random.seed(9)\n",
        "df_var_t = df[:train.shape[0]].filter(items=feat_var_threshold[0:50])\n",
        "\n",
        "X_vt = df_var_t.values\n",
        "\n",
        "X_train_std = stdsc.fit_transform(X_vt)\n",
        "                             \n",
        "result = cross_val_score(RandomForestRegressor(), X_train_std, y, scoring='neg_root_mean_squared_error', cv=3)\n",
        "print(\"RMSE:\",-result.mean())"
      ],
      "execution_count": null,
      "outputs": [
        {
          "output_type": "stream",
          "text": [
            "RMSE: 0.1507205044578203\n"
          ],
          "name": "stdout"
        }
      ]
    },
    {
      "cell_type": "markdown",
      "metadata": {
        "_cell_guid": "5bb5fe6a-2e33-7984-5138-f88566c7ec48",
        "id": "mLsMPbmS-b93",
        "colab_type": "text"
      },
      "source": [
        "### **Univariate feature selection - SelectKBest/f_regression**\n",
        "\n",
        "Univariate feature selection works by selecting the best features based on univariate statistical tests. It can be seen as a preprocessing step to an estimator. Scikit-learn exposes feature selection routines as objects that implement the transform method."
      ]
    },
    {
      "cell_type": "code",
      "metadata": {
        "_cell_guid": "1bbf7532-b028-e127-ed2e-532f52496c5c",
        "id": "MCCO-76I-b94",
        "colab_type": "code",
        "colab": {},
        "outputId": "73b10f7e-5859-42b6-80d6-e409d40eaf55"
      },
      "source": [
        "from sklearn.feature_selection import f_regression, SelectKBest\n",
        "\n",
        "X_scored = SelectKBest(score_func=f_regression, k=50).fit(X_std_main, y)\n",
        "feature_scoring = pd.DataFrame({\n",
        "        'feature': df.columns,\n",
        "        'score': X_scored.scores_\n",
        "    })\n",
        "\n",
        "feat_scored_20 = feature_scoring.sort_values('score', ascending=False).head(50)['feature'].values\n",
        "feat_scored_20"
      ],
      "execution_count": null,
      "outputs": [
        {
          "output_type": "execute_result",
          "data": {
            "text/plain": [
              "array(['OverallQual', 'GrLivArea', 'GarageCars', 'GarageArea',\n",
              "       'TotalBsmtSF', '1stFlrSF', 'ExterQual_TA', 'FullBath', 'YearBuilt',\n",
              "       'YearRemodAdd', 'KitchenQual_TA', 'TotRmsAbvGrd',\n",
              "       'Foundation_PConc', 'FireplaceQu_NoFireplace', 'ExterQual_Gd',\n",
              "       'GarageYrBlt', 'Fireplaces', 'BsmtQual_TA', 'HeatingQC_Ex',\n",
              "       'BsmtQual_Ex', 'BsmtFinType1_GLQ', 'GarageFinish_Unf',\n",
              "       'MasVnrArea', 'GarageFinish_Fin', 'GarageType_Attchd',\n",
              "       'KitchenQual_Ex', 'KitchenQual_Gd', 'GarageType_Detchd',\n",
              "       'MasVnrType_None', 'BsmtFinSF1', 'GarageCond_TA', 'ExterQual_Ex',\n",
              "       'Neighborhood_NridgHt', 'CentralAir', 'MSZoning_RM',\n",
              "       'FireplaceQu_Gd', 'Foundation_CBlock', 'Exterior2nd_VinylSd',\n",
              "       'Exterior1st_VinylSd', 'HeatingQC_TA', 'LotFrontage',\n",
              "       'BsmtQual_Gd', 'WoodDeckSF', 'GarageQual_TA', 'SaleType_New',\n",
              "       'SaleCondition_Partial', 'GarageType_NoGarage',\n",
              "       'GarageQual_NoGarage', 'GarageFinish_NoGarage',\n",
              "       'GarageCond_NoGarage'], dtype=object)"
            ]
          },
          "metadata": {
            "tags": []
          },
          "execution_count": 682
        }
      ]
    },
    {
      "cell_type": "code",
      "metadata": {
        "id": "kRAtrjpa-b99",
        "colab_type": "code",
        "colab": {},
        "outputId": "8312f5ad-7046-4658-c534-438e70f0768c"
      },
      "source": [
        "np.random.seed(9)\n",
        "df_kbest = df[:train.shape[0]].filter(items=feat_scored_20)\n",
        "\n",
        "X_kb = df_kbest.values\n",
        "\n",
        "X_train_std = stdsc.fit_transform(X_kb)\n",
        "\n",
        "result = cross_val_score(RandomForestRegressor(), X_train_std, y, scoring='neg_root_mean_squared_error', cv=3)\n",
        "print(\"RMSE:\",-result.mean())"
      ],
      "execution_count": null,
      "outputs": [
        {
          "output_type": "stream",
          "text": [
            "RMSE: 0.14997347805846542\n"
          ],
          "name": "stdout"
        }
      ]
    },
    {
      "cell_type": "markdown",
      "metadata": {
        "_cell_guid": "b68346ae-1a20-db06-e2a2-9469598be8be",
        "id": "J9mb4PD_-b-B",
        "colab_type": "text"
      },
      "source": [
        "### **Recursive Feature Elimination - Random Forest Regressor**\n",
        "\n",
        "Recursivamente eliminando o feature com menor 'importancia'"
      ]
    },
    {
      "cell_type": "code",
      "metadata": {
        "_cell_guid": "aed45b74-c08d-59dc-0110-8bafbffaeeb7",
        "collapsed": true,
        "jupyter": {
          "outputs_hidden": true
        },
        "id": "0ps_QVHF-b-B",
        "colab_type": "code",
        "colab": {},
        "outputId": "3b4fcae5-2a81-4dc9-a053-abeb485935bd"
      },
      "source": [
        "from sklearn.feature_selection import RFE\n",
        "rfe = RFE(RandomForestRegressor(), 50, verbose=2)\n",
        "rfe.fit(X_train_std_main, y_train_main)\n",
        "\n",
        "feature_rfe_scoring = pd.DataFrame({\n",
        "        'feature': df.columns,\n",
        "        'score': rfe.ranking_\n",
        "    })\n",
        "\n",
        "feat_rfe_20 = feature_rfe_scoring[feature_rfe_scoring['score'] == 1]['feature'].values\n",
        "feat_rfe_20"
      ],
      "execution_count": null,
      "outputs": [
        {
          "output_type": "stream",
          "text": [
            "Fitting estimator with 285 features.\n",
            "Fitting estimator with 284 features.\n",
            "Fitting estimator with 283 features.\n"
          ],
          "name": "stdout"
        },
        {
          "output_type": "error",
          "ename": "KeyboardInterrupt",
          "evalue": "",
          "traceback": [
            "\u001b[1;31m---------------------------------------------------------------------------\u001b[0m",
            "\u001b[1;31mKeyboardInterrupt\u001b[0m                         Traceback (most recent call last)",
            "\u001b[1;32m<ipython-input-693-6d2ef4968692>\u001b[0m in \u001b[0;36m<module>\u001b[1;34m\u001b[0m\n\u001b[0;32m      1\u001b[0m \u001b[1;32mfrom\u001b[0m \u001b[0msklearn\u001b[0m\u001b[1;33m.\u001b[0m\u001b[0mfeature_selection\u001b[0m \u001b[1;32mimport\u001b[0m \u001b[0mRFE\u001b[0m\u001b[1;33m\u001b[0m\u001b[1;33m\u001b[0m\u001b[0m\n\u001b[0;32m      2\u001b[0m \u001b[0mrfe\u001b[0m \u001b[1;33m=\u001b[0m \u001b[0mRFE\u001b[0m\u001b[1;33m(\u001b[0m\u001b[0mRandomForestRegressor\u001b[0m\u001b[1;33m(\u001b[0m\u001b[1;33m)\u001b[0m\u001b[1;33m,\u001b[0m \u001b[1;36m50\u001b[0m\u001b[1;33m,\u001b[0m \u001b[0mverbose\u001b[0m\u001b[1;33m=\u001b[0m\u001b[1;36m2\u001b[0m\u001b[1;33m)\u001b[0m\u001b[1;33m\u001b[0m\u001b[1;33m\u001b[0m\u001b[0m\n\u001b[1;32m----> 3\u001b[1;33m \u001b[0mrfe\u001b[0m\u001b[1;33m.\u001b[0m\u001b[0mfit\u001b[0m\u001b[1;33m(\u001b[0m\u001b[0mX_train_std_main\u001b[0m\u001b[1;33m,\u001b[0m \u001b[0my_train_main\u001b[0m\u001b[1;33m)\u001b[0m\u001b[1;33m\u001b[0m\u001b[1;33m\u001b[0m\u001b[0m\n\u001b[0m\u001b[0;32m      4\u001b[0m \u001b[1;33m\u001b[0m\u001b[0m\n\u001b[0;32m      5\u001b[0m feature_rfe_scoring = pd.DataFrame({\n",
            "\u001b[1;32m~\\AppData\\Local\\Continuum\\anaconda3\\lib\\site-packages\\sklearn\\feature_selection\\_rfe.py\u001b[0m in \u001b[0;36mfit\u001b[1;34m(self, X, y)\u001b[0m\n\u001b[0;32m    147\u001b[0m             \u001b[0mThe\u001b[0m \u001b[0mtarget\u001b[0m \u001b[0mvalues\u001b[0m\u001b[1;33m.\u001b[0m\u001b[1;33m\u001b[0m\u001b[1;33m\u001b[0m\u001b[0m\n\u001b[0;32m    148\u001b[0m         \"\"\"\n\u001b[1;32m--> 149\u001b[1;33m         \u001b[1;32mreturn\u001b[0m \u001b[0mself\u001b[0m\u001b[1;33m.\u001b[0m\u001b[0m_fit\u001b[0m\u001b[1;33m(\u001b[0m\u001b[0mX\u001b[0m\u001b[1;33m,\u001b[0m \u001b[0my\u001b[0m\u001b[1;33m)\u001b[0m\u001b[1;33m\u001b[0m\u001b[1;33m\u001b[0m\u001b[0m\n\u001b[0m\u001b[0;32m    150\u001b[0m \u001b[1;33m\u001b[0m\u001b[0m\n\u001b[0;32m    151\u001b[0m     \u001b[1;32mdef\u001b[0m \u001b[0m_fit\u001b[0m\u001b[1;33m(\u001b[0m\u001b[0mself\u001b[0m\u001b[1;33m,\u001b[0m \u001b[0mX\u001b[0m\u001b[1;33m,\u001b[0m \u001b[0my\u001b[0m\u001b[1;33m,\u001b[0m \u001b[0mstep_score\u001b[0m\u001b[1;33m=\u001b[0m\u001b[1;32mNone\u001b[0m\u001b[1;33m)\u001b[0m\u001b[1;33m:\u001b[0m\u001b[1;33m\u001b[0m\u001b[1;33m\u001b[0m\u001b[0m\n",
            "\u001b[1;32m~\\AppData\\Local\\Continuum\\anaconda3\\lib\\site-packages\\sklearn\\feature_selection\\_rfe.py\u001b[0m in \u001b[0;36m_fit\u001b[1;34m(self, X, y, step_score)\u001b[0m\n\u001b[0;32m    188\u001b[0m                 \u001b[0mprint\u001b[0m\u001b[1;33m(\u001b[0m\u001b[1;34m\"Fitting estimator with %d features.\"\u001b[0m \u001b[1;33m%\u001b[0m \u001b[0mnp\u001b[0m\u001b[1;33m.\u001b[0m\u001b[0msum\u001b[0m\u001b[1;33m(\u001b[0m\u001b[0msupport_\u001b[0m\u001b[1;33m)\u001b[0m\u001b[1;33m)\u001b[0m\u001b[1;33m\u001b[0m\u001b[1;33m\u001b[0m\u001b[0m\n\u001b[0;32m    189\u001b[0m \u001b[1;33m\u001b[0m\u001b[0m\n\u001b[1;32m--> 190\u001b[1;33m             \u001b[0mestimator\u001b[0m\u001b[1;33m.\u001b[0m\u001b[0mfit\u001b[0m\u001b[1;33m(\u001b[0m\u001b[0mX\u001b[0m\u001b[1;33m[\u001b[0m\u001b[1;33m:\u001b[0m\u001b[1;33m,\u001b[0m \u001b[0mfeatures\u001b[0m\u001b[1;33m]\u001b[0m\u001b[1;33m,\u001b[0m \u001b[0my\u001b[0m\u001b[1;33m)\u001b[0m\u001b[1;33m\u001b[0m\u001b[1;33m\u001b[0m\u001b[0m\n\u001b[0m\u001b[0;32m    191\u001b[0m \u001b[1;33m\u001b[0m\u001b[0m\n\u001b[0;32m    192\u001b[0m             \u001b[1;31m# Get coefs\u001b[0m\u001b[1;33m\u001b[0m\u001b[1;33m\u001b[0m\u001b[1;33m\u001b[0m\u001b[0m\n",
            "\u001b[1;32m~\\AppData\\Local\\Continuum\\anaconda3\\lib\\site-packages\\sklearn\\ensemble\\_forest.py\u001b[0m in \u001b[0;36mfit\u001b[1;34m(self, X, y, sample_weight)\u001b[0m\n\u001b[0;32m    381\u001b[0m                     \u001b[0mverbose\u001b[0m\u001b[1;33m=\u001b[0m\u001b[0mself\u001b[0m\u001b[1;33m.\u001b[0m\u001b[0mverbose\u001b[0m\u001b[1;33m,\u001b[0m \u001b[0mclass_weight\u001b[0m\u001b[1;33m=\u001b[0m\u001b[0mself\u001b[0m\u001b[1;33m.\u001b[0m\u001b[0mclass_weight\u001b[0m\u001b[1;33m,\u001b[0m\u001b[1;33m\u001b[0m\u001b[1;33m\u001b[0m\u001b[0m\n\u001b[0;32m    382\u001b[0m                     n_samples_bootstrap=n_samples_bootstrap)\n\u001b[1;32m--> 383\u001b[1;33m                 for i, t in enumerate(trees))\n\u001b[0m\u001b[0;32m    384\u001b[0m \u001b[1;33m\u001b[0m\u001b[0m\n\u001b[0;32m    385\u001b[0m             \u001b[1;31m# Collect newly grown trees\u001b[0m\u001b[1;33m\u001b[0m\u001b[1;33m\u001b[0m\u001b[1;33m\u001b[0m\u001b[0m\n",
            "\u001b[1;32m~\\AppData\\Local\\Continuum\\anaconda3\\lib\\site-packages\\joblib\\parallel.py\u001b[0m in \u001b[0;36m__call__\u001b[1;34m(self, iterable)\u001b[0m\n\u001b[0;32m   1004\u001b[0m                 \u001b[0mself\u001b[0m\u001b[1;33m.\u001b[0m\u001b[0m_iterating\u001b[0m \u001b[1;33m=\u001b[0m \u001b[0mself\u001b[0m\u001b[1;33m.\u001b[0m\u001b[0m_original_iterator\u001b[0m \u001b[1;32mis\u001b[0m \u001b[1;32mnot\u001b[0m \u001b[1;32mNone\u001b[0m\u001b[1;33m\u001b[0m\u001b[1;33m\u001b[0m\u001b[0m\n\u001b[0;32m   1005\u001b[0m \u001b[1;33m\u001b[0m\u001b[0m\n\u001b[1;32m-> 1006\u001b[1;33m             \u001b[1;32mwhile\u001b[0m \u001b[0mself\u001b[0m\u001b[1;33m.\u001b[0m\u001b[0mdispatch_one_batch\u001b[0m\u001b[1;33m(\u001b[0m\u001b[0miterator\u001b[0m\u001b[1;33m)\u001b[0m\u001b[1;33m:\u001b[0m\u001b[1;33m\u001b[0m\u001b[1;33m\u001b[0m\u001b[0m\n\u001b[0m\u001b[0;32m   1007\u001b[0m                 \u001b[1;32mpass\u001b[0m\u001b[1;33m\u001b[0m\u001b[1;33m\u001b[0m\u001b[0m\n\u001b[0;32m   1008\u001b[0m \u001b[1;33m\u001b[0m\u001b[0m\n",
            "\u001b[1;32m~\\AppData\\Local\\Continuum\\anaconda3\\lib\\site-packages\\joblib\\parallel.py\u001b[0m in \u001b[0;36mdispatch_one_batch\u001b[1;34m(self, iterator)\u001b[0m\n\u001b[0;32m    832\u001b[0m                 \u001b[1;32mreturn\u001b[0m \u001b[1;32mFalse\u001b[0m\u001b[1;33m\u001b[0m\u001b[1;33m\u001b[0m\u001b[0m\n\u001b[0;32m    833\u001b[0m             \u001b[1;32melse\u001b[0m\u001b[1;33m:\u001b[0m\u001b[1;33m\u001b[0m\u001b[1;33m\u001b[0m\u001b[0m\n\u001b[1;32m--> 834\u001b[1;33m                 \u001b[0mself\u001b[0m\u001b[1;33m.\u001b[0m\u001b[0m_dispatch\u001b[0m\u001b[1;33m(\u001b[0m\u001b[0mtasks\u001b[0m\u001b[1;33m)\u001b[0m\u001b[1;33m\u001b[0m\u001b[1;33m\u001b[0m\u001b[0m\n\u001b[0m\u001b[0;32m    835\u001b[0m                 \u001b[1;32mreturn\u001b[0m \u001b[1;32mTrue\u001b[0m\u001b[1;33m\u001b[0m\u001b[1;33m\u001b[0m\u001b[0m\n\u001b[0;32m    836\u001b[0m \u001b[1;33m\u001b[0m\u001b[0m\n",
            "\u001b[1;32m~\\AppData\\Local\\Continuum\\anaconda3\\lib\\site-packages\\joblib\\parallel.py\u001b[0m in \u001b[0;36m_dispatch\u001b[1;34m(self, batch)\u001b[0m\n\u001b[0;32m    751\u001b[0m         \u001b[1;32mwith\u001b[0m \u001b[0mself\u001b[0m\u001b[1;33m.\u001b[0m\u001b[0m_lock\u001b[0m\u001b[1;33m:\u001b[0m\u001b[1;33m\u001b[0m\u001b[1;33m\u001b[0m\u001b[0m\n\u001b[0;32m    752\u001b[0m             \u001b[0mjob_idx\u001b[0m \u001b[1;33m=\u001b[0m \u001b[0mlen\u001b[0m\u001b[1;33m(\u001b[0m\u001b[0mself\u001b[0m\u001b[1;33m.\u001b[0m\u001b[0m_jobs\u001b[0m\u001b[1;33m)\u001b[0m\u001b[1;33m\u001b[0m\u001b[1;33m\u001b[0m\u001b[0m\n\u001b[1;32m--> 753\u001b[1;33m             \u001b[0mjob\u001b[0m \u001b[1;33m=\u001b[0m \u001b[0mself\u001b[0m\u001b[1;33m.\u001b[0m\u001b[0m_backend\u001b[0m\u001b[1;33m.\u001b[0m\u001b[0mapply_async\u001b[0m\u001b[1;33m(\u001b[0m\u001b[0mbatch\u001b[0m\u001b[1;33m,\u001b[0m \u001b[0mcallback\u001b[0m\u001b[1;33m=\u001b[0m\u001b[0mcb\u001b[0m\u001b[1;33m)\u001b[0m\u001b[1;33m\u001b[0m\u001b[1;33m\u001b[0m\u001b[0m\n\u001b[0m\u001b[0;32m    754\u001b[0m             \u001b[1;31m# A job can complete so quickly than its callback is\u001b[0m\u001b[1;33m\u001b[0m\u001b[1;33m\u001b[0m\u001b[1;33m\u001b[0m\u001b[0m\n\u001b[0;32m    755\u001b[0m             \u001b[1;31m# called before we get here, causing self._jobs to\u001b[0m\u001b[1;33m\u001b[0m\u001b[1;33m\u001b[0m\u001b[1;33m\u001b[0m\u001b[0m\n",
            "\u001b[1;32m~\\AppData\\Local\\Continuum\\anaconda3\\lib\\site-packages\\joblib\\_parallel_backends.py\u001b[0m in \u001b[0;36mapply_async\u001b[1;34m(self, func, callback)\u001b[0m\n\u001b[0;32m    199\u001b[0m     \u001b[1;32mdef\u001b[0m \u001b[0mapply_async\u001b[0m\u001b[1;33m(\u001b[0m\u001b[0mself\u001b[0m\u001b[1;33m,\u001b[0m \u001b[0mfunc\u001b[0m\u001b[1;33m,\u001b[0m \u001b[0mcallback\u001b[0m\u001b[1;33m=\u001b[0m\u001b[1;32mNone\u001b[0m\u001b[1;33m)\u001b[0m\u001b[1;33m:\u001b[0m\u001b[1;33m\u001b[0m\u001b[1;33m\u001b[0m\u001b[0m\n\u001b[0;32m    200\u001b[0m         \u001b[1;34m\"\"\"Schedule a func to be run\"\"\"\u001b[0m\u001b[1;33m\u001b[0m\u001b[1;33m\u001b[0m\u001b[0m\n\u001b[1;32m--> 201\u001b[1;33m         \u001b[0mresult\u001b[0m \u001b[1;33m=\u001b[0m \u001b[0mImmediateResult\u001b[0m\u001b[1;33m(\u001b[0m\u001b[0mfunc\u001b[0m\u001b[1;33m)\u001b[0m\u001b[1;33m\u001b[0m\u001b[1;33m\u001b[0m\u001b[0m\n\u001b[0m\u001b[0;32m    202\u001b[0m         \u001b[1;32mif\u001b[0m \u001b[0mcallback\u001b[0m\u001b[1;33m:\u001b[0m\u001b[1;33m\u001b[0m\u001b[1;33m\u001b[0m\u001b[0m\n\u001b[0;32m    203\u001b[0m             \u001b[0mcallback\u001b[0m\u001b[1;33m(\u001b[0m\u001b[0mresult\u001b[0m\u001b[1;33m)\u001b[0m\u001b[1;33m\u001b[0m\u001b[1;33m\u001b[0m\u001b[0m\n",
            "\u001b[1;32m~\\AppData\\Local\\Continuum\\anaconda3\\lib\\site-packages\\joblib\\_parallel_backends.py\u001b[0m in \u001b[0;36m__init__\u001b[1;34m(self, batch)\u001b[0m\n\u001b[0;32m    580\u001b[0m         \u001b[1;31m# Don't delay the application, to avoid keeping the input\u001b[0m\u001b[1;33m\u001b[0m\u001b[1;33m\u001b[0m\u001b[1;33m\u001b[0m\u001b[0m\n\u001b[0;32m    581\u001b[0m         \u001b[1;31m# arguments in memory\u001b[0m\u001b[1;33m\u001b[0m\u001b[1;33m\u001b[0m\u001b[1;33m\u001b[0m\u001b[0m\n\u001b[1;32m--> 582\u001b[1;33m         \u001b[0mself\u001b[0m\u001b[1;33m.\u001b[0m\u001b[0mresults\u001b[0m \u001b[1;33m=\u001b[0m \u001b[0mbatch\u001b[0m\u001b[1;33m(\u001b[0m\u001b[1;33m)\u001b[0m\u001b[1;33m\u001b[0m\u001b[1;33m\u001b[0m\u001b[0m\n\u001b[0m\u001b[0;32m    583\u001b[0m \u001b[1;33m\u001b[0m\u001b[0m\n\u001b[0;32m    584\u001b[0m     \u001b[1;32mdef\u001b[0m \u001b[0mget\u001b[0m\u001b[1;33m(\u001b[0m\u001b[0mself\u001b[0m\u001b[1;33m)\u001b[0m\u001b[1;33m:\u001b[0m\u001b[1;33m\u001b[0m\u001b[1;33m\u001b[0m\u001b[0m\n",
            "\u001b[1;32m~\\AppData\\Local\\Continuum\\anaconda3\\lib\\site-packages\\joblib\\parallel.py\u001b[0m in \u001b[0;36m__call__\u001b[1;34m(self)\u001b[0m\n\u001b[0;32m    254\u001b[0m         \u001b[1;32mwith\u001b[0m \u001b[0mparallel_backend\u001b[0m\u001b[1;33m(\u001b[0m\u001b[0mself\u001b[0m\u001b[1;33m.\u001b[0m\u001b[0m_backend\u001b[0m\u001b[1;33m,\u001b[0m \u001b[0mn_jobs\u001b[0m\u001b[1;33m=\u001b[0m\u001b[0mself\u001b[0m\u001b[1;33m.\u001b[0m\u001b[0m_n_jobs\u001b[0m\u001b[1;33m)\u001b[0m\u001b[1;33m:\u001b[0m\u001b[1;33m\u001b[0m\u001b[1;33m\u001b[0m\u001b[0m\n\u001b[0;32m    255\u001b[0m             return [func(*args, **kwargs)\n\u001b[1;32m--> 256\u001b[1;33m                     for func, args, kwargs in self.items]\n\u001b[0m\u001b[0;32m    257\u001b[0m \u001b[1;33m\u001b[0m\u001b[0m\n\u001b[0;32m    258\u001b[0m     \u001b[1;32mdef\u001b[0m \u001b[0m__len__\u001b[0m\u001b[1;33m(\u001b[0m\u001b[0mself\u001b[0m\u001b[1;33m)\u001b[0m\u001b[1;33m:\u001b[0m\u001b[1;33m\u001b[0m\u001b[1;33m\u001b[0m\u001b[0m\n",
            "\u001b[1;32m~\\AppData\\Local\\Continuum\\anaconda3\\lib\\site-packages\\joblib\\parallel.py\u001b[0m in \u001b[0;36m<listcomp>\u001b[1;34m(.0)\u001b[0m\n\u001b[0;32m    254\u001b[0m         \u001b[1;32mwith\u001b[0m \u001b[0mparallel_backend\u001b[0m\u001b[1;33m(\u001b[0m\u001b[0mself\u001b[0m\u001b[1;33m.\u001b[0m\u001b[0m_backend\u001b[0m\u001b[1;33m,\u001b[0m \u001b[0mn_jobs\u001b[0m\u001b[1;33m=\u001b[0m\u001b[0mself\u001b[0m\u001b[1;33m.\u001b[0m\u001b[0m_n_jobs\u001b[0m\u001b[1;33m)\u001b[0m\u001b[1;33m:\u001b[0m\u001b[1;33m\u001b[0m\u001b[1;33m\u001b[0m\u001b[0m\n\u001b[0;32m    255\u001b[0m             return [func(*args, **kwargs)\n\u001b[1;32m--> 256\u001b[1;33m                     for func, args, kwargs in self.items]\n\u001b[0m\u001b[0;32m    257\u001b[0m \u001b[1;33m\u001b[0m\u001b[0m\n\u001b[0;32m    258\u001b[0m     \u001b[1;32mdef\u001b[0m \u001b[0m__len__\u001b[0m\u001b[1;33m(\u001b[0m\u001b[0mself\u001b[0m\u001b[1;33m)\u001b[0m\u001b[1;33m:\u001b[0m\u001b[1;33m\u001b[0m\u001b[1;33m\u001b[0m\u001b[0m\n",
            "\u001b[1;32m~\\AppData\\Local\\Continuum\\anaconda3\\lib\\site-packages\\sklearn\\ensemble\\_forest.py\u001b[0m in \u001b[0;36m_parallel_build_trees\u001b[1;34m(tree, forest, X, y, sample_weight, tree_idx, n_trees, verbose, class_weight, n_samples_bootstrap)\u001b[0m\n\u001b[0;32m    163\u001b[0m             \u001b[0mcurr_sample_weight\u001b[0m \u001b[1;33m*=\u001b[0m \u001b[0mcompute_sample_weight\u001b[0m\u001b[1;33m(\u001b[0m\u001b[1;34m'balanced'\u001b[0m\u001b[1;33m,\u001b[0m \u001b[0my\u001b[0m\u001b[1;33m,\u001b[0m \u001b[0mindices\u001b[0m\u001b[1;33m)\u001b[0m\u001b[1;33m\u001b[0m\u001b[1;33m\u001b[0m\u001b[0m\n\u001b[0;32m    164\u001b[0m \u001b[1;33m\u001b[0m\u001b[0m\n\u001b[1;32m--> 165\u001b[1;33m         \u001b[0mtree\u001b[0m\u001b[1;33m.\u001b[0m\u001b[0mfit\u001b[0m\u001b[1;33m(\u001b[0m\u001b[0mX\u001b[0m\u001b[1;33m,\u001b[0m \u001b[0my\u001b[0m\u001b[1;33m,\u001b[0m \u001b[0msample_weight\u001b[0m\u001b[1;33m=\u001b[0m\u001b[0mcurr_sample_weight\u001b[0m\u001b[1;33m,\u001b[0m \u001b[0mcheck_input\u001b[0m\u001b[1;33m=\u001b[0m\u001b[1;32mFalse\u001b[0m\u001b[1;33m)\u001b[0m\u001b[1;33m\u001b[0m\u001b[1;33m\u001b[0m\u001b[0m\n\u001b[0m\u001b[0;32m    166\u001b[0m     \u001b[1;32melse\u001b[0m\u001b[1;33m:\u001b[0m\u001b[1;33m\u001b[0m\u001b[1;33m\u001b[0m\u001b[0m\n\u001b[0;32m    167\u001b[0m         \u001b[0mtree\u001b[0m\u001b[1;33m.\u001b[0m\u001b[0mfit\u001b[0m\u001b[1;33m(\u001b[0m\u001b[0mX\u001b[0m\u001b[1;33m,\u001b[0m \u001b[0my\u001b[0m\u001b[1;33m,\u001b[0m \u001b[0msample_weight\u001b[0m\u001b[1;33m=\u001b[0m\u001b[0msample_weight\u001b[0m\u001b[1;33m,\u001b[0m \u001b[0mcheck_input\u001b[0m\u001b[1;33m=\u001b[0m\u001b[1;32mFalse\u001b[0m\u001b[1;33m)\u001b[0m\u001b[1;33m\u001b[0m\u001b[1;33m\u001b[0m\u001b[0m\n",
            "\u001b[1;32m~\\AppData\\Local\\Continuum\\anaconda3\\lib\\site-packages\\sklearn\\tree\\_classes.py\u001b[0m in \u001b[0;36mfit\u001b[1;34m(self, X, y, sample_weight, check_input, X_idx_sorted)\u001b[0m\n\u001b[0;32m   1223\u001b[0m             \u001b[0msample_weight\u001b[0m\u001b[1;33m=\u001b[0m\u001b[0msample_weight\u001b[0m\u001b[1;33m,\u001b[0m\u001b[1;33m\u001b[0m\u001b[1;33m\u001b[0m\u001b[0m\n\u001b[0;32m   1224\u001b[0m             \u001b[0mcheck_input\u001b[0m\u001b[1;33m=\u001b[0m\u001b[0mcheck_input\u001b[0m\u001b[1;33m,\u001b[0m\u001b[1;33m\u001b[0m\u001b[1;33m\u001b[0m\u001b[0m\n\u001b[1;32m-> 1225\u001b[1;33m             X_idx_sorted=X_idx_sorted)\n\u001b[0m\u001b[0;32m   1226\u001b[0m         \u001b[1;32mreturn\u001b[0m \u001b[0mself\u001b[0m\u001b[1;33m\u001b[0m\u001b[1;33m\u001b[0m\u001b[0m\n\u001b[0;32m   1227\u001b[0m \u001b[1;33m\u001b[0m\u001b[0m\n",
            "\u001b[1;32m~\\AppData\\Local\\Continuum\\anaconda3\\lib\\site-packages\\sklearn\\tree\\_classes.py\u001b[0m in \u001b[0;36mfit\u001b[1;34m(self, X, y, sample_weight, check_input, X_idx_sorted)\u001b[0m\n\u001b[0;32m    365\u001b[0m                                            min_impurity_split)\n\u001b[0;32m    366\u001b[0m \u001b[1;33m\u001b[0m\u001b[0m\n\u001b[1;32m--> 367\u001b[1;33m         \u001b[0mbuilder\u001b[0m\u001b[1;33m.\u001b[0m\u001b[0mbuild\u001b[0m\u001b[1;33m(\u001b[0m\u001b[0mself\u001b[0m\u001b[1;33m.\u001b[0m\u001b[0mtree_\u001b[0m\u001b[1;33m,\u001b[0m \u001b[0mX\u001b[0m\u001b[1;33m,\u001b[0m \u001b[0my\u001b[0m\u001b[1;33m,\u001b[0m \u001b[0msample_weight\u001b[0m\u001b[1;33m,\u001b[0m \u001b[0mX_idx_sorted\u001b[0m\u001b[1;33m)\u001b[0m\u001b[1;33m\u001b[0m\u001b[1;33m\u001b[0m\u001b[0m\n\u001b[0m\u001b[0;32m    368\u001b[0m \u001b[1;33m\u001b[0m\u001b[0m\n\u001b[0;32m    369\u001b[0m         \u001b[1;32mif\u001b[0m \u001b[0mself\u001b[0m\u001b[1;33m.\u001b[0m\u001b[0mn_outputs_\u001b[0m \u001b[1;33m==\u001b[0m \u001b[1;36m1\u001b[0m \u001b[1;32mand\u001b[0m \u001b[0mis_classifier\u001b[0m\u001b[1;33m(\u001b[0m\u001b[0mself\u001b[0m\u001b[1;33m)\u001b[0m\u001b[1;33m:\u001b[0m\u001b[1;33m\u001b[0m\u001b[1;33m\u001b[0m\u001b[0m\n",
            "\u001b[1;31mKeyboardInterrupt\u001b[0m: "
          ]
        }
      ]
    },
    {
      "cell_type": "code",
      "metadata": {
        "id": "8WzJpiN9-b-E",
        "colab_type": "code",
        "colab": {},
        "outputId": "c558d9ff-d64a-4e26-bf56-30c894f880a9"
      },
      "source": [
        "np.random.seed(9)\n",
        "df_rfe = df[:train.shape[0]].filter(items=feat_rfe_20)\n",
        "\n",
        "X_rfe = df_rfe.values\n",
        "\n",
        "X_train_std = stdsc.fit_transform(X_rfe)\n",
        "\n",
        "\n",
        "result = cross_val_score(RandomForestRegressor(), X_train_std, y, scoring='neg_root_mean_squared_error', cv=3)\n",
        "print(\"RMSE:\",-result.mean())"
      ],
      "execution_count": null,
      "outputs": [
        {
          "output_type": "stream",
          "text": [
            "RMSE: 0.14733246231422417\n"
          ],
          "name": "stdout"
        }
      ]
    },
    {
      "cell_type": "markdown",
      "metadata": {
        "id": "EaTLcMeJ-b-H",
        "colab_type": "text"
      },
      "source": [
        "### **Recursive Feature elimination - Lasso** "
      ]
    },
    {
      "cell_type": "code",
      "metadata": {
        "collapsed": true,
        "jupyter": {
          "outputs_hidden": true
        },
        "id": "rPI0gcTw-b-H",
        "colab_type": "code",
        "colab": {},
        "outputId": "be9550fd-afe9-4560-ee30-7b1c5b357b64"
      },
      "source": [
        "from sklearn.feature_selection import RFE\n",
        "from sklearn.linear_model import Lasso\n",
        "\n",
        "rfe_lasso = RFE(Lasso(), 50, verbose=2 )\n",
        "rfe_lasso.fit(X_std_main, y)\n",
        "\n",
        "feature_rfe_scoring = pd.DataFrame({\n",
        "        'feature': df.columns,\n",
        "        'score': rfe.ranking_\n",
        "    })\n",
        "\n",
        "feat_rfe_20_lasso = feature_rfe_scoring[feature_rfe_scoring['score'] == 1]['feature'].values\n",
        "feat_rfe_20_lasso"
      ],
      "execution_count": null,
      "outputs": [
        {
          "output_type": "stream",
          "text": [
            "Fitting estimator with 285 features.\n",
            "Fitting estimator with 284 features.\n",
            "Fitting estimator with 283 features.\n",
            "Fitting estimator with 282 features.\n",
            "Fitting estimator with 281 features.\n",
            "Fitting estimator with 280 features.\n",
            "Fitting estimator with 279 features.\n",
            "Fitting estimator with 278 features.\n",
            "Fitting estimator with 277 features.\n",
            "Fitting estimator with 276 features.\n",
            "Fitting estimator with 275 features.\n",
            "Fitting estimator with 274 features.\n",
            "Fitting estimator with 273 features.\n",
            "Fitting estimator with 272 features.\n",
            "Fitting estimator with 271 features.\n",
            "Fitting estimator with 270 features.\n",
            "Fitting estimator with 269 features.\n",
            "Fitting estimator with 268 features.\n",
            "Fitting estimator with 267 features.\n",
            "Fitting estimator with 266 features.\n",
            "Fitting estimator with 265 features.\n",
            "Fitting estimator with 264 features.\n",
            "Fitting estimator with 263 features.\n",
            "Fitting estimator with 262 features.\n",
            "Fitting estimator with 261 features.\n",
            "Fitting estimator with 260 features.\n",
            "Fitting estimator with 259 features.\n",
            "Fitting estimator with 258 features.\n",
            "Fitting estimator with 257 features.\n",
            "Fitting estimator with 256 features.\n",
            "Fitting estimator with 255 features.\n",
            "Fitting estimator with 254 features.\n",
            "Fitting estimator with 253 features.\n",
            "Fitting estimator with 252 features.\n",
            "Fitting estimator with 251 features.\n",
            "Fitting estimator with 250 features.\n",
            "Fitting estimator with 249 features.\n",
            "Fitting estimator with 248 features.\n",
            "Fitting estimator with 247 features.\n",
            "Fitting estimator with 246 features.\n",
            "Fitting estimator with 245 features.\n",
            "Fitting estimator with 244 features.\n",
            "Fitting estimator with 243 features.\n",
            "Fitting estimator with 242 features.\n",
            "Fitting estimator with 241 features.\n",
            "Fitting estimator with 240 features.\n",
            "Fitting estimator with 239 features.\n",
            "Fitting estimator with 238 features.\n",
            "Fitting estimator with 237 features.\n",
            "Fitting estimator with 236 features.\n",
            "Fitting estimator with 235 features.\n",
            "Fitting estimator with 234 features.\n",
            "Fitting estimator with 233 features.\n",
            "Fitting estimator with 232 features.\n",
            "Fitting estimator with 231 features.\n",
            "Fitting estimator with 230 features.\n",
            "Fitting estimator with 229 features.\n",
            "Fitting estimator with 228 features.\n",
            "Fitting estimator with 227 features.\n",
            "Fitting estimator with 226 features.\n",
            "Fitting estimator with 225 features.\n",
            "Fitting estimator with 224 features.\n",
            "Fitting estimator with 223 features.\n",
            "Fitting estimator with 222 features.\n",
            "Fitting estimator with 221 features.\n",
            "Fitting estimator with 220 features.\n",
            "Fitting estimator with 219 features.\n",
            "Fitting estimator with 218 features.\n",
            "Fitting estimator with 217 features.\n",
            "Fitting estimator with 216 features.\n",
            "Fitting estimator with 215 features.\n",
            "Fitting estimator with 214 features.\n",
            "Fitting estimator with 213 features.\n",
            "Fitting estimator with 212 features.\n",
            "Fitting estimator with 211 features.\n",
            "Fitting estimator with 210 features.\n",
            "Fitting estimator with 209 features.\n",
            "Fitting estimator with 208 features.\n",
            "Fitting estimator with 207 features.\n",
            "Fitting estimator with 206 features.\n",
            "Fitting estimator with 205 features.\n",
            "Fitting estimator with 204 features.\n",
            "Fitting estimator with 203 features.\n",
            "Fitting estimator with 202 features.\n",
            "Fitting estimator with 201 features.\n",
            "Fitting estimator with 200 features.\n",
            "Fitting estimator with 199 features.\n",
            "Fitting estimator with 198 features.\n",
            "Fitting estimator with 197 features.\n",
            "Fitting estimator with 196 features.\n",
            "Fitting estimator with 195 features.\n",
            "Fitting estimator with 194 features.\n",
            "Fitting estimator with 193 features.\n",
            "Fitting estimator with 192 features.\n",
            "Fitting estimator with 191 features.\n",
            "Fitting estimator with 190 features.\n",
            "Fitting estimator with 189 features.\n",
            "Fitting estimator with 188 features.\n",
            "Fitting estimator with 187 features.\n",
            "Fitting estimator with 186 features.\n",
            "Fitting estimator with 185 features.\n",
            "Fitting estimator with 184 features.\n",
            "Fitting estimator with 183 features.\n",
            "Fitting estimator with 182 features.\n",
            "Fitting estimator with 181 features.\n",
            "Fitting estimator with 180 features.\n",
            "Fitting estimator with 179 features.\n",
            "Fitting estimator with 178 features.\n",
            "Fitting estimator with 177 features.\n",
            "Fitting estimator with 176 features.\n",
            "Fitting estimator with 175 features.\n",
            "Fitting estimator with 174 features.\n",
            "Fitting estimator with 173 features.\n",
            "Fitting estimator with 172 features.\n",
            "Fitting estimator with 171 features.\n",
            "Fitting estimator with 170 features.\n",
            "Fitting estimator with 169 features.\n",
            "Fitting estimator with 168 features.\n",
            "Fitting estimator with 167 features.\n",
            "Fitting estimator with 166 features.\n",
            "Fitting estimator with 165 features.\n",
            "Fitting estimator with 164 features.\n",
            "Fitting estimator with 163 features.\n",
            "Fitting estimator with 162 features.\n",
            "Fitting estimator with 161 features.\n",
            "Fitting estimator with 160 features.\n",
            "Fitting estimator with 159 features.\n",
            "Fitting estimator with 158 features.\n",
            "Fitting estimator with 157 features.\n",
            "Fitting estimator with 156 features.\n",
            "Fitting estimator with 155 features.\n",
            "Fitting estimator with 154 features.\n",
            "Fitting estimator with 153 features.\n",
            "Fitting estimator with 152 features.\n",
            "Fitting estimator with 151 features.\n",
            "Fitting estimator with 150 features.\n",
            "Fitting estimator with 149 features.\n",
            "Fitting estimator with 148 features.\n",
            "Fitting estimator with 147 features.\n",
            "Fitting estimator with 146 features.\n",
            "Fitting estimator with 145 features.\n",
            "Fitting estimator with 144 features.\n",
            "Fitting estimator with 143 features.\n",
            "Fitting estimator with 142 features.\n",
            "Fitting estimator with 141 features.\n",
            "Fitting estimator with 140 features.\n",
            "Fitting estimator with 139 features.\n",
            "Fitting estimator with 138 features.\n",
            "Fitting estimator with 137 features.\n",
            "Fitting estimator with 136 features.\n",
            "Fitting estimator with 135 features.\n",
            "Fitting estimator with 134 features.\n",
            "Fitting estimator with 133 features.\n",
            "Fitting estimator with 132 features.\n",
            "Fitting estimator with 131 features.\n",
            "Fitting estimator with 130 features.\n",
            "Fitting estimator with 129 features.\n",
            "Fitting estimator with 128 features.\n",
            "Fitting estimator with 127 features.\n",
            "Fitting estimator with 126 features.\n",
            "Fitting estimator with 125 features.\n",
            "Fitting estimator with 124 features.\n",
            "Fitting estimator with 123 features.\n",
            "Fitting estimator with 122 features.\n",
            "Fitting estimator with 121 features.\n",
            "Fitting estimator with 120 features.\n",
            "Fitting estimator with 119 features.\n",
            "Fitting estimator with 118 features.\n",
            "Fitting estimator with 117 features.\n",
            "Fitting estimator with 116 features.\n",
            "Fitting estimator with 115 features.\n",
            "Fitting estimator with 114 features.\n",
            "Fitting estimator with 113 features.\n",
            "Fitting estimator with 112 features.\n",
            "Fitting estimator with 111 features.\n",
            "Fitting estimator with 110 features.\n",
            "Fitting estimator with 109 features.\n",
            "Fitting estimator with 108 features.\n",
            "Fitting estimator with 107 features.\n",
            "Fitting estimator with 106 features.\n",
            "Fitting estimator with 105 features.\n",
            "Fitting estimator with 104 features.\n",
            "Fitting estimator with 103 features.\n",
            "Fitting estimator with 102 features.\n",
            "Fitting estimator with 101 features.\n",
            "Fitting estimator with 100 features.\n",
            "Fitting estimator with 99 features.\n",
            "Fitting estimator with 98 features.\n",
            "Fitting estimator with 97 features.\n",
            "Fitting estimator with 96 features.\n",
            "Fitting estimator with 95 features.\n",
            "Fitting estimator with 94 features.\n",
            "Fitting estimator with 93 features.\n",
            "Fitting estimator with 92 features.\n",
            "Fitting estimator with 91 features.\n",
            "Fitting estimator with 90 features.\n",
            "Fitting estimator with 89 features.\n",
            "Fitting estimator with 88 features.\n",
            "Fitting estimator with 87 features.\n",
            "Fitting estimator with 86 features.\n",
            "Fitting estimator with 85 features.\n",
            "Fitting estimator with 84 features.\n",
            "Fitting estimator with 83 features.\n",
            "Fitting estimator with 82 features.\n",
            "Fitting estimator with 81 features.\n",
            "Fitting estimator with 80 features.\n",
            "Fitting estimator with 79 features.\n",
            "Fitting estimator with 78 features.\n",
            "Fitting estimator with 77 features.\n",
            "Fitting estimator with 76 features.\n",
            "Fitting estimator with 75 features.\n",
            "Fitting estimator with 74 features.\n",
            "Fitting estimator with 73 features.\n",
            "Fitting estimator with 72 features.\n",
            "Fitting estimator with 71 features.\n",
            "Fitting estimator with 70 features.\n",
            "Fitting estimator with 69 features.\n",
            "Fitting estimator with 68 features.\n",
            "Fitting estimator with 67 features.\n",
            "Fitting estimator with 66 features.\n",
            "Fitting estimator with 65 features.\n",
            "Fitting estimator with 64 features.\n",
            "Fitting estimator with 63 features.\n",
            "Fitting estimator with 62 features.\n",
            "Fitting estimator with 61 features.\n",
            "Fitting estimator with 60 features.\n",
            "Fitting estimator with 59 features.\n",
            "Fitting estimator with 58 features.\n",
            "Fitting estimator with 57 features.\n",
            "Fitting estimator with 56 features.\n",
            "Fitting estimator with 55 features.\n",
            "Fitting estimator with 54 features.\n",
            "Fitting estimator with 53 features.\n",
            "Fitting estimator with 52 features.\n",
            "Fitting estimator with 51 features.\n"
          ],
          "name": "stdout"
        },
        {
          "output_type": "error",
          "ename": "AttributeError",
          "evalue": "'RFE' object has no attribute 'ranking_'",
          "traceback": [
            "\u001b[1;31m---------------------------------------------------------------------------\u001b[0m",
            "\u001b[1;31mAttributeError\u001b[0m                            Traceback (most recent call last)",
            "\u001b[1;32m<ipython-input-694-38ea0d6b3af2>\u001b[0m in \u001b[0;36m<module>\u001b[1;34m\u001b[0m\n\u001b[0;32m      7\u001b[0m feature_rfe_scoring = pd.DataFrame({\n\u001b[0;32m      8\u001b[0m         \u001b[1;34m'feature'\u001b[0m\u001b[1;33m:\u001b[0m \u001b[0mdf\u001b[0m\u001b[1;33m.\u001b[0m\u001b[0mcolumns\u001b[0m\u001b[1;33m,\u001b[0m\u001b[1;33m\u001b[0m\u001b[1;33m\u001b[0m\u001b[0m\n\u001b[1;32m----> 9\u001b[1;33m         \u001b[1;34m'score'\u001b[0m\u001b[1;33m:\u001b[0m \u001b[0mrfe\u001b[0m\u001b[1;33m.\u001b[0m\u001b[0mranking_\u001b[0m\u001b[1;33m\u001b[0m\u001b[1;33m\u001b[0m\u001b[0m\n\u001b[0m\u001b[0;32m     10\u001b[0m     })\n\u001b[0;32m     11\u001b[0m \u001b[1;33m\u001b[0m\u001b[0m\n",
            "\u001b[1;31mAttributeError\u001b[0m: 'RFE' object has no attribute 'ranking_'"
          ]
        }
      ]
    },
    {
      "cell_type": "code",
      "metadata": {
        "id": "EEvTYTRR-b-K",
        "colab_type": "code",
        "colab": {},
        "outputId": "67922c5e-c184-4bf1-8c88-57befa2f600f"
      },
      "source": [
        "np.random.seed(9)\n",
        "df_rfe_lasso = df[:train.shape[0]].filter(items=feat_rfe_20_lasso)\n",
        "\n",
        "X_rfe_lasso = df_rfe_lasso.values\n",
        "\n",
        "X_train_std = stdsc.fit_transform(X_rfe_lasso)\n",
        "\n",
        "result = cross_val_score(RandomForestRegressor(), X_train_std, y, scoring='neg_root_mean_squared_error', cv=3)\n",
        "print(\"RMSE:\",-result.mean())"
      ],
      "execution_count": null,
      "outputs": [
        {
          "output_type": "stream",
          "text": [
            "RMSE: 0.14733246231422417\n"
          ],
          "name": "stdout"
        }
      ]
    },
    {
      "cell_type": "markdown",
      "metadata": {
        "_cell_guid": "cb552322-a961-b561-4c37-f92fbcc01a8f",
        "id": "Zf0DZXxa-b-N",
        "colab_type": "text"
      },
      "source": [
        "### **Stack of algorithms**"
      ]
    },
    {
      "cell_type": "code",
      "metadata": {
        "_cell_guid": "1ceace3c-b1a2-3fa5-6097-26f902ebb0c4",
        "collapsed": true,
        "jupyter": {
          "outputs_hidden": true
        },
        "id": "CeBFZQgv-b-O",
        "colab_type": "code",
        "colab": {},
        "outputId": "d22fbdc9-ecd6-49e8-9479-bbde307b6ba5"
      },
      "source": [
        "features = np.hstack([\n",
        "        feat_var_threshold[0:50], \n",
        "        feat_imp_20,\n",
        "        feat_scored_20,\n",
        "#         feat_rfe_20,\n",
        "        feat_rfe_20_lasso\n",
        "    ])\n",
        "\n",
        "features_stack = np.unique(features)\n",
        "print('Final features set:\\n')\n",
        "print(len(features_stack),\"features:\")\n",
        "for f in features_stack:\n",
        "    print(\"\\t-{}\".format(f))"
      ],
      "execution_count": null,
      "outputs": [
        {
          "output_type": "stream",
          "text": [
            "Final features set:\n",
            "\n",
            "87 features:\n",
            "\t-1stFlrSF\n",
            "\t-2ndFlrSF\n",
            "\t-3SsnPorch\n",
            "\t-BedroomAbvGr\n",
            "\t-BldgType_1Fam\n",
            "\t-BsmtFinSF1\n",
            "\t-BsmtFinSF2\n",
            "\t-BsmtFinType1_GLQ\n",
            "\t-BsmtFullBath\n",
            "\t-BsmtQual_Ex\n",
            "\t-BsmtQual_Gd\n",
            "\t-BsmtQual_TA\n",
            "\t-BsmtUnfSF\n",
            "\t-CentralAir\n",
            "\t-EnclosedPorch\n",
            "\t-ExterCond_Fa\n",
            "\t-ExterQual_Ex\n",
            "\t-ExterQual_Gd\n",
            "\t-ExterQual_TA\n",
            "\t-Exterior1st_HdBoard\n",
            "\t-Exterior1st_MetalSd\n",
            "\t-Exterior1st_VinylSd\n",
            "\t-Exterior2nd_VinylSd\n",
            "\t-FireplaceQu_Gd\n",
            "\t-FireplaceQu_NoFireplace\n",
            "\t-Fireplaces\n",
            "\t-Foundation_CBlock\n",
            "\t-Foundation_PConc\n",
            "\t-FullBath\n",
            "\t-GarageArea\n",
            "\t-GarageCars\n",
            "\t-GarageCond_NoGarage\n",
            "\t-GarageCond_TA\n",
            "\t-GarageFinish_Fin\n",
            "\t-GarageFinish_NoGarage\n",
            "\t-GarageFinish_Unf\n",
            "\t-GarageQual_NoGarage\n",
            "\t-GarageQual_TA\n",
            "\t-GarageType_Attchd\n",
            "\t-GarageType_Detchd\n",
            "\t-GarageType_NoGarage\n",
            "\t-GarageYrBlt\n",
            "\t-GrLivArea\n",
            "\t-HalfBath\n",
            "\t-HeatingQC_Ex\n",
            "\t-HeatingQC_TA\n",
            "\t-HouseStyle_1Story\n",
            "\t-HouseStyle_2Story\n",
            "\t-KitchenAbvGr\n",
            "\t-KitchenQual_Ex\n",
            "\t-KitchenQual_Gd\n",
            "\t-KitchenQual_TA\n",
            "\t-LotArea\n",
            "\t-LotConfig_Corner\n",
            "\t-LotConfig_Inside\n",
            "\t-LotFrontage\n",
            "\t-LotShape_IR1\n",
            "\t-LotShape_Reg\n",
            "\t-LowQualFinSF\n",
            "\t-MSSubClass\n",
            "\t-MSZoning_C (all)\n",
            "\t-MSZoning_RL\n",
            "\t-MSZoning_RM\n",
            "\t-MasVnrArea\n",
            "\t-MasVnrType_BrkFace\n",
            "\t-MasVnrType_None\n",
            "\t-MiscVal\n",
            "\t-MoSold\n",
            "\t-Neighborhood_Edwards\n",
            "\t-Neighborhood_NAmes\n",
            "\t-Neighborhood_NridgHt\n",
            "\t-OpenPorchSF\n",
            "\t-OverallCond\n",
            "\t-OverallQual\n",
            "\t-PoolArea\n",
            "\t-RoofStyle_Gable\n",
            "\t-RoofStyle_Hip\n",
            "\t-SaleCondition_Abnorml\n",
            "\t-SaleCondition_Partial\n",
            "\t-SaleType_New\n",
            "\t-ScreenPorch\n",
            "\t-TotRmsAbvGrd\n",
            "\t-TotalBsmtSF\n",
            "\t-WoodDeckSF\n",
            "\t-YearBuilt\n",
            "\t-YearRemodAdd\n",
            "\t-YrSold\n"
          ],
          "name": "stdout"
        }
      ]
    },
    {
      "cell_type": "code",
      "metadata": {
        "id": "9j_Z1rKB-b-R",
        "colab_type": "code",
        "colab": {},
        "outputId": "524778f8-fa58-4338-c168-1bf31f08f05a"
      },
      "source": [
        "np.random.seed(9)\n",
        "df_stack = df[:train.shape[0]].filter(items=features_stack)\n",
        "\n",
        "X_stack = df_stack.values\n",
        "\n",
        "X_train_std = stdsc.fit_transform(X_stack)\n",
        "\n",
        "result = cross_val_score(RandomForestRegressor(), X_train_std, y, scoring='neg_root_mean_squared_error',cv = 3)\n",
        "print(\"RMSE:\",-result.mean())"
      ],
      "execution_count": null,
      "outputs": [
        {
          "output_type": "stream",
          "text": [
            "RMSE: 0.14743557488252831\n"
          ],
          "name": "stdout"
        }
      ]
    },
    {
      "cell_type": "code",
      "metadata": {
        "id": "JqRntw77-b-W",
        "colab_type": "code",
        "colab": {}
      },
      "source": [
        ""
      ],
      "execution_count": null,
      "outputs": []
    },
    {
      "cell_type": "code",
      "metadata": {
        "id": "3HCAcVyX-b-Z",
        "colab_type": "code",
        "colab": {}
      },
      "source": [
        ""
      ],
      "execution_count": null,
      "outputs": []
    },
    {
      "cell_type": "code",
      "metadata": {
        "id": "hwa-sISV-b-b",
        "colab_type": "code",
        "colab": {}
      },
      "source": [
        ""
      ],
      "execution_count": null,
      "outputs": []
    },
    {
      "cell_type": "code",
      "metadata": {
        "id": "SKuNRp3k-b-d",
        "colab_type": "code",
        "colab": {}
      },
      "source": [
        ""
      ],
      "execution_count": null,
      "outputs": []
    }
  ]
}