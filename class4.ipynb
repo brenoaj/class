{
  "nbformat": 4,
  "nbformat_minor": 0,
  "metadata": {
    "colab": {
      "name": "Geleia Class - Hiperparametrização.ipynb",
      "provenance": []
    },
    "kernelspec": {
      "name": "python3",
      "display_name": "Python 3"
    }
  },
  "cells": [
    {
      "cell_type": "markdown",
      "metadata": {
        "id": "JYBp53G0Syo3",
        "colab_type": "text"
      },
      "source": [
        "# Regressão"
      ]
    },
    {
      "cell_type": "code",
      "metadata": {
        "id": "yGtWNcWSl6HH",
        "colab_type": "code",
        "colab": {
          "base_uri": "https://localhost:8080/",
          "height": 212
        },
        "outputId": "0e5d32bd-0661-4939-f108-34516480d4bb"
      },
      "source": [
        "!pip install --upgrade kaggle"
      ],
      "execution_count": null,
      "outputs": [
        {
          "output_type": "stream",
          "text": [
            "Requirement already up-to-date: kaggle in /usr/local/lib/python3.6/dist-packages (1.5.6)\n",
            "Requirement already satisfied, skipping upgrade: tqdm in /usr/local/lib/python3.6/dist-packages (from kaggle) (4.41.1)\n",
            "Requirement already satisfied, skipping upgrade: urllib3<1.25,>=1.21.1 in /usr/local/lib/python3.6/dist-packages (from kaggle) (1.24.3)\n",
            "Requirement already satisfied, skipping upgrade: certifi in /usr/local/lib/python3.6/dist-packages (from kaggle) (2020.6.20)\n",
            "Requirement already satisfied, skipping upgrade: python-slugify in /usr/local/lib/python3.6/dist-packages (from kaggle) (4.0.1)\n",
            "Requirement already satisfied, skipping upgrade: python-dateutil in /usr/local/lib/python3.6/dist-packages (from kaggle) (2.8.1)\n",
            "Requirement already satisfied, skipping upgrade: six>=1.10 in /usr/local/lib/python3.6/dist-packages (from kaggle) (1.15.0)\n",
            "Requirement already satisfied, skipping upgrade: requests in /usr/local/lib/python3.6/dist-packages (from kaggle) (2.23.0)\n",
            "Requirement already satisfied, skipping upgrade: text-unidecode>=1.3 in /usr/local/lib/python3.6/dist-packages (from python-slugify->kaggle) (1.3)\n",
            "Requirement already satisfied, skipping upgrade: chardet<4,>=3.0.2 in /usr/local/lib/python3.6/dist-packages (from requests->kaggle) (3.0.4)\n",
            "Requirement already satisfied, skipping upgrade: idna<3,>=2.5 in /usr/local/lib/python3.6/dist-packages (from requests->kaggle) (2.10)\n"
          ],
          "name": "stdout"
        }
      ]
    },
    {
      "cell_type": "code",
      "metadata": {
        "id": "V5_JyKv_mYtj",
        "colab_type": "code",
        "colab": {}
      },
      "source": [
        "import pandas as pd\n",
        "import os\n",
        "import matplotlib.pyplot as plt\n",
        "import seaborn as sns\n",
        "import ppscore as pps\n",
        "import numpy as np\n",
        "sns.set_style('whitegrid')"
      ],
      "execution_count": null,
      "outputs": []
    },
    {
      "cell_type": "code",
      "metadata": {
        "id": "EH-Az48KmQfr",
        "colab_type": "code",
        "colab": {}
      },
      "source": [
        "kjson = pd.read_json('kaggle.json',typ='series')"
      ],
      "execution_count": null,
      "outputs": []
    },
    {
      "cell_type": "code",
      "metadata": {
        "id": "Memz8y0-mbpb",
        "colab_type": "code",
        "colab": {}
      },
      "source": [
        "os.environ['KAGGLE_USERNAME']= \"matheuscoradini\"\n",
        "os.environ['KAGGLE_KEY']= kjson.key"
      ],
      "execution_count": null,
      "outputs": []
    },
    {
      "cell_type": "code",
      "metadata": {
        "id": "PPUkrDvok5dx",
        "colab_type": "code",
        "colab": {
          "base_uri": "https://localhost:8080/",
          "height": 70
        },
        "outputId": "57c6cb47-b535-4835-d8e1-bf43f8c676f0"
      },
      "source": [
        "!kaggle datasets download --force lava18/google-play-store-apps"
      ],
      "execution_count": null,
      "outputs": [
        {
          "output_type": "stream",
          "text": [
            "Downloading google-play-store-apps.zip to /content\n",
            "\r  0% 0.00/1.94M [00:00<?, ?B/s]\n",
            "\r100% 1.94M/1.94M [00:00<00:00, 64.0MB/s]\n"
          ],
          "name": "stdout"
        }
      ]
    },
    {
      "cell_type": "code",
      "metadata": {
        "id": "aC1x15cqmaDS",
        "colab_type": "code",
        "colab": {
          "base_uri": "https://localhost:8080/",
          "height": 52
        },
        "outputId": "f4001e13-1b7d-49fb-c330-9a462e18cb4a"
      },
      "source": [
        "!unzip google-play-store-apps.zip"
      ],
      "execution_count": null,
      "outputs": [
        {
          "output_type": "stream",
          "text": [
            "Archive:  google-play-store-apps.zip\n",
            "replace googleplaystore.csv? [y]es, [n]o, [A]ll, [N]one, [r]ename: "
          ],
          "name": "stdout"
        }
      ]
    },
    {
      "cell_type": "code",
      "metadata": {
        "id": "4twOwB4IoNMk",
        "colab_type": "code",
        "colab": {}
      },
      "source": [
        "df = pd.read_csv('googleplaystore.csv')"
      ],
      "execution_count": null,
      "outputs": []
    },
    {
      "cell_type": "code",
      "metadata": {
        "id": "p84OUWdho3eq",
        "colab_type": "code",
        "colab": {
          "base_uri": "https://localhost:8080/",
          "height": 35
        },
        "outputId": "05fb975e-7d5e-48af-a357-f7a89bae71bf"
      },
      "source": [
        "df.shape"
      ],
      "execution_count": null,
      "outputs": [
        {
          "output_type": "execute_result",
          "data": {
            "text/plain": [
              "(10841, 13)"
            ]
          },
          "metadata": {
            "tags": []
          },
          "execution_count": 168
        }
      ]
    },
    {
      "cell_type": "code",
      "metadata": {
        "id": "33ulIJL3o4Kr",
        "colab_type": "code",
        "colab": {
          "base_uri": "https://localhost:8080/",
          "height": 312
        },
        "outputId": "f4efc120-20a3-4861-f952-70e82bdab232"
      },
      "source": [
        "df.head()"
      ],
      "execution_count": null,
      "outputs": [
        {
          "output_type": "execute_result",
          "data": {
            "text/html": [
              "<div>\n",
              "<style scoped>\n",
              "    .dataframe tbody tr th:only-of-type {\n",
              "        vertical-align: middle;\n",
              "    }\n",
              "\n",
              "    .dataframe tbody tr th {\n",
              "        vertical-align: top;\n",
              "    }\n",
              "\n",
              "    .dataframe thead th {\n",
              "        text-align: right;\n",
              "    }\n",
              "</style>\n",
              "<table border=\"1\" class=\"dataframe\">\n",
              "  <thead>\n",
              "    <tr style=\"text-align: right;\">\n",
              "      <th></th>\n",
              "      <th>App</th>\n",
              "      <th>Category</th>\n",
              "      <th>Rating</th>\n",
              "      <th>Reviews</th>\n",
              "      <th>Size</th>\n",
              "      <th>Installs</th>\n",
              "      <th>Type</th>\n",
              "      <th>Price</th>\n",
              "      <th>Content Rating</th>\n",
              "      <th>Genres</th>\n",
              "      <th>Last Updated</th>\n",
              "      <th>Current Ver</th>\n",
              "      <th>Android Ver</th>\n",
              "    </tr>\n",
              "  </thead>\n",
              "  <tbody>\n",
              "    <tr>\n",
              "      <th>0</th>\n",
              "      <td>Photo Editor &amp; Candy Camera &amp; Grid &amp; ScrapBook</td>\n",
              "      <td>ART_AND_DESIGN</td>\n",
              "      <td>4.1</td>\n",
              "      <td>159</td>\n",
              "      <td>19M</td>\n",
              "      <td>10,000+</td>\n",
              "      <td>Free</td>\n",
              "      <td>0</td>\n",
              "      <td>Everyone</td>\n",
              "      <td>Art &amp; Design</td>\n",
              "      <td>January 7, 2018</td>\n",
              "      <td>1.0.0</td>\n",
              "      <td>4.0.3 and up</td>\n",
              "    </tr>\n",
              "    <tr>\n",
              "      <th>1</th>\n",
              "      <td>Coloring book moana</td>\n",
              "      <td>ART_AND_DESIGN</td>\n",
              "      <td>3.9</td>\n",
              "      <td>967</td>\n",
              "      <td>14M</td>\n",
              "      <td>500,000+</td>\n",
              "      <td>Free</td>\n",
              "      <td>0</td>\n",
              "      <td>Everyone</td>\n",
              "      <td>Art &amp; Design;Pretend Play</td>\n",
              "      <td>January 15, 2018</td>\n",
              "      <td>2.0.0</td>\n",
              "      <td>4.0.3 and up</td>\n",
              "    </tr>\n",
              "    <tr>\n",
              "      <th>2</th>\n",
              "      <td>U Launcher Lite – FREE Live Cool Themes, Hide ...</td>\n",
              "      <td>ART_AND_DESIGN</td>\n",
              "      <td>4.7</td>\n",
              "      <td>87510</td>\n",
              "      <td>8.7M</td>\n",
              "      <td>5,000,000+</td>\n",
              "      <td>Free</td>\n",
              "      <td>0</td>\n",
              "      <td>Everyone</td>\n",
              "      <td>Art &amp; Design</td>\n",
              "      <td>August 1, 2018</td>\n",
              "      <td>1.2.4</td>\n",
              "      <td>4.0.3 and up</td>\n",
              "    </tr>\n",
              "    <tr>\n",
              "      <th>3</th>\n",
              "      <td>Sketch - Draw &amp; Paint</td>\n",
              "      <td>ART_AND_DESIGN</td>\n",
              "      <td>4.5</td>\n",
              "      <td>215644</td>\n",
              "      <td>25M</td>\n",
              "      <td>50,000,000+</td>\n",
              "      <td>Free</td>\n",
              "      <td>0</td>\n",
              "      <td>Teen</td>\n",
              "      <td>Art &amp; Design</td>\n",
              "      <td>June 8, 2018</td>\n",
              "      <td>Varies with device</td>\n",
              "      <td>4.2 and up</td>\n",
              "    </tr>\n",
              "    <tr>\n",
              "      <th>4</th>\n",
              "      <td>Pixel Draw - Number Art Coloring Book</td>\n",
              "      <td>ART_AND_DESIGN</td>\n",
              "      <td>4.3</td>\n",
              "      <td>967</td>\n",
              "      <td>2.8M</td>\n",
              "      <td>100,000+</td>\n",
              "      <td>Free</td>\n",
              "      <td>0</td>\n",
              "      <td>Everyone</td>\n",
              "      <td>Art &amp; Design;Creativity</td>\n",
              "      <td>June 20, 2018</td>\n",
              "      <td>1.1</td>\n",
              "      <td>4.4 and up</td>\n",
              "    </tr>\n",
              "  </tbody>\n",
              "</table>\n",
              "</div>"
            ],
            "text/plain": [
              "                                                 App  ...   Android Ver\n",
              "0     Photo Editor & Candy Camera & Grid & ScrapBook  ...  4.0.3 and up\n",
              "1                                Coloring book moana  ...  4.0.3 and up\n",
              "2  U Launcher Lite – FREE Live Cool Themes, Hide ...  ...  4.0.3 and up\n",
              "3                              Sketch - Draw & Paint  ...    4.2 and up\n",
              "4              Pixel Draw - Number Art Coloring Book  ...    4.4 and up\n",
              "\n",
              "[5 rows x 13 columns]"
            ]
          },
          "metadata": {
            "tags": []
          },
          "execution_count": 169
        }
      ]
    },
    {
      "cell_type": "code",
      "metadata": {
        "id": "Lnmsv-7qyBLP",
        "colab_type": "code",
        "colab": {
          "base_uri": "https://localhost:8080/",
          "height": 428
        },
        "outputId": "b5c45e79-d754-4ae5-b2c6-ec86381eb599"
      },
      "source": [
        "# DataFrame Auxiliar\n",
        "\n",
        "aux = pd.DataFrame({'colunas': df.columns, 'tipo': df.dtypes, 'missing': df.isna().sum(), 'size':df.shape[0], 'unicos': df.nunique()})\n",
        "aux['percentual'] = round(aux['missing'] / aux['size'],2)\n",
        "aux"
      ],
      "execution_count": null,
      "outputs": [
        {
          "output_type": "execute_result",
          "data": {
            "text/html": [
              "<div>\n",
              "<style scoped>\n",
              "    .dataframe tbody tr th:only-of-type {\n",
              "        vertical-align: middle;\n",
              "    }\n",
              "\n",
              "    .dataframe tbody tr th {\n",
              "        vertical-align: top;\n",
              "    }\n",
              "\n",
              "    .dataframe thead th {\n",
              "        text-align: right;\n",
              "    }\n",
              "</style>\n",
              "<table border=\"1\" class=\"dataframe\">\n",
              "  <thead>\n",
              "    <tr style=\"text-align: right;\">\n",
              "      <th></th>\n",
              "      <th>colunas</th>\n",
              "      <th>tipo</th>\n",
              "      <th>missing</th>\n",
              "      <th>size</th>\n",
              "      <th>unicos</th>\n",
              "      <th>percentual</th>\n",
              "    </tr>\n",
              "  </thead>\n",
              "  <tbody>\n",
              "    <tr>\n",
              "      <th>App</th>\n",
              "      <td>App</td>\n",
              "      <td>object</td>\n",
              "      <td>0</td>\n",
              "      <td>10841</td>\n",
              "      <td>9660</td>\n",
              "      <td>0.00</td>\n",
              "    </tr>\n",
              "    <tr>\n",
              "      <th>Category</th>\n",
              "      <td>Category</td>\n",
              "      <td>object</td>\n",
              "      <td>0</td>\n",
              "      <td>10841</td>\n",
              "      <td>34</td>\n",
              "      <td>0.00</td>\n",
              "    </tr>\n",
              "    <tr>\n",
              "      <th>Rating</th>\n",
              "      <td>Rating</td>\n",
              "      <td>float64</td>\n",
              "      <td>1474</td>\n",
              "      <td>10841</td>\n",
              "      <td>40</td>\n",
              "      <td>0.14</td>\n",
              "    </tr>\n",
              "    <tr>\n",
              "      <th>Reviews</th>\n",
              "      <td>Reviews</td>\n",
              "      <td>object</td>\n",
              "      <td>0</td>\n",
              "      <td>10841</td>\n",
              "      <td>6002</td>\n",
              "      <td>0.00</td>\n",
              "    </tr>\n",
              "    <tr>\n",
              "      <th>Size</th>\n",
              "      <td>Size</td>\n",
              "      <td>object</td>\n",
              "      <td>0</td>\n",
              "      <td>10841</td>\n",
              "      <td>462</td>\n",
              "      <td>0.00</td>\n",
              "    </tr>\n",
              "    <tr>\n",
              "      <th>Installs</th>\n",
              "      <td>Installs</td>\n",
              "      <td>object</td>\n",
              "      <td>0</td>\n",
              "      <td>10841</td>\n",
              "      <td>22</td>\n",
              "      <td>0.00</td>\n",
              "    </tr>\n",
              "    <tr>\n",
              "      <th>Type</th>\n",
              "      <td>Type</td>\n",
              "      <td>object</td>\n",
              "      <td>1</td>\n",
              "      <td>10841</td>\n",
              "      <td>3</td>\n",
              "      <td>0.00</td>\n",
              "    </tr>\n",
              "    <tr>\n",
              "      <th>Price</th>\n",
              "      <td>Price</td>\n",
              "      <td>object</td>\n",
              "      <td>0</td>\n",
              "      <td>10841</td>\n",
              "      <td>93</td>\n",
              "      <td>0.00</td>\n",
              "    </tr>\n",
              "    <tr>\n",
              "      <th>Content Rating</th>\n",
              "      <td>Content Rating</td>\n",
              "      <td>object</td>\n",
              "      <td>1</td>\n",
              "      <td>10841</td>\n",
              "      <td>6</td>\n",
              "      <td>0.00</td>\n",
              "    </tr>\n",
              "    <tr>\n",
              "      <th>Genres</th>\n",
              "      <td>Genres</td>\n",
              "      <td>object</td>\n",
              "      <td>0</td>\n",
              "      <td>10841</td>\n",
              "      <td>120</td>\n",
              "      <td>0.00</td>\n",
              "    </tr>\n",
              "    <tr>\n",
              "      <th>Last Updated</th>\n",
              "      <td>Last Updated</td>\n",
              "      <td>object</td>\n",
              "      <td>0</td>\n",
              "      <td>10841</td>\n",
              "      <td>1378</td>\n",
              "      <td>0.00</td>\n",
              "    </tr>\n",
              "    <tr>\n",
              "      <th>Current Ver</th>\n",
              "      <td>Current Ver</td>\n",
              "      <td>object</td>\n",
              "      <td>8</td>\n",
              "      <td>10841</td>\n",
              "      <td>2832</td>\n",
              "      <td>0.00</td>\n",
              "    </tr>\n",
              "    <tr>\n",
              "      <th>Android Ver</th>\n",
              "      <td>Android Ver</td>\n",
              "      <td>object</td>\n",
              "      <td>3</td>\n",
              "      <td>10841</td>\n",
              "      <td>33</td>\n",
              "      <td>0.00</td>\n",
              "    </tr>\n",
              "  </tbody>\n",
              "</table>\n",
              "</div>"
            ],
            "text/plain": [
              "                       colunas     tipo  missing   size  unicos  percentual\n",
              "App                        App   object        0  10841    9660        0.00\n",
              "Category              Category   object        0  10841      34        0.00\n",
              "Rating                  Rating  float64     1474  10841      40        0.14\n",
              "Reviews                Reviews   object        0  10841    6002        0.00\n",
              "Size                      Size   object        0  10841     462        0.00\n",
              "Installs              Installs   object        0  10841      22        0.00\n",
              "Type                      Type   object        1  10841       3        0.00\n",
              "Price                    Price   object        0  10841      93        0.00\n",
              "Content Rating  Content Rating   object        1  10841       6        0.00\n",
              "Genres                  Genres   object        0  10841     120        0.00\n",
              "Last Updated      Last Updated   object        0  10841    1378        0.00\n",
              "Current Ver        Current Ver   object        8  10841    2832        0.00\n",
              "Android Ver        Android Ver   object        3  10841      33        0.00"
            ]
          },
          "metadata": {
            "tags": []
          },
          "execution_count": 170
        }
      ]
    },
    {
      "cell_type": "code",
      "metadata": {
        "id": "2c00sIud5Hje",
        "colab_type": "code",
        "colab": {}
      },
      "source": [
        "df.drop(['App','Current Ver'], 1, inplace=True)"
      ],
      "execution_count": null,
      "outputs": []
    },
    {
      "cell_type": "code",
      "metadata": {
        "id": "Vvhmi0_ruWO9",
        "colab_type": "code",
        "colab": {}
      },
      "source": [
        "df.dropna(inplace=True)"
      ],
      "execution_count": null,
      "outputs": []
    },
    {
      "cell_type": "code",
      "metadata": {
        "id": "UaTDF86zy5So",
        "colab_type": "code",
        "colab": {
          "base_uri": "https://localhost:8080/",
          "height": 497
        },
        "outputId": "99c58f4a-d64b-4f56-96d3-ecbb8031008f"
      },
      "source": [
        "plt.figure(figsize=(10,8))\n",
        "sns.distplot(df.Rating, bins = 50)\n",
        "plt.show()"
      ],
      "execution_count": null,
      "outputs": [
        {
          "output_type": "display_data",
          "data": {
            "image/png": "[encoded data removed]",
            "text/plain": [
              "<Figure size 720x576 with 1 Axes>"
            ]
          },
          "metadata": {
            "tags": []
          }
        }
      ]
    },
    {
      "cell_type": "markdown",
      "metadata": {
        "id": "PthCk_bX4OzP",
        "colab_type": "text"
      },
      "source": [
        "# Size"
      ]
    },
    {
      "cell_type": "code",
      "metadata": {
        "id": "uobTzgmLy8nY",
        "colab_type": "code",
        "colab": {
          "base_uri": "https://localhost:8080/",
          "height": 230
        },
        "outputId": "56080d2b-a339-4eb3-8439-1499f066132d"
      },
      "source": [
        "df['Size'].value_counts()"
      ],
      "execution_count": null,
      "outputs": [
        {
          "output_type": "execute_result",
          "data": {
            "text/plain": [
              "Varies with device    1637\n",
              "14M                    166\n",
              "12M                    161\n",
              "11M                    159\n",
              "15M                    159\n",
              "                      ... \n",
              "55k                      1\n",
              "899k                     1\n",
              "511k                     1\n",
              "39k                      1\n",
              "801k                     1\n",
              "Name: Size, Length: 414, dtype: int64"
            ]
          },
          "metadata": {
            "tags": []
          },
          "execution_count": 174
        }
      ]
    },
    {
      "cell_type": "code",
      "metadata": {
        "id": "CGdlRBdLzhLX",
        "colab_type": "code",
        "colab": {
          "base_uri": "https://localhost:8080/",
          "height": 88
        },
        "outputId": "eea6b357-3ccf-423b-862a-bc8506c67096"
      },
      "source": [
        "df['Size'].apply(lambda x: x[-1]).value_counts()"
      ],
      "execution_count": null,
      "outputs": [
        {
          "output_type": "execute_result",
          "data": {
            "text/plain": [
              "M    7469\n",
              "e    1637\n",
              "k     258\n",
              "Name: Size, dtype: int64"
            ]
          },
          "metadata": {
            "tags": []
          },
          "execution_count": 175
        }
      ]
    },
    {
      "cell_type": "code",
      "metadata": {
        "id": "mLGfc9Wnzt2n",
        "colab_type": "code",
        "colab": {
          "base_uri": "https://localhost:8080/",
          "height": 230
        },
        "outputId": "67dceeef-99ca-44e5-d810-e27e083d01da"
      },
      "source": [
        "df.loc[df['Size'].apply(lambda x: x[-1]) == 'e', 'Size']"
      ],
      "execution_count": null,
      "outputs": [
        {
          "output_type": "execute_result",
          "data": {
            "text/plain": [
              "37       Varies with device\n",
              "42       Varies with device\n",
              "52       Varies with device\n",
              "67       Varies with device\n",
              "68       Varies with device\n",
              "                ...        \n",
              "10713    Varies with device\n",
              "10725    Varies with device\n",
              "10765    Varies with device\n",
              "10826    Varies with device\n",
              "10839    Varies with device\n",
              "Name: Size, Length: 1637, dtype: object"
            ]
          },
          "metadata": {
            "tags": []
          },
          "execution_count": 176
        }
      ]
    },
    {
      "cell_type": "code",
      "metadata": {
        "id": "hDWaoAthz-3m",
        "colab_type": "code",
        "colab": {}
      },
      "source": [
        "# Transformar em NaNs para conseguir tratar os dados restantes da melhor maneira\n",
        "\n",
        "df.loc[df['Size'].apply(lambda x: x[-1]) == 'e', 'Size'] = np.nan"
      ],
      "execution_count": null,
      "outputs": []
    },
    {
      "cell_type": "code",
      "metadata": {
        "id": "rdoPoSLd1BoI",
        "colab_type": "code",
        "colab": {}
      },
      "source": [
        "def transform_size(x):\n",
        "  x = str(x).replace('.', '')\n",
        "\n",
        "  if str(x)[-1] == 'M':\n",
        "    return int(x[:-1] + '1000')\n",
        "  elif str(x)[-1] == 'k':\n",
        "    return int(x[:-1] + '1000000')\n",
        "\n",
        "df['Size'] = df['Size'].apply(transform_size)"
      ],
      "execution_count": null,
      "outputs": []
    },
    {
      "cell_type": "code",
      "metadata": {
        "id": "57drk6XtH1LG",
        "colab_type": "code",
        "colab": {}
      },
      "source": [
        "from sklearn.impute import KNNImputer\n",
        "imputer = KNNImputer(n_neighbors=5)"
      ],
      "execution_count": null,
      "outputs": []
    },
    {
      "cell_type": "code",
      "metadata": {
        "id": "Na1SrMX52UYS",
        "colab_type": "code",
        "colab": {}
      },
      "source": [
        "df['Size'] = imputer.fit_transform(np.array(df['Size']).reshape(-1,1))"
      ],
      "execution_count": null,
      "outputs": []
    },
    {
      "cell_type": "code",
      "metadata": {
        "id": "xPabmykq3h7f",
        "colab_type": "code",
        "colab": {
          "base_uri": "https://localhost:8080/",
          "height": 35
        },
        "outputId": "d1173eef-b12a-48d5-e9a2-2e4176a14546"
      },
      "source": [
        "df['Size'].isnull().sum()"
      ],
      "execution_count": null,
      "outputs": [
        {
          "output_type": "execute_result",
          "data": {
            "text/plain": [
              "0"
            ]
          },
          "metadata": {
            "tags": []
          },
          "execution_count": 181
        }
      ]
    },
    {
      "cell_type": "markdown",
      "metadata": {
        "id": "m19ieyE9-l0G",
        "colab_type": "text"
      },
      "source": [
        "# Reviews"
      ]
    },
    {
      "cell_type": "code",
      "metadata": {
        "id": "9P4dDcAzBN7V",
        "colab_type": "code",
        "colab": {}
      },
      "source": [
        "def transform_size(x):\n",
        "  x = str(x).replace('.', '')\n",
        "\n",
        "  if str(x)[-1] == 'M':\n",
        "    return int(x[:-1] + '1000')\n",
        "  elif str(x)[-1] == 'k':\n",
        "    return int(x[:-1] + '1000000')\n",
        "  else:\n",
        "    return int(x)"
      ],
      "execution_count": null,
      "outputs": []
    },
    {
      "cell_type": "code",
      "metadata": {
        "id": "notX-SWx-m3E",
        "colab_type": "code",
        "colab": {}
      },
      "source": [
        "df['Reviews'] = df['Reviews'].apply(transform_size)"
      ],
      "execution_count": null,
      "outputs": []
    },
    {
      "cell_type": "code",
      "metadata": {
        "id": "i6YN_M3D-wLc",
        "colab_type": "code",
        "colab": {}
      },
      "source": [
        "df['Reviews'] = df['Reviews'].astype('int64')"
      ],
      "execution_count": null,
      "outputs": []
    },
    {
      "cell_type": "markdown",
      "metadata": {
        "id": "MQgdYp7P4QY1",
        "colab_type": "text"
      },
      "source": [
        "# Installs"
      ]
    },
    {
      "cell_type": "code",
      "metadata": {
        "id": "4RbeAH8D3yg1",
        "colab_type": "code",
        "colab": {
          "base_uri": "https://localhost:8080/",
          "height": 372
        },
        "outputId": "cfe51b3d-04d5-45b8-b3bf-4573146070b4"
      },
      "source": [
        "df['Installs'].value_counts()"
      ],
      "execution_count": null,
      "outputs": [
        {
          "output_type": "execute_result",
          "data": {
            "text/plain": [
              "1,000,000+        1577\n",
              "10,000,000+       1252\n",
              "100,000+          1150\n",
              "10,000+           1009\n",
              "5,000,000+         752\n",
              "1,000+             712\n",
              "500,000+           538\n",
              "50,000+            467\n",
              "5,000+             432\n",
              "100,000,000+       409\n",
              "100+               309\n",
              "50,000,000+        289\n",
              "500+               201\n",
              "500,000,000+        72\n",
              "10+                 69\n",
              "1,000,000,000+      58\n",
              "50+                 56\n",
              "5+                   9\n",
              "1+                   3\n",
              "Name: Installs, dtype: int64"
            ]
          },
          "metadata": {
            "tags": []
          },
          "execution_count": 185
        }
      ]
    },
    {
      "cell_type": "code",
      "metadata": {
        "id": "20uSuVUh4bpO",
        "colab_type": "code",
        "colab": {}
      },
      "source": [
        "def transform_installs(x):\n",
        "  x = str(x).replace(',', '')\n",
        "  x = str(x[:-1])\n",
        "\n",
        "  return int(x)\n",
        "\n",
        "df['Installs'] = df['Installs'].apply(transform_installs)"
      ],
      "execution_count": null,
      "outputs": []
    },
    {
      "cell_type": "markdown",
      "metadata": {
        "id": "cN-4yrJo5z1t",
        "colab_type": "text"
      },
      "source": [
        "# Last Update"
      ]
    },
    {
      "cell_type": "code",
      "metadata": {
        "id": "_itx2y0C5D5H",
        "colab_type": "code",
        "colab": {
          "base_uri": "https://localhost:8080/",
          "height": 230
        },
        "outputId": "f18c2b77-cd56-4155-e1b2-d647b9120999"
      },
      "source": [
        "df['Last Updated'] = pd.to_datetime(df['Last Updated'])\n",
        "df['Last Updated']"
      ],
      "execution_count": null,
      "outputs": [
        {
          "output_type": "execute_result",
          "data": {
            "text/plain": [
              "0       2018-01-07\n",
              "1       2018-01-15\n",
              "2       2018-08-01\n",
              "3       2018-06-08\n",
              "4       2018-06-20\n",
              "           ...    \n",
              "10834   2017-06-18\n",
              "10836   2017-07-25\n",
              "10837   2018-07-06\n",
              "10839   2015-01-19\n",
              "10840   2018-07-25\n",
              "Name: Last Updated, Length: 9364, dtype: datetime64[ns]"
            ]
          },
          "metadata": {
            "tags": []
          },
          "execution_count": 187
        }
      ]
    },
    {
      "cell_type": "code",
      "metadata": {
        "id": "M1WzUyxT52J0",
        "colab_type": "code",
        "colab": {
          "base_uri": "https://localhost:8080/",
          "height": 230
        },
        "outputId": "1fceb362-3eb4-4eee-b43c-54e4a5c56299"
      },
      "source": [
        "df['Last Updated'] = (df['Last Updated'] - df['Last Updated'].max()).dt.days\n",
        "df['Last Updated']"
      ],
      "execution_count": null,
      "outputs": [
        {
          "output_type": "execute_result",
          "data": {
            "text/plain": [
              "0        -213\n",
              "1        -205\n",
              "2          -7\n",
              "3         -61\n",
              "4         -49\n",
              "         ... \n",
              "10834    -416\n",
              "10836    -379\n",
              "10837     -33\n",
              "10839   -1297\n",
              "10840     -14\n",
              "Name: Last Updated, Length: 9364, dtype: int64"
            ]
          },
          "metadata": {
            "tags": []
          },
          "execution_count": 188
        }
      ]
    },
    {
      "cell_type": "markdown",
      "metadata": {
        "id": "1XDjwoDU6-NX",
        "colab_type": "text"
      },
      "source": [
        "# Genre"
      ]
    },
    {
      "cell_type": "code",
      "metadata": {
        "id": "4FxOuXL46OwM",
        "colab_type": "code",
        "colab": {
          "base_uri": "https://localhost:8080/",
          "height": 817
        },
        "outputId": "d04184d1-2a89-47ec-ead9-6585602c03e4"
      },
      "source": [
        "df['Genres'].unique()"
      ],
      "execution_count": null,
      "outputs": [
        {
          "output_type": "execute_result",
          "data": {
            "text/plain": [
              "array(['Art & Design', 'Art & Design;Pretend Play',\n",
              "       'Art & Design;Creativity', 'Auto & Vehicles', 'Beauty',\n",
              "       'Books & Reference', 'Business', 'Comics', 'Comics;Creativity',\n",
              "       'Communication', 'Dating', 'Education;Education', 'Education',\n",
              "       'Education;Creativity', 'Education;Music & Video',\n",
              "       'Education;Action & Adventure', 'Education;Pretend Play',\n",
              "       'Education;Brain Games', 'Entertainment',\n",
              "       'Entertainment;Music & Video', 'Entertainment;Brain Games',\n",
              "       'Entertainment;Creativity', 'Events', 'Finance', 'Food & Drink',\n",
              "       'Health & Fitness', 'House & Home', 'Libraries & Demo',\n",
              "       'Lifestyle', 'Lifestyle;Pretend Play',\n",
              "       'Adventure;Action & Adventure', 'Arcade', 'Casual', 'Card',\n",
              "       'Casual;Pretend Play', 'Action', 'Strategy', 'Puzzle', 'Sports',\n",
              "       'Music', 'Word', 'Racing', 'Casual;Creativity',\n",
              "       'Casual;Action & Adventure', 'Simulation', 'Adventure', 'Board',\n",
              "       'Trivia', 'Role Playing', 'Simulation;Education',\n",
              "       'Action;Action & Adventure', 'Casual;Brain Games',\n",
              "       'Simulation;Action & Adventure', 'Educational;Creativity',\n",
              "       'Puzzle;Brain Games', 'Educational;Education', 'Card;Brain Games',\n",
              "       'Educational;Brain Games', 'Educational;Pretend Play',\n",
              "       'Entertainment;Education', 'Casual;Education',\n",
              "       'Music;Music & Video', 'Racing;Action & Adventure',\n",
              "       'Arcade;Pretend Play', 'Role Playing;Action & Adventure',\n",
              "       'Simulation;Pretend Play', 'Puzzle;Creativity',\n",
              "       'Sports;Action & Adventure', 'Educational;Action & Adventure',\n",
              "       'Arcade;Action & Adventure', 'Entertainment;Action & Adventure',\n",
              "       'Puzzle;Action & Adventure', 'Strategy;Action & Adventure',\n",
              "       'Music & Audio;Music & Video', 'Health & Fitness;Education',\n",
              "       'Adventure;Education', 'Board;Brain Games',\n",
              "       'Board;Action & Adventure', 'Board;Pretend Play',\n",
              "       'Casual;Music & Video', 'Role Playing;Pretend Play',\n",
              "       'Entertainment;Pretend Play', 'Video Players & Editors;Creativity',\n",
              "       'Card;Action & Adventure', 'Medical', 'Social', 'Shopping',\n",
              "       'Photography', 'Travel & Local',\n",
              "       'Travel & Local;Action & Adventure', 'Tools', 'Tools;Education',\n",
              "       'Personalization', 'Productivity', 'Parenting',\n",
              "       'Parenting;Music & Video', 'Parenting;Brain Games',\n",
              "       'Parenting;Education', 'Weather', 'Video Players & Editors',\n",
              "       'Video Players & Editors;Music & Video', 'News & Magazines',\n",
              "       'Maps & Navigation', 'Health & Fitness;Action & Adventure',\n",
              "       'Educational', 'Casino', 'Adventure;Brain Games',\n",
              "       'Lifestyle;Education', 'Books & Reference;Education',\n",
              "       'Puzzle;Education', 'Role Playing;Brain Games',\n",
              "       'Strategy;Education', 'Racing;Pretend Play',\n",
              "       'Communication;Creativity', 'Strategy;Creativity'], dtype=object)"
            ]
          },
          "metadata": {
            "tags": []
          },
          "execution_count": 189
        }
      ]
    },
    {
      "cell_type": "code",
      "metadata": {
        "id": "bsjNW1207BAN",
        "colab_type": "code",
        "colab": {
          "base_uri": "https://localhost:8080/",
          "height": 888
        },
        "outputId": "73814785-9d72-4b31-a7fd-f3fe4f1a8130"
      },
      "source": [
        "df['Genres'].apply(lambda x: x.split(';')[0]).value_counts()"
      ],
      "execution_count": null,
      "outputs": [
        {
          "output_type": "execute_result",
          "data": {
            "text/plain": [
              "Tools                      734\n",
              "Entertainment              577\n",
              "Education                  563\n",
              "Action                     375\n",
              "Productivity               351\n",
              "Medical                    350\n",
              "Sports                     337\n",
              "Communication              329\n",
              "Finance                    323\n",
              "Photography                317\n",
              "Lifestyle                  315\n",
              "Personalization            312\n",
              "Business                   303\n",
              "Health & Fitness           299\n",
              "Casual                     262\n",
              "Social                     259\n",
              "Shopping                   238\n",
              "News & Magazines           233\n",
              "Travel & Local             226\n",
              "Arcade                     223\n",
              "Simulation                 212\n",
              "Dating                     195\n",
              "Books & Reference          180\n",
              "Video Players & Editors    163\n",
              "Puzzle                     148\n",
              "Maps & Navigation          124\n",
              "Role Playing               119\n",
              "Racing                     114\n",
              "Food & Drink               109\n",
              "Strategy                   107\n",
              "Educational                103\n",
              "Adventure                   89\n",
              "House & Home                76\n",
              "Weather                     75\n",
              "Auto & Vehicles             73\n",
              "Art & Design                65\n",
              "Libraries & Demo            65\n",
              "Board                       60\n",
              "Comics                      58\n",
              "Parenting                   50\n",
              "Card                        48\n",
              "Events                      45\n",
              "Beauty                      42\n",
              "Casino                      37\n",
              "Word                        28\n",
              "Trivia                      28\n",
              "Music                       24\n",
              "Music & Audio                1\n",
              "Name: Genres, dtype: int64"
            ]
          },
          "metadata": {
            "tags": []
          },
          "execution_count": 190
        }
      ]
    },
    {
      "cell_type": "code",
      "metadata": {
        "id": "yh07tk_G7KA8",
        "colab_type": "code",
        "colab": {}
      },
      "source": [
        "df['Genres'] = df['Genres'].apply(lambda x: x.split(';')[0])\n",
        "\n",
        "df.loc[df['Genres'] == 'Music & Audio', 'Genres'] = 'Music'"
      ],
      "execution_count": null,
      "outputs": []
    },
    {
      "cell_type": "markdown",
      "metadata": {
        "id": "c34lv7qv8T5q",
        "colab_type": "text"
      },
      "source": [
        "# Price"
      ]
    },
    {
      "cell_type": "code",
      "metadata": {
        "id": "2A986sa48kEY",
        "colab_type": "code",
        "colab": {
          "base_uri": "https://localhost:8080/",
          "height": 212
        },
        "outputId": "7b1f1070-91b2-4593-b88e-213c1d283d00"
      },
      "source": [
        "df['Price'].unique()"
      ],
      "execution_count": null,
      "outputs": [
        {
          "output_type": "execute_result",
          "data": {
            "text/plain": [
              "array(['0', '$4.99', '$3.99', '$6.99', '$7.99', '$5.99', '$2.99', '$3.49',\n",
              "       '$1.99', '$9.99', '$7.49', '$0.99', '$9.00', '$5.49', '$10.00',\n",
              "       '$24.99', '$11.99', '$79.99', '$16.99', '$14.99', '$29.99',\n",
              "       '$12.99', '$2.49', '$10.99', '$1.50', '$19.99', '$15.99', '$33.99',\n",
              "       '$39.99', '$3.95', '$4.49', '$1.70', '$8.99', '$1.49', '$3.88',\n",
              "       '$399.99', '$17.99', '$400.00', '$3.02', '$1.76', '$4.84', '$4.77',\n",
              "       '$1.61', '$2.50', '$1.59', '$6.49', '$1.29', '$299.99', '$379.99',\n",
              "       '$37.99', '$18.99', '$389.99', '$8.49', '$1.75', '$14.00', '$2.00',\n",
              "       '$3.08', '$2.59', '$19.40', '$3.90', '$4.59', '$15.46', '$3.04',\n",
              "       '$13.99', '$4.29', '$3.28', '$4.60', '$1.00', '$2.95', '$2.90',\n",
              "       '$1.97', '$2.56', '$1.20'], dtype=object)"
            ]
          },
          "metadata": {
            "tags": []
          },
          "execution_count": 192
        }
      ]
    },
    {
      "cell_type": "code",
      "metadata": {
        "id": "BQWLokEQ7POt",
        "colab_type": "code",
        "colab": {}
      },
      "source": [
        "def transform_price(x):\n",
        "  x = str(x).replace('$','')\n",
        "  return float(x)\n",
        "\n",
        "df['Price'] = df['Price'].apply(transform_price)\n",
        "df['Price'] = df['Price'].astype('float64')"
      ],
      "execution_count": null,
      "outputs": []
    },
    {
      "cell_type": "markdown",
      "metadata": {
        "id": "SBuRHWNe9GBp",
        "colab_type": "text"
      },
      "source": [
        "# Feature Engineering"
      ]
    },
    {
      "cell_type": "code",
      "metadata": {
        "id": "xV4hOYvF9G4s",
        "colab_type": "code",
        "colab": {}
      },
      "source": [
        "df['Free'] = 0\n",
        "df.loc[df['Price'] == 0, 'Free'] = 1"
      ],
      "execution_count": null,
      "outputs": []
    },
    {
      "cell_type": "code",
      "metadata": {
        "id": "NNkPy2YE9OAz",
        "colab_type": "code",
        "colab": {
          "base_uri": "https://localhost:8080/",
          "height": 70
        },
        "outputId": "21f494d4-f8b1-4a27-f1b3-b77c562a5984"
      },
      "source": [
        "df['Free'].value_counts()"
      ],
      "execution_count": null,
      "outputs": [
        {
          "output_type": "execute_result",
          "data": {
            "text/plain": [
              "1    8718\n",
              "0     646\n",
              "Name: Free, dtype: int64"
            ]
          },
          "metadata": {
            "tags": []
          },
          "execution_count": 195
        }
      ]
    },
    {
      "cell_type": "code",
      "metadata": {
        "id": "gm-AHZif-TKl",
        "colab_type": "code",
        "colab": {
          "base_uri": "https://localhost:8080/",
          "height": 399
        },
        "outputId": "914fa846-b42b-496d-93bc-3174f39e187f"
      },
      "source": [
        "aux = pd.DataFrame({'colunas': df.columns, 'tipo': df.dtypes, 'missing': df.isna().sum(), 'size':df.shape[0], 'unicos': df.nunique()})\n",
        "aux['percentual'] = round(aux['missing'] / aux['size'],2)\n",
        "aux"
      ],
      "execution_count": null,
      "outputs": [
        {
          "output_type": "execute_result",
          "data": {
            "text/html": [
              "<div>\n",
              "<style scoped>\n",
              "    .dataframe tbody tr th:only-of-type {\n",
              "        vertical-align: middle;\n",
              "    }\n",
              "\n",
              "    .dataframe tbody tr th {\n",
              "        vertical-align: top;\n",
              "    }\n",
              "\n",
              "    .dataframe thead th {\n",
              "        text-align: right;\n",
              "    }\n",
              "</style>\n",
              "<table border=\"1\" class=\"dataframe\">\n",
              "  <thead>\n",
              "    <tr style=\"text-align: right;\">\n",
              "      <th></th>\n",
              "      <th>colunas</th>\n",
              "      <th>tipo</th>\n",
              "      <th>missing</th>\n",
              "      <th>size</th>\n",
              "      <th>unicos</th>\n",
              "      <th>percentual</th>\n",
              "    </tr>\n",
              "  </thead>\n",
              "  <tbody>\n",
              "    <tr>\n",
              "      <th>Category</th>\n",
              "      <td>Category</td>\n",
              "      <td>object</td>\n",
              "      <td>0</td>\n",
              "      <td>9364</td>\n",
              "      <td>33</td>\n",
              "      <td>0.0</td>\n",
              "    </tr>\n",
              "    <tr>\n",
              "      <th>Rating</th>\n",
              "      <td>Rating</td>\n",
              "      <td>float64</td>\n",
              "      <td>0</td>\n",
              "      <td>9364</td>\n",
              "      <td>39</td>\n",
              "      <td>0.0</td>\n",
              "    </tr>\n",
              "    <tr>\n",
              "      <th>Reviews</th>\n",
              "      <td>Reviews</td>\n",
              "      <td>int64</td>\n",
              "      <td>0</td>\n",
              "      <td>9364</td>\n",
              "      <td>5992</td>\n",
              "      <td>0.0</td>\n",
              "    </tr>\n",
              "    <tr>\n",
              "      <th>Size</th>\n",
              "      <td>Size</td>\n",
              "      <td>float64</td>\n",
              "      <td>0</td>\n",
              "      <td>9364</td>\n",
              "      <td>323</td>\n",
              "      <td>0.0</td>\n",
              "    </tr>\n",
              "    <tr>\n",
              "      <th>Installs</th>\n",
              "      <td>Installs</td>\n",
              "      <td>int64</td>\n",
              "      <td>0</td>\n",
              "      <td>9364</td>\n",
              "      <td>19</td>\n",
              "      <td>0.0</td>\n",
              "    </tr>\n",
              "    <tr>\n",
              "      <th>Type</th>\n",
              "      <td>Type</td>\n",
              "      <td>object</td>\n",
              "      <td>0</td>\n",
              "      <td>9364</td>\n",
              "      <td>2</td>\n",
              "      <td>0.0</td>\n",
              "    </tr>\n",
              "    <tr>\n",
              "      <th>Price</th>\n",
              "      <td>Price</td>\n",
              "      <td>float64</td>\n",
              "      <td>0</td>\n",
              "      <td>9364</td>\n",
              "      <td>73</td>\n",
              "      <td>0.0</td>\n",
              "    </tr>\n",
              "    <tr>\n",
              "      <th>Content Rating</th>\n",
              "      <td>Content Rating</td>\n",
              "      <td>object</td>\n",
              "      <td>0</td>\n",
              "      <td>9364</td>\n",
              "      <td>6</td>\n",
              "      <td>0.0</td>\n",
              "    </tr>\n",
              "    <tr>\n",
              "      <th>Genres</th>\n",
              "      <td>Genres</td>\n",
              "      <td>object</td>\n",
              "      <td>0</td>\n",
              "      <td>9364</td>\n",
              "      <td>47</td>\n",
              "      <td>0.0</td>\n",
              "    </tr>\n",
              "    <tr>\n",
              "      <th>Last Updated</th>\n",
              "      <td>Last Updated</td>\n",
              "      <td>int64</td>\n",
              "      <td>0</td>\n",
              "      <td>9364</td>\n",
              "      <td>1300</td>\n",
              "      <td>0.0</td>\n",
              "    </tr>\n",
              "    <tr>\n",
              "      <th>Android Ver</th>\n",
              "      <td>Android Ver</td>\n",
              "      <td>object</td>\n",
              "      <td>0</td>\n",
              "      <td>9364</td>\n",
              "      <td>31</td>\n",
              "      <td>0.0</td>\n",
              "    </tr>\n",
              "    <tr>\n",
              "      <th>Free</th>\n",
              "      <td>Free</td>\n",
              "      <td>int64</td>\n",
              "      <td>0</td>\n",
              "      <td>9364</td>\n",
              "      <td>2</td>\n",
              "      <td>0.0</td>\n",
              "    </tr>\n",
              "  </tbody>\n",
              "</table>\n",
              "</div>"
            ],
            "text/plain": [
              "                       colunas     tipo  missing  size  unicos  percentual\n",
              "Category              Category   object        0  9364      33         0.0\n",
              "Rating                  Rating  float64        0  9364      39         0.0\n",
              "Reviews                Reviews    int64        0  9364    5992         0.0\n",
              "Size                      Size  float64        0  9364     323         0.0\n",
              "Installs              Installs    int64        0  9364      19         0.0\n",
              "Type                      Type   object        0  9364       2         0.0\n",
              "Price                    Price  float64        0  9364      73         0.0\n",
              "Content Rating  Content Rating   object        0  9364       6         0.0\n",
              "Genres                  Genres   object        0  9364      47         0.0\n",
              "Last Updated      Last Updated    int64        0  9364    1300         0.0\n",
              "Android Ver        Android Ver   object        0  9364      31         0.0\n",
              "Free                      Free    int64        0  9364       2         0.0"
            ]
          },
          "metadata": {
            "tags": []
          },
          "execution_count": 196
        }
      ]
    },
    {
      "cell_type": "code",
      "metadata": {
        "id": "prMFLUQ0C8Rh",
        "colab_type": "code",
        "colab": {
          "base_uri": "https://localhost:8080/",
          "height": 252
        },
        "outputId": "bfa03276-1c6f-4e78-8d1a-9867571659c6"
      },
      "source": [
        "df.corr()"
      ],
      "execution_count": null,
      "outputs": [
        {
          "output_type": "execute_result",
          "data": {
            "text/html": [
              "<div>\n",
              "<style scoped>\n",
              "    .dataframe tbody tr th:only-of-type {\n",
              "        vertical-align: middle;\n",
              "    }\n",
              "\n",
              "    .dataframe tbody tr th {\n",
              "        vertical-align: top;\n",
              "    }\n",
              "\n",
              "    .dataframe thead th {\n",
              "        text-align: right;\n",
              "    }\n",
              "</style>\n",
              "<table border=\"1\" class=\"dataframe\">\n",
              "  <thead>\n",
              "    <tr style=\"text-align: right;\">\n",
              "      <th></th>\n",
              "      <th>Rating</th>\n",
              "      <th>Reviews</th>\n",
              "      <th>Size</th>\n",
              "      <th>Installs</th>\n",
              "      <th>Price</th>\n",
              "      <th>Last Updated</th>\n",
              "      <th>Free</th>\n",
              "    </tr>\n",
              "  </thead>\n",
              "  <tbody>\n",
              "    <tr>\n",
              "      <th>Rating</th>\n",
              "      <td>1.000000</td>\n",
              "      <td>0.068161</td>\n",
              "      <td>-0.037950</td>\n",
              "      <td>0.051377</td>\n",
              "      <td>-0.021901</td>\n",
              "      <td>0.142754</td>\n",
              "      <td>-0.039470</td>\n",
              "    </tr>\n",
              "    <tr>\n",
              "      <th>Reviews</th>\n",
              "      <td>0.068161</td>\n",
              "      <td>1.000000</td>\n",
              "      <td>-0.012689</td>\n",
              "      <td>0.641610</td>\n",
              "      <td>-0.009820</td>\n",
              "      <td>0.088155</td>\n",
              "      <td>0.043262</td>\n",
              "    </tr>\n",
              "    <tr>\n",
              "      <th>Size</th>\n",
              "      <td>-0.037950</td>\n",
              "      <td>-0.012689</td>\n",
              "      <td>1.000000</td>\n",
              "      <td>-0.012048</td>\n",
              "      <td>0.024914</td>\n",
              "      <td>-0.258434</td>\n",
              "      <td>-0.052258</td>\n",
              "    </tr>\n",
              "    <tr>\n",
              "      <th>Installs</th>\n",
              "      <td>0.051377</td>\n",
              "      <td>0.641610</td>\n",
              "      <td>-0.012048</td>\n",
              "      <td>1.000000</td>\n",
              "      <td>-0.011891</td>\n",
              "      <td>0.104338</td>\n",
              "      <td>0.053070</td>\n",
              "    </tr>\n",
              "    <tr>\n",
              "      <th>Price</th>\n",
              "      <td>-0.021901</td>\n",
              "      <td>-0.009820</td>\n",
              "      <td>0.024914</td>\n",
              "      <td>-0.011891</td>\n",
              "      <td>1.000000</td>\n",
              "      <td>-0.003930</td>\n",
              "      <td>-0.223187</td>\n",
              "    </tr>\n",
              "    <tr>\n",
              "      <th>Last Updated</th>\n",
              "      <td>0.142754</td>\n",
              "      <td>0.088155</td>\n",
              "      <td>-0.258434</td>\n",
              "      <td>0.104338</td>\n",
              "      <td>-0.003930</td>\n",
              "      <td>1.000000</td>\n",
              "      <td>0.177770</td>\n",
              "    </tr>\n",
              "    <tr>\n",
              "      <th>Free</th>\n",
              "      <td>-0.039470</td>\n",
              "      <td>0.043262</td>\n",
              "      <td>-0.052258</td>\n",
              "      <td>0.053070</td>\n",
              "      <td>-0.223187</td>\n",
              "      <td>0.177770</td>\n",
              "      <td>1.000000</td>\n",
              "    </tr>\n",
              "  </tbody>\n",
              "</table>\n",
              "</div>"
            ],
            "text/plain": [
              "                Rating   Reviews      Size  ...     Price  Last Updated      Free\n",
              "Rating        1.000000  0.068161 -0.037950  ... -0.021901      0.142754 -0.039470\n",
              "Reviews       0.068161  1.000000 -0.012689  ... -0.009820      0.088155  0.043262\n",
              "Size         -0.037950 -0.012689  1.000000  ...  0.024914     -0.258434 -0.052258\n",
              "Installs      0.051377  0.641610 -0.012048  ... -0.011891      0.104338  0.053070\n",
              "Price        -0.021901 -0.009820  0.024914  ...  1.000000     -0.003930 -0.223187\n",
              "Last Updated  0.142754  0.088155 -0.258434  ... -0.003930      1.000000  0.177770\n",
              "Free         -0.039470  0.043262 -0.052258  ... -0.223187      0.177770  1.000000\n",
              "\n",
              "[7 rows x 7 columns]"
            ]
          },
          "metadata": {
            "tags": []
          },
          "execution_count": 197
        }
      ]
    },
    {
      "cell_type": "code",
      "metadata": {
        "id": "4r_YVAN6Dq4K",
        "colab_type": "code",
        "colab": {
          "base_uri": "https://localhost:8080/",
          "height": 614
        },
        "outputId": "8384e158-df27-4431-8d76-5602f9594fe2"
      },
      "source": [
        "plt.figure(figsize=(13,10))\n",
        "sns.heatmap(df.corr(), annot=True)"
      ],
      "execution_count": null,
      "outputs": [
        {
          "output_type": "execute_result",
          "data": {
            "text/plain": [
              "<matplotlib.axes._subplots.AxesSubplot at 0x7f843c68a0f0>"
            ]
          },
          "metadata": {
            "tags": []
          },
          "execution_count": 198
        },
        {
          "output_type": "display_data",
          "data": {
            "image/png": "[encoded data removed]",
            "text/plain": [
              "<Figure size 936x720 with 2 Axes>"
            ]
          },
          "metadata": {
            "tags": []
          }
        }
      ]
    },
    {
      "cell_type": "markdown",
      "metadata": {
        "id": "VwlojRgtEXiC",
        "colab_type": "text"
      },
      "source": [
        "# One Hot Encoding"
      ]
    },
    {
      "cell_type": "code",
      "metadata": {
        "id": "M4D9dEqjEYui",
        "colab_type": "code",
        "colab": {}
      },
      "source": [
        "df= pd.get_dummies(df, drop_first=True)"
      ],
      "execution_count": null,
      "outputs": []
    },
    {
      "cell_type": "code",
      "metadata": {
        "id": "kkKwbOb7EcG7",
        "colab_type": "code",
        "colab": {
          "base_uri": "https://localhost:8080/",
          "height": 35
        },
        "outputId": "05295e42-a489-4a37-8fd0-81b27808242a"
      },
      "source": [
        "df.shape"
      ],
      "execution_count": null,
      "outputs": [
        {
          "output_type": "execute_result",
          "data": {
            "text/plain": [
              "(9364, 121)"
            ]
          },
          "metadata": {
            "tags": []
          },
          "execution_count": 200
        }
      ]
    },
    {
      "cell_type": "markdown",
      "metadata": {
        "id": "yTOA0iEhEenC",
        "colab_type": "text"
      },
      "source": [
        "# Split"
      ]
    },
    {
      "cell_type": "code",
      "metadata": {
        "id": "H-bJTU7rErM6",
        "colab_type": "code",
        "colab": {}
      },
      "source": [
        "X = df.drop('Rating',1)\n",
        "y = df['Rating']"
      ],
      "execution_count": null,
      "outputs": []
    },
    {
      "cell_type": "code",
      "metadata": {
        "id": "GPfSFJiUEf8C",
        "colab_type": "code",
        "colab": {}
      },
      "source": [
        "from sklearn.model_selection import train_test_split\n",
        "Xtrain, Xval, ytrain, yval  = train_test_split(X, y, test_size = 0.25, random_state = 42)"
      ],
      "execution_count": null,
      "outputs": []
    },
    {
      "cell_type": "markdown",
      "metadata": {
        "id": "3hP9F9EcETvq",
        "colab_type": "text"
      },
      "source": [
        "# Scaler"
      ]
    },
    {
      "cell_type": "code",
      "metadata": {
        "id": "F0Mel1E3EUp7",
        "colab_type": "code",
        "colab": {}
      },
      "source": [
        "from sklearn.preprocessing import StandardScaler\n",
        "scaler = StandardScaler()\n",
        "colunas = Xtrain.columns\n",
        "\n",
        "Xtrain = pd.DataFrame(scaler.fit_transform(Xtrain))\n",
        "Xtrain.columns = colunas\n",
        "\n",
        "Xval = pd.DataFrame(scaler.transform(Xval))\n",
        "Xval.columns = colunas"
      ],
      "execution_count": null,
      "outputs": []
    },
    {
      "cell_type": "markdown",
      "metadata": {
        "id": "pi4kGpekEH6y",
        "colab_type": "text"
      },
      "source": [
        "# Models"
      ]
    },
    {
      "cell_type": "markdown",
      "metadata": {
        "id": "DkQkWly6EJpK",
        "colab_type": "text"
      },
      "source": [
        "## SVM"
      ]
    },
    {
      "cell_type": "code",
      "metadata": {
        "id": "l1wfGDx6Dt6h",
        "colab_type": "code",
        "colab": {}
      },
      "source": [
        "from sklearn.svm import SVR"
      ],
      "execution_count": null,
      "outputs": []
    },
    {
      "cell_type": "code",
      "metadata": {
        "id": "U1A5vNwCHEDx",
        "colab_type": "code",
        "colab": {
          "base_uri": "https://localhost:8080/",
          "height": 52
        },
        "outputId": "cc2f6991-bd63-44ae-9abd-1ddaa0239448"
      },
      "source": [
        "svr = SVR()\n",
        "\n",
        "svr.fit(Xtrain, ytrain)"
      ],
      "execution_count": null,
      "outputs": [
        {
          "output_type": "execute_result",
          "data": {
            "text/plain": [
              "SVR(C=1.0, cache_size=200, coef0=0.0, degree=3, epsilon=0.1, gamma='scale',\n",
              "    kernel='rbf', max_iter=-1, shrinking=True, tol=0.001, verbose=False)"
            ]
          },
          "metadata": {
            "tags": []
          },
          "execution_count": 205
        }
      ]
    },
    {
      "cell_type": "code",
      "metadata": {
        "id": "7RvmnRhwHtvn",
        "colab_type": "code",
        "colab": {}
      },
      "source": [
        "pred = svr.predict(Xval)"
      ],
      "execution_count": null,
      "outputs": []
    },
    {
      "cell_type": "code",
      "metadata": {
        "id": "3Ew4gi5UHyt4",
        "colab_type": "code",
        "colab": {}
      },
      "source": [
        "from sklearn.metrics import mean_absolute_error as mae\n",
        "from sklearn.metrics import mean_squared_error as mse\n",
        "from sklearn.metrics import r2_score as r2"
      ],
      "execution_count": null,
      "outputs": []
    },
    {
      "cell_type": "code",
      "metadata": {
        "id": "H0jtapAdIPkn",
        "colab_type": "code",
        "colab": {}
      },
      "source": [
        "def rmse(ytrue, ypred):\n",
        "  return np.sqrt(mse(ytrue, ypred))"
      ],
      "execution_count": null,
      "outputs": []
    },
    {
      "cell_type": "code",
      "metadata": {
        "id": "c25lyM03Iab3",
        "colab_type": "code",
        "colab": {
          "base_uri": "https://localhost:8080/",
          "height": 88
        },
        "outputId": "a9900b93-06c3-4df8-c782-0d73babcbc1f"
      },
      "source": [
        "print(mae(yval, pred))\n",
        "print(mse(yval, pred))\n",
        "print(rmse(yval, pred))\n",
        "print(r2(yval, pred))"
      ],
      "execution_count": null,
      "outputs": [
        {
          "output_type": "stream",
          "text": [
            "0.3397197647047635\n",
            "0.2612022267312408\n",
            "0.5110794720307604\n",
            "0.04589204394261803\n"
          ],
          "name": "stdout"
        }
      ]
    },
    {
      "cell_type": "code",
      "metadata": {
        "id": "TAFUu2yYU83q",
        "colab_type": "code",
        "colab": {}
      },
      "source": [
        "def plot_result(yval, pred):\n",
        "  compare = pd.DataFrame()\n",
        "  compare['pred'] = pred\n",
        "  compare['yval'] = yval\n",
        "\n",
        "  plt.scatter(x=compare['yval'], y=compare['pred'])"
      ],
      "execution_count": null,
      "outputs": []
    },
    {
      "cell_type": "code",
      "metadata": {
        "id": "imu-MVuWU-xS",
        "colab_type": "code",
        "colab": {
          "base_uri": "https://localhost:8080/",
          "height": 265
        },
        "outputId": "13e7148f-c19a-48bc-c000-e70032f36534"
      },
      "source": [
        "plot_result(yval,pred)"
      ],
      "execution_count": null,
      "outputs": [
        {
          "output_type": "display_data",
          "data": {
            "image/png": "[encoded data removed]",
            "text/plain": [
              "<Figure size 432x288 with 1 Axes>"
            ]
          },
          "metadata": {
            "tags": []
          }
        }
      ]
    },
    {
      "cell_type": "markdown",
      "metadata": {
        "id": "iX8q3pDKL3Bw",
        "colab_type": "text"
      },
      "source": [
        "# Cross Val"
      ]
    },
    {
      "cell_type": "markdown",
      "metadata": {
        "id": "H7mRzWWOI_iz",
        "colab_type": "text"
      },
      "source": [
        "### https://scikit-learn.org/stable/modules/cross_validation.html"
      ]
    },
    {
      "cell_type": "code",
      "metadata": {
        "id": "qus9q02vI9rh",
        "colab_type": "code",
        "colab": {}
      },
      "source": [
        "from sklearn.model_selection import cross_validate\n",
        "\n",
        "Xscaled = scaler.fit_transform(X)\n",
        "\n",
        "cross_val = cross_validate(svr, X, y, cv=5, scoring=('r2', 'neg_mean_absolute_error', 'neg_mean_squared_error'))"
      ],
      "execution_count": null,
      "outputs": []
    },
    {
      "cell_type": "markdown",
      "metadata": {
        "id": "RX3TXkfBdfqf",
        "colab_type": "text"
      },
      "source": [
        "# Random Forest"
      ]
    },
    {
      "cell_type": "code",
      "metadata": {
        "id": "lwwSYME0dhNq",
        "colab_type": "code",
        "colab": {
          "base_uri": "https://localhost:8080/",
          "height": 106
        },
        "outputId": "684c60df-52f7-49c5-d260-1a2383ea59a0"
      },
      "source": [
        "from sklearn.ensemble import RandomForestRegressor\n",
        "\n",
        "rf = RandomForestRegressor()\n",
        "cross_validate(rf, Xscaled, y, cv=5, scoring=('r2', 'neg_mean_absolute_error', 'neg_mean_squared_error'))"
      ],
      "execution_count": null,
      "outputs": [
        {
          "output_type": "execute_result",
          "data": {
            "text/plain": [
              "{'fit_time': array([7.63826752, 7.81552815, 7.73863196, 7.62028742, 7.60030603]),\n",
              " 'score_time': array([0.04916906, 0.0505538 , 0.05311728, 0.05216193, 0.0539217 ]),\n",
              " 'test_neg_mean_absolute_error': array([-0.23480619, -0.22982648, -0.32503791, -0.40682381, -0.38713218]),\n",
              " 'test_neg_mean_squared_error': array([-0.1227035 , -0.11436565, -0.24481193, -0.36289783, -0.31443476]),\n",
              " 'test_r2': array([0.10435102, 0.00155254, 0.18089175, 0.10275632, 0.08619734])}"
            ]
          },
          "metadata": {
            "tags": []
          },
          "execution_count": 213
        }
      ]
    },
    {
      "cell_type": "code",
      "metadata": {
        "id": "vNq2PpnnBPVL",
        "colab_type": "code",
        "colab": {}
      },
      "source": [
        "rf.fit(Xtrain, ytrain)\n",
        "pred=rf.predict(Xval)"
      ],
      "execution_count": null,
      "outputs": []
    },
    {
      "cell_type": "code",
      "metadata": {
        "id": "Pe0lUUAmBWD5",
        "colab_type": "code",
        "colab": {
          "base_uri": "https://localhost:8080/",
          "height": 88
        },
        "outputId": "6911e1e9-aba0-4d17-f265-b37087e2e26f"
      },
      "source": [
        "print(mae(yval, pred))\n",
        "print(mse(yval, pred))\n",
        "print(rmse(yval, pred))\n",
        "print(r2(yval, pred))"
      ],
      "execution_count": null,
      "outputs": [
        {
          "output_type": "stream",
          "text": [
            "0.3037136052968816\n",
            "0.21957834449060226\n",
            "0.46859187411926195\n",
            "0.1979339223935681\n"
          ],
          "name": "stdout"
        }
      ]
    },
    {
      "cell_type": "code",
      "metadata": {
        "id": "NRGOHGEtU3h0",
        "colab_type": "code",
        "colab": {
          "base_uri": "https://localhost:8080/",
          "height": 265
        },
        "outputId": "ed919ed7-f0ee-4b8c-fcbf-3413b77dab57"
      },
      "source": [
        "plot_result(yval,pred)"
      ],
      "execution_count": null,
      "outputs": [
        {
          "output_type": "display_data",
          "data": {
            "image/png": "[encoded data removed]",
            "text/plain": [
              "<Figure size 432x288 with 1 Axes>"
            ]
          },
          "metadata": {
            "tags": []
          }
        }
      ]
    },
    {
      "cell_type": "code",
      "metadata": {
        "id": "Q4CpuU29dvXe",
        "colab_type": "code",
        "colab": {
          "base_uri": "https://localhost:8080/",
          "height": 283
        },
        "outputId": "dff6c673-0e6b-4810-8a8d-0408723542e3"
      },
      "source": [
        "feat_importances = pd.Series(rf.feature_importances_, index= X.columns)\n",
        "feat_importances.nlargest(10).plot(kind='barh')"
      ],
      "execution_count": null,
      "outputs": [
        {
          "output_type": "execute_result",
          "data": {
            "text/plain": [
              "<matplotlib.axes._subplots.AxesSubplot at 0x7f843c526c88>"
            ]
          },
          "metadata": {
            "tags": []
          },
          "execution_count": 217
        },
        {
          "output_type": "display_data",
          "data": {
            "image/png": "[encoded data removed]",
            "text/plain": [
              "<Figure size 432x288 with 1 Axes>"
            ]
          },
          "metadata": {
            "tags": []
          }
        }
      ]
    },
    {
      "cell_type": "markdown",
      "metadata": {
        "id": "Y-tJ2n7qL1mz",
        "colab_type": "text"
      },
      "source": [
        "# RandomizedSearchCV"
      ]
    },
    {
      "cell_type": "code",
      "metadata": {
        "id": "XkMI4OwtK0ve",
        "colab_type": "code",
        "colab": {
          "base_uri": "https://localhost:8080/",
          "height": 106
        },
        "outputId": "f160fed1-1d05-496a-80a7-135d68fe9d19"
      },
      "source": [
        "%%time\n",
        "from sklearn.model_selection import RandomizedSearchCV\n",
        "\n",
        "n_estimators = [int(x) for x in np.linspace(start = 200, stop = 2000, num = 10)]\n",
        "max_features = ['auto', 'sqrt']\n",
        "max_depth = [int(x) for x in np.linspace(10, 110, num = 11)]\n",
        "max_depth.append(None)\n",
        "min_samples_split = [2, 5, 10]\n",
        "min_samples_leaf = [1, 2, 4]\n",
        "bootstrap = [True, False]\n",
        "\n",
        "random_grid = {'n_estimators': n_estimators,\n",
        "               'max_features': max_features,\n",
        "               'max_depth': max_depth,\n",
        "               'min_samples_split': min_samples_split,\n",
        "               'min_samples_leaf': min_samples_leaf,\n",
        "               'bootstrap': bootstrap}\n",
        "\n",
        "rs = RandomizedSearchCV(estimator = rf, param_distributions = random_grid, n_iter = 10, cv = 3, verbose=1, random_state=42)\n",
        "rs.fit(Xscaled, y)"
      ],
      "execution_count": null,
      "outputs": [
        {
          "output_type": "stream",
          "text": [
            "Fitting 3 folds for each of 10 candidates, totalling 30 fits\n"
          ],
          "name": "stdout"
        },
        {
          "output_type": "stream",
          "text": [
            "[Parallel(n_jobs=1)]: Using backend SequentialBackend with 1 concurrent workers.\n",
            "[Parallel(n_jobs=1)]: Done  30 out of  30 | elapsed: 26.1min finished\n"
          ],
          "name": "stderr"
        },
        {
          "output_type": "stream",
          "text": [
            "CPU times: user 27min 18s, sys: 2.23 s, total: 27min 20s\n",
            "Wall time: 27min 36s\n"
          ],
          "name": "stdout"
        }
      ]
    },
    {
      "cell_type": "code",
      "metadata": {
        "id": "KnJ2brSwUABx",
        "colab_type": "code",
        "colab": {
          "base_uri": "https://localhost:8080/",
          "height": 124
        },
        "outputId": "7c9a42b9-a444-44a6-e9e0-f1a5d6a4917a"
      },
      "source": [
        "rs.best_params_"
      ],
      "execution_count": null,
      "outputs": [
        {
          "output_type": "execute_result",
          "data": {
            "text/plain": [
              "{'bootstrap': True,\n",
              " 'max_depth': 100,\n",
              " 'max_features': 'auto',\n",
              " 'min_samples_leaf': 4,\n",
              " 'min_samples_split': 2,\n",
              " 'n_estimators': 1200}"
            ]
          },
          "metadata": {
            "tags": []
          },
          "execution_count": 219
        }
      ]
    },
    {
      "cell_type": "code",
      "metadata": {
        "id": "xizrVSKwT0FA",
        "colab_type": "code",
        "colab": {}
      },
      "source": [
        "rf_rs = RandomForestRegressor(bootstrap=True, max_depth=100,\n",
        "                              max_features='auto', min_samples_leaf=4, min_samples_split=2, n_estimators=1200)\n",
        "rf_rs.fit(Xtrain, ytrain)\n",
        "\n",
        "pred = rf_rs.predict(Xval)"
      ],
      "execution_count": null,
      "outputs": []
    },
    {
      "cell_type": "code",
      "metadata": {
        "id": "LBW2kfKiUUWT",
        "colab_type": "code",
        "colab": {
          "base_uri": "https://localhost:8080/",
          "height": 88
        },
        "outputId": "c7c97c56-a173-4e6d-d5e8-f93f7d83befa"
      },
      "source": [
        "print(mae(yval, pred))\n",
        "print(mse(yval, pred))\n",
        "print(rmse(yval, pred))\n",
        "print(r2(yval, pred))"
      ],
      "execution_count": null,
      "outputs": [
        {
          "output_type": "stream",
          "text": [
            "0.31220122907597647\n",
            "0.21865960097341594\n",
            "0.4676105227359794\n",
            "0.20128986813068295\n"
          ],
          "name": "stdout"
        }
      ]
    },
    {
      "cell_type": "markdown",
      "metadata": {
        "id": "6mAn6emESwjr",
        "colab_type": "text"
      },
      "source": [
        "# Classificação - Fraude de Cartão de Crédito"
      ]
    },
    {
      "cell_type": "code",
      "metadata": {
        "id": "JnS5ksDlSxZT",
        "colab_type": "code",
        "colab": {
          "base_uri": "https://localhost:8080/",
          "height": 70
        },
        "outputId": "1b0ab046-20b9-4a7c-c5de-1977567f47f9"
      },
      "source": [
        "!kaggle datasets download --force mlg-ulb/creditcardfraud"
      ],
      "execution_count": null,
      "outputs": [
        {
          "output_type": "stream",
          "text": [
            "Downloading creditcardfraud.zip to /content\n",
            " 62% 41.0M/66.0M [00:00<00:00, 38.8MB/s]\n",
            "100% 66.0M/66.0M [00:00<00:00, 90.3MB/s]\n"
          ],
          "name": "stdout"
        }
      ]
    },
    {
      "cell_type": "code",
      "metadata": {
        "id": "SIYg1Wg1XwVy",
        "colab_type": "code",
        "colab": {
          "base_uri": "https://localhost:8080/",
          "height": 52
        },
        "outputId": "a81dd618-9381-4249-b7e9-6f590cc19a50"
      },
      "source": [
        "!unzip creditcardfraud.zip"
      ],
      "execution_count": null,
      "outputs": [
        {
          "output_type": "stream",
          "text": [
            "Archive:  creditcardfraud.zip\n",
            "replace creditcard.csv? [y]es, [n]o, [A]ll, [N]one, [r]ename: "
          ],
          "name": "stdout"
        }
      ]
    },
    {
      "cell_type": "code",
      "metadata": {
        "id": "oC5WFXsUYHWD",
        "colab_type": "code",
        "colab": {}
      },
      "source": [
        "df = pd.read_csv('creditcard.csv')"
      ],
      "execution_count": null,
      "outputs": []
    },
    {
      "cell_type": "code",
      "metadata": {
        "id": "Q9mt6lGFYSEC",
        "colab_type": "code",
        "colab": {
          "base_uri": "https://localhost:8080/",
          "height": 35
        },
        "outputId": "a716e529-ddec-4890-b881-3b1751bd3974"
      },
      "source": [
        "df.shape"
      ],
      "execution_count": null,
      "outputs": [
        {
          "output_type": "execute_result",
          "data": {
            "text/plain": [
              "(284807, 31)"
            ]
          },
          "metadata": {
            "tags": []
          },
          "execution_count": 225
        }
      ]
    },
    {
      "cell_type": "code",
      "metadata": {
        "id": "WGBnif7zYVJh",
        "colab_type": "code",
        "colab": {
          "base_uri": "https://localhost:8080/",
          "height": 214
        },
        "outputId": "1b1acab7-326b-4164-f217-aa712fae1cbf"
      },
      "source": [
        "df.head()"
      ],
      "execution_count": null,
      "outputs": [
        {
          "output_type": "execute_result",
          "data": {
            "text/html": [
              "<div>\n",
              "<style scoped>\n",
              "    .dataframe tbody tr th:only-of-type {\n",
              "        vertical-align: middle;\n",
              "    }\n",
              "\n",
              "    .dataframe tbody tr th {\n",
              "        vertical-align: top;\n",
              "    }\n",
              "\n",
              "    .dataframe thead th {\n",
              "        text-align: right;\n",
              "    }\n",
              "</style>\n",
              "<table border=\"1\" class=\"dataframe\">\n",
              "  <thead>\n",
              "    <tr style=\"text-align: right;\">\n",
              "      <th></th>\n",
              "      <th>Time</th>\n",
              "      <th>V1</th>\n",
              "      <th>V2</th>\n",
              "      <th>V3</th>\n",
              "      <th>V4</th>\n",
              "      <th>V5</th>\n",
              "      <th>V6</th>\n",
              "      <th>V7</th>\n",
              "      <th>V8</th>\n",
              "      <th>V9</th>\n",
              "      <th>V10</th>\n",
              "      <th>V11</th>\n",
              "      <th>V12</th>\n",
              "      <th>V13</th>\n",
              "      <th>V14</th>\n",
              "      <th>V15</th>\n",
              "      <th>V16</th>\n",
              "      <th>V17</th>\n",
              "      <th>V18</th>\n",
              "      <th>V19</th>\n",
              "      <th>V20</th>\n",
              "      <th>V21</th>\n",
              "      <th>V22</th>\n",
              "      <th>V23</th>\n",
              "      <th>V24</th>\n",
              "      <th>V25</th>\n",
              "      <th>V26</th>\n",
              "      <th>V27</th>\n",
              "      <th>V28</th>\n",
              "      <th>Amount</th>\n",
              "      <th>Class</th>\n",
              "    </tr>\n",
              "  </thead>\n",
              "  <tbody>\n",
              "    <tr>\n",
              "      <th>0</th>\n",
              "      <td>0.0</td>\n",
              "      <td>-1.359807</td>\n",
              "      <td>-0.072781</td>\n",
              "      <td>2.536347</td>\n",
              "      <td>1.378155</td>\n",
              "      <td>-0.338321</td>\n",
              "      <td>0.462388</td>\n",
              "      <td>0.239599</td>\n",
              "      <td>0.098698</td>\n",
              "      <td>0.363787</td>\n",
              "      <td>0.090794</td>\n",
              "      <td>-0.551600</td>\n",
              "      <td>-0.617801</td>\n",
              "      <td>-0.991390</td>\n",
              "      <td>-0.311169</td>\n",
              "      <td>1.468177</td>\n",
              "      <td>-0.470401</td>\n",
              "      <td>0.207971</td>\n",
              "      <td>0.025791</td>\n",
              "      <td>0.403993</td>\n",
              "      <td>0.251412</td>\n",
              "      <td>-0.018307</td>\n",
              "      <td>0.277838</td>\n",
              "      <td>-0.110474</td>\n",
              "      <td>0.066928</td>\n",
              "      <td>0.128539</td>\n",
              "      <td>-0.189115</td>\n",
              "      <td>0.133558</td>\n",
              "      <td>-0.021053</td>\n",
              "      <td>149.62</td>\n",
              "      <td>0</td>\n",
              "    </tr>\n",
              "    <tr>\n",
              "      <th>1</th>\n",
              "      <td>0.0</td>\n",
              "      <td>1.191857</td>\n",
              "      <td>0.266151</td>\n",
              "      <td>0.166480</td>\n",
              "      <td>0.448154</td>\n",
              "      <td>0.060018</td>\n",
              "      <td>-0.082361</td>\n",
              "      <td>-0.078803</td>\n",
              "      <td>0.085102</td>\n",
              "      <td>-0.255425</td>\n",
              "      <td>-0.166974</td>\n",
              "      <td>1.612727</td>\n",
              "      <td>1.065235</td>\n",
              "      <td>0.489095</td>\n",
              "      <td>-0.143772</td>\n",
              "      <td>0.635558</td>\n",
              "      <td>0.463917</td>\n",
              "      <td>-0.114805</td>\n",
              "      <td>-0.183361</td>\n",
              "      <td>-0.145783</td>\n",
              "      <td>-0.069083</td>\n",
              "      <td>-0.225775</td>\n",
              "      <td>-0.638672</td>\n",
              "      <td>0.101288</td>\n",
              "      <td>-0.339846</td>\n",
              "      <td>0.167170</td>\n",
              "      <td>0.125895</td>\n",
              "      <td>-0.008983</td>\n",
              "      <td>0.014724</td>\n",
              "      <td>2.69</td>\n",
              "      <td>0</td>\n",
              "    </tr>\n",
              "    <tr>\n",
              "      <th>2</th>\n",
              "      <td>1.0</td>\n",
              "      <td>-1.358354</td>\n",
              "      <td>-1.340163</td>\n",
              "      <td>1.773209</td>\n",
              "      <td>0.379780</td>\n",
              "      <td>-0.503198</td>\n",
              "      <td>1.800499</td>\n",
              "      <td>0.791461</td>\n",
              "      <td>0.247676</td>\n",
              "      <td>-1.514654</td>\n",
              "      <td>0.207643</td>\n",
              "      <td>0.624501</td>\n",
              "      <td>0.066084</td>\n",
              "      <td>0.717293</td>\n",
              "      <td>-0.165946</td>\n",
              "      <td>2.345865</td>\n",
              "      <td>-2.890083</td>\n",
              "      <td>1.109969</td>\n",
              "      <td>-0.121359</td>\n",
              "      <td>-2.261857</td>\n",
              "      <td>0.524980</td>\n",
              "      <td>0.247998</td>\n",
              "      <td>0.771679</td>\n",
              "      <td>0.909412</td>\n",
              "      <td>-0.689281</td>\n",
              "      <td>-0.327642</td>\n",
              "      <td>-0.139097</td>\n",
              "      <td>-0.055353</td>\n",
              "      <td>-0.059752</td>\n",
              "      <td>378.66</td>\n",
              "      <td>0</td>\n",
              "    </tr>\n",
              "    <tr>\n",
              "      <th>3</th>\n",
              "      <td>1.0</td>\n",
              "      <td>-0.966272</td>\n",
              "      <td>-0.185226</td>\n",
              "      <td>1.792993</td>\n",
              "      <td>-0.863291</td>\n",
              "      <td>-0.010309</td>\n",
              "      <td>1.247203</td>\n",
              "      <td>0.237609</td>\n",
              "      <td>0.377436</td>\n",
              "      <td>-1.387024</td>\n",
              "      <td>-0.054952</td>\n",
              "      <td>-0.226487</td>\n",
              "      <td>0.178228</td>\n",
              "      <td>0.507757</td>\n",
              "      <td>-0.287924</td>\n",
              "      <td>-0.631418</td>\n",
              "      <td>-1.059647</td>\n",
              "      <td>-0.684093</td>\n",
              "      <td>1.965775</td>\n",
              "      <td>-1.232622</td>\n",
              "      <td>-0.208038</td>\n",
              "      <td>-0.108300</td>\n",
              "      <td>0.005274</td>\n",
              "      <td>-0.190321</td>\n",
              "      <td>-1.175575</td>\n",
              "      <td>0.647376</td>\n",
              "      <td>-0.221929</td>\n",
              "      <td>0.062723</td>\n",
              "      <td>0.061458</td>\n",
              "      <td>123.50</td>\n",
              "      <td>0</td>\n",
              "    </tr>\n",
              "    <tr>\n",
              "      <th>4</th>\n",
              "      <td>2.0</td>\n",
              "      <td>-1.158233</td>\n",
              "      <td>0.877737</td>\n",
              "      <td>1.548718</td>\n",
              "      <td>0.403034</td>\n",
              "      <td>-0.407193</td>\n",
              "      <td>0.095921</td>\n",
              "      <td>0.592941</td>\n",
              "      <td>-0.270533</td>\n",
              "      <td>0.817739</td>\n",
              "      <td>0.753074</td>\n",
              "      <td>-0.822843</td>\n",
              "      <td>0.538196</td>\n",
              "      <td>1.345852</td>\n",
              "      <td>-1.119670</td>\n",
              "      <td>0.175121</td>\n",
              "      <td>-0.451449</td>\n",
              "      <td>-0.237033</td>\n",
              "      <td>-0.038195</td>\n",
              "      <td>0.803487</td>\n",
              "      <td>0.408542</td>\n",
              "      <td>-0.009431</td>\n",
              "      <td>0.798278</td>\n",
              "      <td>-0.137458</td>\n",
              "      <td>0.141267</td>\n",
              "      <td>-0.206010</td>\n",
              "      <td>0.502292</td>\n",
              "      <td>0.219422</td>\n",
              "      <td>0.215153</td>\n",
              "      <td>69.99</td>\n",
              "      <td>0</td>\n",
              "    </tr>\n",
              "  </tbody>\n",
              "</table>\n",
              "</div>"
            ],
            "text/plain": [
              "   Time        V1        V2        V3  ...       V27       V28  Amount  Class\n",
              "0   0.0 -1.359807 -0.072781  2.536347  ...  0.133558 -0.021053  149.62      0\n",
              "1   0.0  1.191857  0.266151  0.166480  ... -0.008983  0.014724    2.69      0\n",
              "2   1.0 -1.358354 -1.340163  1.773209  ... -0.055353 -0.059752  378.66      0\n",
              "3   1.0 -0.966272 -0.185226  1.792993  ...  0.062723  0.061458  123.50      0\n",
              "4   2.0 -1.158233  0.877737  1.548718  ...  0.219422  0.215153   69.99      0\n",
              "\n",
              "[5 rows x 31 columns]"
            ]
          },
          "metadata": {
            "tags": []
          },
          "execution_count": 226
        }
      ]
    },
    {
      "cell_type": "code",
      "metadata": {
        "id": "GjMBqnAMYWyJ",
        "colab_type": "code",
        "colab": {
          "base_uri": "https://localhost:8080/",
          "height": 956
        },
        "outputId": "4edbd43c-abf2-4fc3-a21b-ad1cbe8393f0"
      },
      "source": [
        "# DataFrame Auxiliar\n",
        "\n",
        "aux = pd.DataFrame({'colunas': df.columns, 'tipo': df.dtypes, 'missing': df.isna().sum(), 'size':df.shape[0], 'unicos': df.nunique()})\n",
        "aux['percentual'] = round(aux['missing'] / aux['size'],2)\n",
        "aux"
      ],
      "execution_count": null,
      "outputs": [
        {
          "output_type": "execute_result",
          "data": {
            "text/html": [
              "<div>\n",
              "<style scoped>\n",
              "    .dataframe tbody tr th:only-of-type {\n",
              "        vertical-align: middle;\n",
              "    }\n",
              "\n",
              "    .dataframe tbody tr th {\n",
              "        vertical-align: top;\n",
              "    }\n",
              "\n",
              "    .dataframe thead th {\n",
              "        text-align: right;\n",
              "    }\n",
              "</style>\n",
              "<table border=\"1\" class=\"dataframe\">\n",
              "  <thead>\n",
              "    <tr style=\"text-align: right;\">\n",
              "      <th></th>\n",
              "      <th>colunas</th>\n",
              "      <th>tipo</th>\n",
              "      <th>missing</th>\n",
              "      <th>size</th>\n",
              "      <th>unicos</th>\n",
              "      <th>percentual</th>\n",
              "    </tr>\n",
              "  </thead>\n",
              "  <tbody>\n",
              "    <tr>\n",
              "      <th>Time</th>\n",
              "      <td>Time</td>\n",
              "      <td>float64</td>\n",
              "      <td>0</td>\n",
              "      <td>284807</td>\n",
              "      <td>124592</td>\n",
              "      <td>0.0</td>\n",
              "    </tr>\n",
              "    <tr>\n",
              "      <th>V1</th>\n",
              "      <td>V1</td>\n",
              "      <td>float64</td>\n",
              "      <td>0</td>\n",
              "      <td>284807</td>\n",
              "      <td>275663</td>\n",
              "      <td>0.0</td>\n",
              "    </tr>\n",
              "    <tr>\n",
              "      <th>V2</th>\n",
              "      <td>V2</td>\n",
              "      <td>float64</td>\n",
              "      <td>0</td>\n",
              "      <td>284807</td>\n",
              "      <td>275663</td>\n",
              "      <td>0.0</td>\n",
              "    </tr>\n",
              "    <tr>\n",
              "      <th>V3</th>\n",
              "      <td>V3</td>\n",
              "      <td>float64</td>\n",
              "      <td>0</td>\n",
              "      <td>284807</td>\n",
              "      <td>275663</td>\n",
              "      <td>0.0</td>\n",
              "    </tr>\n",
              "    <tr>\n",
              "      <th>V4</th>\n",
              "      <td>V4</td>\n",
              "      <td>float64</td>\n",
              "      <td>0</td>\n",
              "      <td>284807</td>\n",
              "      <td>275663</td>\n",
              "      <td>0.0</td>\n",
              "    </tr>\n",
              "    <tr>\n",
              "      <th>V5</th>\n",
              "      <td>V5</td>\n",
              "      <td>float64</td>\n",
              "      <td>0</td>\n",
              "      <td>284807</td>\n",
              "      <td>275663</td>\n",
              "      <td>0.0</td>\n",
              "    </tr>\n",
              "    <tr>\n",
              "      <th>V6</th>\n",
              "      <td>V6</td>\n",
              "      <td>float64</td>\n",
              "      <td>0</td>\n",
              "      <td>284807</td>\n",
              "      <td>275663</td>\n",
              "      <td>0.0</td>\n",
              "    </tr>\n",
              "    <tr>\n",
              "      <th>V7</th>\n",
              "      <td>V7</td>\n",
              "      <td>float64</td>\n",
              "      <td>0</td>\n",
              "      <td>284807</td>\n",
              "      <td>275663</td>\n",
              "      <td>0.0</td>\n",
              "    </tr>\n",
              "    <tr>\n",
              "      <th>V8</th>\n",
              "      <td>V8</td>\n",
              "      <td>float64</td>\n",
              "      <td>0</td>\n",
              "      <td>284807</td>\n",
              "      <td>275663</td>\n",
              "      <td>0.0</td>\n",
              "    </tr>\n",
              "    <tr>\n",
              "      <th>V9</th>\n",
              "      <td>V9</td>\n",
              "      <td>float64</td>\n",
              "      <td>0</td>\n",
              "      <td>284807</td>\n",
              "      <td>275663</td>\n",
              "      <td>0.0</td>\n",
              "    </tr>\n",
              "    <tr>\n",
              "      <th>V10</th>\n",
              "      <td>V10</td>\n",
              "      <td>float64</td>\n",
              "      <td>0</td>\n",
              "      <td>284807</td>\n",
              "      <td>275663</td>\n",
              "      <td>0.0</td>\n",
              "    </tr>\n",
              "    <tr>\n",
              "      <th>V11</th>\n",
              "      <td>V11</td>\n",
              "      <td>float64</td>\n",
              "      <td>0</td>\n",
              "      <td>284807</td>\n",
              "      <td>275663</td>\n",
              "      <td>0.0</td>\n",
              "    </tr>\n",
              "    <tr>\n",
              "      <th>V12</th>\n",
              "      <td>V12</td>\n",
              "      <td>float64</td>\n",
              "      <td>0</td>\n",
              "      <td>284807</td>\n",
              "      <td>275663</td>\n",
              "      <td>0.0</td>\n",
              "    </tr>\n",
              "    <tr>\n",
              "      <th>V13</th>\n",
              "      <td>V13</td>\n",
              "      <td>float64</td>\n",
              "      <td>0</td>\n",
              "      <td>284807</td>\n",
              "      <td>275663</td>\n",
              "      <td>0.0</td>\n",
              "    </tr>\n",
              "    <tr>\n",
              "      <th>V14</th>\n",
              "      <td>V14</td>\n",
              "      <td>float64</td>\n",
              "      <td>0</td>\n",
              "      <td>284807</td>\n",
              "      <td>275663</td>\n",
              "      <td>0.0</td>\n",
              "    </tr>\n",
              "    <tr>\n",
              "      <th>V15</th>\n",
              "      <td>V15</td>\n",
              "      <td>float64</td>\n",
              "      <td>0</td>\n",
              "      <td>284807</td>\n",
              "      <td>275663</td>\n",
              "      <td>0.0</td>\n",
              "    </tr>\n",
              "    <tr>\n",
              "      <th>V16</th>\n",
              "      <td>V16</td>\n",
              "      <td>float64</td>\n",
              "      <td>0</td>\n",
              "      <td>284807</td>\n",
              "      <td>275663</td>\n",
              "      <td>0.0</td>\n",
              "    </tr>\n",
              "    <tr>\n",
              "      <th>V17</th>\n",
              "      <td>V17</td>\n",
              "      <td>float64</td>\n",
              "      <td>0</td>\n",
              "      <td>284807</td>\n",
              "      <td>275663</td>\n",
              "      <td>0.0</td>\n",
              "    </tr>\n",
              "    <tr>\n",
              "      <th>V18</th>\n",
              "      <td>V18</td>\n",
              "      <td>float64</td>\n",
              "      <td>0</td>\n",
              "      <td>284807</td>\n",
              "      <td>275663</td>\n",
              "      <td>0.0</td>\n",
              "    </tr>\n",
              "    <tr>\n",
              "      <th>V19</th>\n",
              "      <td>V19</td>\n",
              "      <td>float64</td>\n",
              "      <td>0</td>\n",
              "      <td>284807</td>\n",
              "      <td>275663</td>\n",
              "      <td>0.0</td>\n",
              "    </tr>\n",
              "    <tr>\n",
              "      <th>V20</th>\n",
              "      <td>V20</td>\n",
              "      <td>float64</td>\n",
              "      <td>0</td>\n",
              "      <td>284807</td>\n",
              "      <td>275663</td>\n",
              "      <td>0.0</td>\n",
              "    </tr>\n",
              "    <tr>\n",
              "      <th>V21</th>\n",
              "      <td>V21</td>\n",
              "      <td>float64</td>\n",
              "      <td>0</td>\n",
              "      <td>284807</td>\n",
              "      <td>275663</td>\n",
              "      <td>0.0</td>\n",
              "    </tr>\n",
              "    <tr>\n",
              "      <th>V22</th>\n",
              "      <td>V22</td>\n",
              "      <td>float64</td>\n",
              "      <td>0</td>\n",
              "      <td>284807</td>\n",
              "      <td>275663</td>\n",
              "      <td>0.0</td>\n",
              "    </tr>\n",
              "    <tr>\n",
              "      <th>V23</th>\n",
              "      <td>V23</td>\n",
              "      <td>float64</td>\n",
              "      <td>0</td>\n",
              "      <td>284807</td>\n",
              "      <td>275663</td>\n",
              "      <td>0.0</td>\n",
              "    </tr>\n",
              "    <tr>\n",
              "      <th>V24</th>\n",
              "      <td>V24</td>\n",
              "      <td>float64</td>\n",
              "      <td>0</td>\n",
              "      <td>284807</td>\n",
              "      <td>275663</td>\n",
              "      <td>0.0</td>\n",
              "    </tr>\n",
              "    <tr>\n",
              "      <th>V25</th>\n",
              "      <td>V25</td>\n",
              "      <td>float64</td>\n",
              "      <td>0</td>\n",
              "      <td>284807</td>\n",
              "      <td>275663</td>\n",
              "      <td>0.0</td>\n",
              "    </tr>\n",
              "    <tr>\n",
              "      <th>V26</th>\n",
              "      <td>V26</td>\n",
              "      <td>float64</td>\n",
              "      <td>0</td>\n",
              "      <td>284807</td>\n",
              "      <td>275663</td>\n",
              "      <td>0.0</td>\n",
              "    </tr>\n",
              "    <tr>\n",
              "      <th>V27</th>\n",
              "      <td>V27</td>\n",
              "      <td>float64</td>\n",
              "      <td>0</td>\n",
              "      <td>284807</td>\n",
              "      <td>275663</td>\n",
              "      <td>0.0</td>\n",
              "    </tr>\n",
              "    <tr>\n",
              "      <th>V28</th>\n",
              "      <td>V28</td>\n",
              "      <td>float64</td>\n",
              "      <td>0</td>\n",
              "      <td>284807</td>\n",
              "      <td>275663</td>\n",
              "      <td>0.0</td>\n",
              "    </tr>\n",
              "    <tr>\n",
              "      <th>Amount</th>\n",
              "      <td>Amount</td>\n",
              "      <td>float64</td>\n",
              "      <td>0</td>\n",
              "      <td>284807</td>\n",
              "      <td>32767</td>\n",
              "      <td>0.0</td>\n",
              "    </tr>\n",
              "    <tr>\n",
              "      <th>Class</th>\n",
              "      <td>Class</td>\n",
              "      <td>int64</td>\n",
              "      <td>0</td>\n",
              "      <td>284807</td>\n",
              "      <td>2</td>\n",
              "      <td>0.0</td>\n",
              "    </tr>\n",
              "  </tbody>\n",
              "</table>\n",
              "</div>"
            ],
            "text/plain": [
              "       colunas     tipo  missing    size  unicos  percentual\n",
              "Time      Time  float64        0  284807  124592         0.0\n",
              "V1          V1  float64        0  284807  275663         0.0\n",
              "V2          V2  float64        0  284807  275663         0.0\n",
              "V3          V3  float64        0  284807  275663         0.0\n",
              "V4          V4  float64        0  284807  275663         0.0\n",
              "V5          V5  float64        0  284807  275663         0.0\n",
              "V6          V6  float64        0  284807  275663         0.0\n",
              "V7          V7  float64        0  284807  275663         0.0\n",
              "V8          V8  float64        0  284807  275663         0.0\n",
              "V9          V9  float64        0  284807  275663         0.0\n",
              "V10        V10  float64        0  284807  275663         0.0\n",
              "V11        V11  float64        0  284807  275663         0.0\n",
              "V12        V12  float64        0  284807  275663         0.0\n",
              "V13        V13  float64        0  284807  275663         0.0\n",
              "V14        V14  float64        0  284807  275663         0.0\n",
              "V15        V15  float64        0  284807  275663         0.0\n",
              "V16        V16  float64        0  284807  275663         0.0\n",
              "V17        V17  float64        0  284807  275663         0.0\n",
              "V18        V18  float64        0  284807  275663         0.0\n",
              "V19        V19  float64        0  284807  275663         0.0\n",
              "V20        V20  float64        0  284807  275663         0.0\n",
              "V21        V21  float64        0  284807  275663         0.0\n",
              "V22        V22  float64        0  284807  275663         0.0\n",
              "V23        V23  float64        0  284807  275663         0.0\n",
              "V24        V24  float64        0  284807  275663         0.0\n",
              "V25        V25  float64        0  284807  275663         0.0\n",
              "V26        V26  float64        0  284807  275663         0.0\n",
              "V27        V27  float64        0  284807  275663         0.0\n",
              "V28        V28  float64        0  284807  275663         0.0\n",
              "Amount  Amount  float64        0  284807   32767         0.0\n",
              "Class    Class    int64        0  284807       2         0.0"
            ]
          },
          "metadata": {
            "tags": []
          },
          "execution_count": 227
        }
      ]
    },
    {
      "cell_type": "code",
      "metadata": {
        "id": "LIOei6H3Ydap",
        "colab_type": "code",
        "colab": {
          "base_uri": "https://localhost:8080/",
          "height": 70
        },
        "outputId": "3485ce23-477b-4233-8442-1076d539525c"
      },
      "source": [
        "df['Class'].value_counts()"
      ],
      "execution_count": null,
      "outputs": [
        {
          "output_type": "execute_result",
          "data": {
            "text/plain": [
              "0    284315\n",
              "1       492\n",
              "Name: Class, dtype: int64"
            ]
          },
          "metadata": {
            "tags": []
          },
          "execution_count": 228
        }
      ]
    },
    {
      "cell_type": "markdown",
      "metadata": {
        "id": "qY1YaUSEaA0E",
        "colab_type": "text"
      },
      "source": [
        "# Split e Scaler"
      ]
    },
    {
      "cell_type": "code",
      "metadata": {
        "id": "9G_mfZMNZ_3N",
        "colab_type": "code",
        "colab": {}
      },
      "source": [
        "X = df.drop('Class',1)\n",
        "y = df['Class']\n",
        "\n",
        "\n",
        "from sklearn.model_selection import train_test_split\n",
        "Xtrain, Xval, ytrain, yval  = train_test_split(X, y, test_size = 0.33, random_state = 42)"
      ],
      "execution_count": null,
      "outputs": []
    },
    {
      "cell_type": "code",
      "metadata": {
        "id": "lrZErh1xZbQL",
        "colab_type": "code",
        "colab": {}
      },
      "source": [
        "from sklearn.preprocessing import MinMaxScaler\n",
        "\n",
        "scaler = MinMaxScaler()\n",
        "\n",
        "Xtrain = pd.DataFrame(scaler.fit_transform(Xtrain))\n",
        "Xval = pd.DataFrame(scaler.transform(Xval))"
      ],
      "execution_count": null,
      "outputs": []
    },
    {
      "cell_type": "code",
      "metadata": {
        "id": "YJ3vPaLAcse4",
        "colab_type": "code",
        "colab": {}
      },
      "source": [
        "from sklearn.svm import SVC\n",
        "svc = SVC()\n",
        "\n",
        "svc.fit(Xtrain, ytrain)\n",
        "\n",
        "pred = svc.predict(Xval)"
      ],
      "execution_count": null,
      "outputs": []
    },
    {
      "cell_type": "code",
      "metadata": {
        "id": "vtoDrT-hfNsD",
        "colab_type": "code",
        "colab": {
          "base_uri": "https://localhost:8080/",
          "height": 35
        },
        "outputId": "bd0ecf69-6587-415d-fcb7-698e89107ed7"
      },
      "source": [
        "# Accuracy\n",
        "\n",
        "svc.score(Xval, yval)"
      ],
      "execution_count": null,
      "outputs": [
        {
          "output_type": "execute_result",
          "data": {
            "text/plain": [
              "0.9993722536095417"
            ]
          },
          "metadata": {
            "tags": []
          },
          "execution_count": 232
        }
      ]
    },
    {
      "cell_type": "code",
      "metadata": {
        "id": "A82Vdfm3eYSZ",
        "colab_type": "code",
        "colab": {
          "base_uri": "https://localhost:8080/",
          "height": 52
        },
        "outputId": "7fa86d9b-35a0-48f2-b830-cbd654c2a8d7"
      },
      "source": [
        "from sklearn.metrics import confusion_matrix\n",
        "confusion_matrix(yval, pred)"
      ],
      "execution_count": null,
      "outputs": [
        {
          "output_type": "execute_result",
          "data": {
            "text/plain": [
              "array([[93805,    33],\n",
              "       [   26,   123]])"
            ]
          },
          "metadata": {
            "tags": []
          },
          "execution_count": 233
        }
      ]
    },
    {
      "cell_type": "code",
      "metadata": {
        "id": "87Kcn0Vtevbv",
        "colab_type": "code",
        "colab": {
          "base_uri": "https://localhost:8080/",
          "height": 177
        },
        "outputId": "225d1c06-00ee-4b12-9bab-6ce86e70123d"
      },
      "source": [
        "from sklearn.metrics import classification_report\n",
        "print(classification_report(yval, pred))"
      ],
      "execution_count": null,
      "outputs": [
        {
          "output_type": "stream",
          "text": [
            "              precision    recall  f1-score   support\n",
            "\n",
            "           0       1.00      1.00      1.00     93838\n",
            "           1       0.79      0.83      0.81       149\n",
            "\n",
            "    accuracy                           1.00     93987\n",
            "   macro avg       0.89      0.91      0.90     93987\n",
            "weighted avg       1.00      1.00      1.00     93987\n",
            "\n"
          ],
          "name": "stdout"
        }
      ]
    },
    {
      "cell_type": "markdown",
      "metadata": {
        "id": "xCENzyothNij",
        "colab_type": "text"
      },
      "source": [
        "# Imblearn"
      ]
    },
    {
      "cell_type": "markdown",
      "metadata": {
        "id": "6r7bHDe_hPza",
        "colab_type": "text"
      },
      "source": [
        "https://imbalanced-learn.readthedocs.io/en/stable/generated/imblearn.combine.SMOTETomek.html"
      ]
    },
    {
      "cell_type": "code",
      "metadata": {
        "id": "voShKBcZexNP",
        "colab_type": "code",
        "colab": {
          "base_uri": "https://localhost:8080/",
          "height": 215
        },
        "outputId": "2eccf8ac-1e3a-4a6a-c8ed-5c2ce726f68c"
      },
      "source": [
        "%%time\n",
        "from imblearn.combine import SMOTETomek\n",
        "sm = SMOTETomek(sampling_strategy=0.75)\n",
        "Xres, yres = sm.fit_resample(Xtrain, ytrain)"
      ],
      "execution_count": null,
      "outputs": [
        {
          "output_type": "stream",
          "text": [
            "/usr/local/lib/python3.6/dist-packages/sklearn/externals/six.py:31: FutureWarning: The module is deprecated in version 0.21 and will be removed in version 0.23 since we've dropped support for Python 2.7. Please rely on the official version of six (https://pypi.org/project/six/).\n",
            "  \"(https://pypi.org/project/six/).\", FutureWarning)\n",
            "/usr/local/lib/python3.6/dist-packages/sklearn/utils/deprecation.py:144: FutureWarning: The sklearn.neighbors.base module is  deprecated in version 0.22 and will be removed in version 0.24. The corresponding classes / functions should instead be imported from sklearn.neighbors. Anything that cannot be imported from sklearn.neighbors is now part of the private API.\n",
            "  warnings.warn(message, FutureWarning)\n",
            "/usr/local/lib/python3.6/dist-packages/sklearn/utils/deprecation.py:87: FutureWarning: Function safe_indexing is deprecated; safe_indexing is deprecated in version 0.22 and will be removed in version 0.24.\n",
            "  warnings.warn(msg, category=FutureWarning)\n"
          ],
          "name": "stderr"
        },
        {
          "output_type": "stream",
          "text": [
            "CPU times: user 3min 14s, sys: 66 ms, total: 3min 14s\n",
            "Wall time: 3min 15s\n"
          ],
          "name": "stdout"
        },
        {
          "output_type": "stream",
          "text": [
            "/usr/local/lib/python3.6/dist-packages/sklearn/utils/deprecation.py:87: FutureWarning: Function safe_indexing is deprecated; safe_indexing is deprecated in version 0.22 and will be removed in version 0.24.\n",
            "  warnings.warn(msg, category=FutureWarning)\n"
          ],
          "name": "stderr"
        }
      ]
    },
    {
      "cell_type": "code",
      "metadata": {
        "id": "jovzrwB_hn3E",
        "colab_type": "code",
        "colab": {
          "base_uri": "https://localhost:8080/",
          "height": 70
        },
        "outputId": "3c063341-8378-4c8b-8f2f-4eab8dd0eb90"
      },
      "source": [
        "pd.Series(yres).value_counts()"
      ],
      "execution_count": null,
      "outputs": [
        {
          "output_type": "execute_result",
          "data": {
            "text/plain": [
              "0    190477\n",
              "1    142857\n",
              "dtype: int64"
            ]
          },
          "metadata": {
            "tags": []
          },
          "execution_count": 236
        }
      ]
    },
    {
      "cell_type": "code",
      "metadata": {
        "id": "qe2S-MsiiYcG",
        "colab_type": "code",
        "colab": {}
      },
      "source": [
        "%%time\n",
        "from sklearn.svm import SVC\n",
        "svc = SVC(probability=True)\n",
        "\n",
        "svc.fit(Xres, yres)\n",
        "\n",
        "pred = svc.predict(Xval)"
      ],
      "execution_count": null,
      "outputs": []
    },
    {
      "cell_type": "code",
      "metadata": {
        "id": "sf4ZV0Qyifm1",
        "colab_type": "code",
        "colab": {}
      },
      "source": [
        "confusion_matrix(yval, pred)"
      ],
      "execution_count": null,
      "outputs": []
    },
    {
      "cell_type": "code",
      "metadata": {
        "id": "Fmr9tafPij8K",
        "colab_type": "code",
        "colab": {}
      },
      "source": [
        "print(classification_report(yval, pred))"
      ],
      "execution_count": null,
      "outputs": []
    },
    {
      "cell_type": "code",
      "metadata": {
        "id": "05S57eTtnCEO",
        "colab_type": "code",
        "colab": {}
      },
      "source": [
        "prob = svc.predict_proba(Xval)"
      ],
      "execution_count": null,
      "outputs": []
    },
    {
      "cell_type": "code",
      "metadata": {
        "id": "6dWxQ84HqVma",
        "colab_type": "code",
        "colab": {}
      },
      "source": [
        "import scikitplot as skplt\n",
        "skplt.metrics.plot_roc_curve(yval, prob, figsize=(8,8), curves='each_class')"
      ],
      "execution_count": null,
      "outputs": []
    },
    {
      "cell_type": "code",
      "metadata": {
        "id": "__VkJ3-Kqavr",
        "colab_type": "code",
        "colab": {}
      },
      "source": [
        "0 - 0.5 -> 1"
      ],
      "execution_count": null,
      "outputs": []
    }
  ]
}